{
 "cells": [
  {
   "cell_type": "markdown",
   "metadata": {},
   "source": [
    "# Cronograma\n",
    "\n",
    "Cronograma dos projetos de pesquisa, extensão e inovação vigentes."
   ]
  },
  {
   "cell_type": "code",
   "execution_count": 1,
   "metadata": {
    "scrolled": false,
    "tags": [
     "remove-input",
     "full-width"
    ]
   },
   "outputs": [
    {
     "ename": "ModuleNotFoundError",
     "evalue": "No module named 'plotly'",
     "output_type": "error",
     "traceback": [
      "\u001b[0;31m---------------------------------------------------------------------------\u001b[0m",
      "\u001b[0;31mModuleNotFoundError\u001b[0m                       Traceback (most recent call last)",
      "Cell \u001b[0;32mIn [1], line 2\u001b[0m\n\u001b[1;32m      1\u001b[0m \u001b[38;5;66;03m#Bibliotecas\u001b[39;00m\n\u001b[0;32m----> 2\u001b[0m \u001b[38;5;28;01mimport\u001b[39;00m \u001b[38;5;21;01mplotly\u001b[39;00m\u001b[38;5;21;01m.\u001b[39;00m\u001b[38;5;21;01mexpress\u001b[39;00m \u001b[38;5;28;01mas\u001b[39;00m \u001b[38;5;21;01mpx\u001b[39;00m\n\u001b[1;32m      3\u001b[0m \u001b[38;5;28;01mimport\u001b[39;00m \u001b[38;5;21;01mpandas\u001b[39;00m \u001b[38;5;28;01mas\u001b[39;00m \u001b[38;5;21;01mpd\u001b[39;00m\n\u001b[1;32m      4\u001b[0m \u001b[38;5;28;01mfrom\u001b[39;00m \u001b[38;5;21;01mdatetime\u001b[39;00m \u001b[38;5;28;01mimport\u001b[39;00m date\n",
      "\u001b[0;31mModuleNotFoundError\u001b[0m: No module named 'plotly'"
     ]
    }
   ],
   "source": [
    "#Bibliotecas\n",
    "import plotly.express as px\n",
    "import pandas as pd\n",
    "from datetime import date\n",
    "\n",
    "#Leitura de dados\n",
    "df = pd.read_csv('projetos.csv')\n",
    "\n",
    "#Converte para data\n",
    "df['Start'] = df['Start'].apply(pd.to_datetime) \n",
    "df['Finish'] = df['Finish'].apply(pd.to_datetime) \n",
    "\n",
    "#Cria a coluna da carga horária com o texto\n",
    "hora = lambda x : str(x)+' horas' if (x>1) else str(x)+' hora' #Coloca hora no plural ou singular\n",
    "df['Carga horaria'] = df['Carga'].apply(hora)\n",
    "\n",
    "#Apenas projetos ainda não finalizados\n",
    "df = df[df['Finish'] > pd.to_datetime(date.today())] \n",
    "\n",
    "\n",
    "\n",
    "fig = px.timeline(df, \n",
    "                  title='Cronograma',\n",
    "                  x_start=\"Start\", \n",
    "                  x_end=\"Finish\", \n",
    "                  y=\"Task\", \n",
    "                  color=\"Tipo\",\n",
    "                  hover_name='Titulo',\n",
    "                  hover_data={\n",
    "                      'Task': False,\n",
    "                      'Start': False,\n",
    "                      'Finish': False,\n",
    "                      'Tipo': False,\n",
    "                      'Função': True,\n",
    "                      'Carga horaria': True,\n",
    "                      'Titulo': False,\n",
    "                      \n",
    "                  }\n",
    "                 )\n",
    "fig.update_yaxes(autorange=\"reversed\", title_text='Projeto')\n",
    "fig.update_xaxes(title_text='Tempo')\n",
    "# fig.update_layout(showlegend=True, \n",
    "#                   legend=dict(orientation:'h'))\n",
    "\n",
    "fig.update_layout(\n",
    "    legend=dict(\n",
    "        orientation=\"h\",\n",
    "        yanchor=\"top\",\n",
    "        y=1.1,\n",
    "        xanchor=\"center\",\n",
    "        x=0.5,\n",
    "        title=''\n",
    "        )\n",
    "    )\n",
    "\n",
    "\n",
    "fig.show()"
   ]
  },
  {
   "cell_type": "code",
   "execution_count": null,
   "metadata": {
    "tags": [
     "remove-cell"
    ]
   },
   "outputs": [],
   "source": [
    "print('ok')"
   ]
  },
  {
   "cell_type": "code",
   "execution_count": null,
   "metadata": {},
   "outputs": [],
   "source": []
  }
 ],
 "metadata": {
  "celltoolbar": "Tags",
  "kernelspec": {
   "display_name": "Python 3 (ipykernel)",
   "language": "python",
   "name": "python3"
  },
  "language_info": {
   "codemirror_mode": {
    "name": "ipython",
    "version": 3
   },
   "file_extension": ".py",
   "mimetype": "text/x-python",
   "name": "python",
   "nbconvert_exporter": "python",
   "pygments_lexer": "ipython3",
   "version": "3.9.15"
  }
 },
 "nbformat": 4,
 "nbformat_minor": 4
}