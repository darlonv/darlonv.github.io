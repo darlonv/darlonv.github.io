{
 "cells": [
  {
   "cell_type": "markdown",
   "id": "854d0c91",
   "metadata": {},
   "source": [
    "# Trabalho 01"
   ]
  },
  {
   "cell_type": "markdown",
   "id": "e5d3fac1",
   "metadata": {},
   "source": [
    "## 01"
   ]
  },
  {
   "cell_type": "markdown",
   "id": "9980c92b",
   "metadata": {},
   "source": [
    "Implemente duas funções retornam os valores de P.A. e P.G., respectivamente. Como entrada, são passados o valor inicial, a razão e o número de elementos da progressão."
   ]
  },
  {
   "cell_type": "code",
   "execution_count": null,
   "id": "2c4d2110",
   "metadata": {},
   "outputs": [],
   "source": []
  },
  {
   "cell_type": "markdown",
   "id": "c4c6e16f",
   "metadata": {},
   "source": [
    "## 02"
   ]
  },
  {
   "cell_type": "markdown",
   "id": "3cff0b13",
   "metadata": {},
   "source": [
    "Você possui como entrada uma *string* de caracteres disponíveis e uma *string* que representa um documento que deverá ser gerado. Escreva uma função que responde se é possível gerar o documento usando os caracteres disponíveis. Caso o documento possa ser gerado, sua função deve retornar `True`, e caso contrário, deve retornar `False`.\n",
    "\n",
    "Você só poderá gerar o documento se a frequência de caracteres únicos na sequência de caracteres disponíveis for maior ou igual à frequência de caracteres exclusivos na sequência do documento. Por exemplo, se você receber `characters = \"abcabc\"` e `document = \"aabbccc\"`, o documento não poderá ser gerado, visto que está faltando um `c`.\n",
    "\n",
    "O documento a ser gerado pode conter quaisquer caracteres, incluindo caracteres especiais, letras maiúsculas, números e espaços.\n",
    "\n",
    "\n",
    "**Exemplo**  \n",
    "- Entrada:  \n",
    "```python\n",
    "characters = \"aheaollabbhb\"\n",
    "document = \"hello\"\n",
    "```\n",
    "- Saída:\n",
    "```python\n",
    "True\n",
    "```\n",
    "\n",
    "**Exemplo**\n",
    "- Entrada:  \n",
    "```python\n",
    "characters = \"estssa\"\n",
    "document = \"testing\"\n",
    "```\n",
    "- Saída:\n",
    "```python\n",
    "False\n",
    "```"
   ]
  },
  {
   "cell_type": "code",
   "execution_count": 1,
   "id": "9d394171",
   "metadata": {},
   "outputs": [],
   "source": [
    "def generateDocument(characters, document):\n",
    "\n",
    "    #Escreva aqui seu código\n",
    "\n",
    "\n",
    "    pass"
   ]
  },
  {
   "cell_type": "code",
   "execution_count": 2,
   "id": "e7ce7592",
   "metadata": {},
   "outputs": [
    {
     "name": "stdout",
     "output_type": "stream",
     "text": [
      "Um ou mais testes falharam.\n"
     ]
    }
   ],
   "source": [
    "##Execute esta célula para testar seu código\n",
    "def test_generateDocument():\n",
    "    assert generateDocument(\"A\",  \"a\") == False\n",
    "    assert generateDocument(\"a\",  \"a\") == True\n",
    "    assert generateDocument(\"a hsgalhsa sanbjksbdkjba kjx\", \"\") == True\n",
    "    assert generateDocument(\" \",  \"hello\") == False\n",
    "    assert generateDocument(\"     \",  \"     \") == True\n",
    "    assert generateDocument( \"aheaollabbhb\",  \"hello\") == True\n",
    "    assert generateDocument(\"aheaolabbhb\",  \"hello\") == False\n",
    "    assert generateDocument(  \"estssa\",  \"testing\") == False\n",
    "    assert generateDocument(  \"helloworld \",  \"hello wOrld\") == False\n",
    "    assert generateDocument(\"helloworldO\",  \"hello wOrld\") == False\n",
    "    assert generateDocument(\"helloworldO \",  \"hello wOrld\") == True\n",
    "    assert generateDocument(\"&*&you^a%^&8766 _=-09     docanCMakemthisdocument\",  \"Can you make this document &\") == True\n",
    "    assert generateDocument(  \"abcabcabcacbcdaabc\",  \"bacaccadac\") == True\n",
    "\n",
    "try:\n",
    "    test_generateDocument()\n",
    "    print('Todos os testes foram executados com sucesso.')\n",
    "except:\n",
    "    print('Um ou mais testes falharam.')"
   ]
  },
  {
   "cell_type": "code",
   "execution_count": null,
   "id": "3502e94c",
   "metadata": {},
   "outputs": [],
   "source": []
  },
  {
   "cell_type": "markdown",
   "id": "52b395e3",
   "metadata": {},
   "source": [
    "## 03"
   ]
  },
  {
   "cell_type": "markdown",
   "id": "3defd240",
   "metadata": {},
   "source": [
    "Você recebeu a tarefa de descobrir quais são os endereços IP que mais acessam determinado site. Para isso, considere que você possui como entrada diversos endereços IP, e precisa registrar essa contagem. \n",
    "\n",
    "Desenvolva um sistema que recebe diversos endereços IP como entrada, e mostra os 3 endereços IP com o maior número de acessos. Na entrada, considere que uma entrada com um único`.` indica que não serão mais inseridos endereços.  \n",
    "\n",
    "Caso haja empate no número de acessos em IP's a serem mostrados, todos os endereços devem ser apresentados.\n",
    "\n",
    "Utilize dicionários em sua solução.\n",
    "\n",
    "**Nota**\n",
    "\n",
    "Um endereço IP consiste em 4 valores inteiros, que podem de `0` a `255`, separados por `.`\n",
    "\n",
    "**Exemplo**  \n",
    "\n",
    "- Entrada:\n",
    "\n",
    "```  \n",
    "203.5.236.5\n",
    "160.168.53.64\n",
    "203.5.236.5\n",
    "202.28.228.107\n",
    "203.5.236.5\n",
    "95.239.190.211\n",
    "160.168.53.64\n",
    "202.28.228.107\n",
    "160.168.53.64\n",
    "202.28.228.107\n",
    "160.168.53.64\n",
    "203.5.236.5\n",
    "202.28.228.107\n",
    "203.5.236.5\n",
    "202.28.228.107\n",
    ".\n",
    "```\n",
    "\n",
    "- Saída:\n",
    "\n",
    "```\n",
    "5 203.5.236.5\n",
    "5 202.28.228.107\n",
    "4 160.168.53.64\n",
    "```"
   ]
  },
  {
   "cell_type": "code",
   "execution_count": null,
   "id": "bf3a5dad",
   "metadata": {},
   "outputs": [],
   "source": []
  },
  {
   "cell_type": "markdown",
   "id": "a0b8bcb0",
   "metadata": {},
   "source": [
    "## 04"
   ]
  },
  {
   "cell_type": "markdown",
   "id": "bf2a724e",
   "metadata": {},
   "source": [
    "Implemente uma função chamada perfeito, que retorna `True` caso o valor passado por\n",
    "parâmetro seja um número perfeito, e `False` caso contrário. Um número perfeito é aquele que é igual à soma de todos os seus divisores, exceto ele próprio.  \n",
    "\n",
    "> **Exemplo**\n",
    ">\n",
    "> $6$ é um número perfeito, pois $6=1+2+3$.\n",
    "> ```python\n",
    "perfeito(6) #retorna True\n",
    "> ```"
   ]
  },
  {
   "cell_type": "code",
   "execution_count": null,
   "id": "08d98690",
   "metadata": {},
   "outputs": [],
   "source": []
  }
 ],
 "metadata": {
  "kernelspec": {
   "display_name": "Python 3 (ipykernel)",
   "language": "python",
   "name": "python3"
  },
  "language_info": {
   "codemirror_mode": {
    "name": "ipython",
    "version": 3
   },
   "file_extension": ".py",
   "mimetype": "text/x-python",
   "name": "python",
   "nbconvert_exporter": "python",
   "pygments_lexer": "ipython3",
   "version": "3.8.10"
  }
 },
 "nbformat": 4,
 "nbformat_minor": 5
}
