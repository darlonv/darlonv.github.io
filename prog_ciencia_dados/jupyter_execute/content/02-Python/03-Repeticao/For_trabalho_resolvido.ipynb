{
 "cells": [
  {
   "cell_type": "markdown",
   "metadata": {},
   "source": [
    "# Trabalho"
   ]
  },
  {
   "cell_type": "markdown",
   "metadata": {},
   "source": [
    "Responda às questões abaixo, utilizando a linguagem de programação Python. Utilize apenas estruturas e operações trabalhadas nas atividades de aula.\n",
    "\n",
    "Entre as atividades código executado, de maneira que seja possível visualizar as entradas utilizadas e as saídas geradas pelo seu código."
   ]
  },
  {
   "cell_type": "markdown",
   "metadata": {},
   "source": [
    "## Item 1\n",
    "\n",
    "Desenvolva uma aplicação que pergunta `n` valores inteiros ao usuário. Após a entrada dos dados, a aplicação deve informar se os dados estão ordenados de maneira crescente, ordenados de maneira decrescente ou desordenados. Caso haja dois valores iguais em sequência, os valores são considerados como ordenados."
   ]
  },
  {
   "cell_type": "markdown",
   "metadata": {},
   "source": [
    "Nos exemplos apresentados abaixo, o primeiro valor corresponde ao número `n`, que indica a quantidade de valores que serão digitados.  \n",
    "\n",
    "**Exemplo**  \n",
    "- Entrada:\n",
    "```\n",
    "10\n",
    "1\n",
    "3\n",
    "5\n",
    "7\n",
    "9\n",
    "10\n",
    "13\n",
    "15\n",
    "17\n",
    "19\n",
    "```\n",
    "- Saída:\n",
    "```\n",
    "Os valores estão ordenados numericamente de maneira crescente.\n",
    "```\n",
    "\n",
    "**Exemplo**  \n",
    "- Entrada:\n",
    "```\n",
    "5\n",
    "9\n",
    "8\n",
    "7\n",
    "3\n",
    "2\n",
    "```\n",
    "- Saída:\n",
    "```\n",
    "Os valores estão ordenados numericamente de maneira decrescente.\n",
    "```\n",
    "\n",
    "**Exemplo**  \n",
    "- Entrada:\n",
    "```\n",
    "7\n",
    "1\n",
    "2\n",
    "3\n",
    "4\n",
    "2\n",
    "6\n",
    "7\n",
    "```\n",
    "- Saída:\n",
    "```\n",
    "Os valores estão desordenados numericamente.\n",
    "```\n",
    "\n",
    "**Exemplo**  \n",
    "- Entrada:\n",
    "```\n",
    "4\n",
    "1\n",
    "3\n",
    "3\n",
    "5\n",
    "```\n",
    "- Saída:\n",
    "```\n",
    "Os valores estão ordenados numericamente de maneira crescente.\n",
    "```"
   ]
  },
  {
   "cell_type": "code",
   "execution_count": 1,
   "metadata": {},
   "outputs": [
    {
     "ename": "StdinNotImplementedError",
     "evalue": "raw_input was called, but this frontend does not support input requests.",
     "output_type": "error",
     "traceback": [
      "\u001b[0;31m---------------------------------------------------------------------------\u001b[0m",
      "\u001b[0;31mStdinNotImplementedError\u001b[0m                  Traceback (most recent call last)",
      "Cell \u001b[0;32mIn [1], line 4\u001b[0m\n\u001b[1;32m      1\u001b[0m cresc \u001b[38;5;241m=\u001b[39m \u001b[38;5;28;01mTrue\u001b[39;00m\n\u001b[1;32m      2\u001b[0m decresc \u001b[38;5;241m=\u001b[39m \u001b[38;5;28;01mTrue\u001b[39;00m\n\u001b[0;32m----> 4\u001b[0m n \u001b[38;5;241m=\u001b[39m \u001b[38;5;28mint\u001b[39m(\u001b[38;5;28minput\u001b[39m())\n\u001b[1;32m      5\u001b[0m \u001b[38;5;28;01mif\u001b[39;00m n\u001b[38;5;241m>\u001b[39m\u001b[38;5;241m0\u001b[39m:\n\u001b[1;32m      6\u001b[0m     k_ant \u001b[38;5;241m=\u001b[39m \u001b[38;5;28mint\u001b[39m(\u001b[38;5;28minput\u001b[39m())\n",
      "File \u001b[0;32m~/Pesquisa/env/lib/python3.8/site-packages/ipykernel/kernelbase.py:1174\u001b[0m, in \u001b[0;36mKernel.raw_input\u001b[0;34m(self, prompt)\u001b[0m\n\u001b[1;32m   1167\u001b[0m \u001b[38;5;124;03m\"\"\"Forward raw_input to frontends\u001b[39;00m\n\u001b[1;32m   1168\u001b[0m \n\u001b[1;32m   1169\u001b[0m \u001b[38;5;124;03mRaises\u001b[39;00m\n\u001b[1;32m   1170\u001b[0m \u001b[38;5;124;03m------\u001b[39;00m\n\u001b[1;32m   1171\u001b[0m \u001b[38;5;124;03mStdinNotImplementedError if active frontend doesn't support stdin.\u001b[39;00m\n\u001b[1;32m   1172\u001b[0m \u001b[38;5;124;03m\"\"\"\u001b[39;00m\n\u001b[1;32m   1173\u001b[0m \u001b[38;5;28;01mif\u001b[39;00m \u001b[38;5;129;01mnot\u001b[39;00m \u001b[38;5;28mself\u001b[39m\u001b[38;5;241m.\u001b[39m_allow_stdin:\n\u001b[0;32m-> 1174\u001b[0m     \u001b[38;5;28;01mraise\u001b[39;00m StdinNotImplementedError(\n\u001b[1;32m   1175\u001b[0m         \u001b[38;5;124m\"\u001b[39m\u001b[38;5;124mraw_input was called, but this frontend does not support input requests.\u001b[39m\u001b[38;5;124m\"\u001b[39m\n\u001b[1;32m   1176\u001b[0m     )\n\u001b[1;32m   1177\u001b[0m \u001b[38;5;28;01mreturn\u001b[39;00m \u001b[38;5;28mself\u001b[39m\u001b[38;5;241m.\u001b[39m_input_request(\n\u001b[1;32m   1178\u001b[0m     \u001b[38;5;28mstr\u001b[39m(prompt),\n\u001b[1;32m   1179\u001b[0m     \u001b[38;5;28mself\u001b[39m\u001b[38;5;241m.\u001b[39m_parent_ident[\u001b[38;5;124m\"\u001b[39m\u001b[38;5;124mshell\u001b[39m\u001b[38;5;124m\"\u001b[39m],\n\u001b[1;32m   1180\u001b[0m     \u001b[38;5;28mself\u001b[39m\u001b[38;5;241m.\u001b[39mget_parent(\u001b[38;5;124m\"\u001b[39m\u001b[38;5;124mshell\u001b[39m\u001b[38;5;124m\"\u001b[39m),\n\u001b[1;32m   1181\u001b[0m     password\u001b[38;5;241m=\u001b[39m\u001b[38;5;28;01mFalse\u001b[39;00m,\n\u001b[1;32m   1182\u001b[0m )\n",
      "\u001b[0;31mStdinNotImplementedError\u001b[0m: raw_input was called, but this frontend does not support input requests."
     ]
    }
   ],
   "source": [
    "cresc = True\n",
    "decresc = True\n",
    "\n",
    "n = int(input())\n",
    "if n>0:\n",
    "    k_ant = int(input())\n",
    "    \n",
    "for i in range(1,n):\n",
    "    k = int(input())\n",
    "    if k_ant > k: \n",
    "        cresc = False\n",
    "    if k_ant < k: \n",
    "        decresc = False\n",
    "    k_ant = k\n",
    "\n",
    "if cresc: print('Os valores estão ordenados numericamente de maneira crescente.')\n",
    "    \n",
    "if decresc: print('Os valores estão ordenados numericamente de maneira decrescente.')\n",
    "    \n",
    "if not cresc and not decresc:\n",
    "    print('Os valores estão desordenados numericamente.')"
   ]
  },
  {
   "cell_type": "markdown",
   "metadata": {
    "slideshow": {
     "slide_type": "subslide"
    }
   },
   "source": [
    "## Item 2\n",
    "Pergunte ao usuário dois números inteiros, $x$ e $y$, e mostre todos os números perfeitos no intervalo $[x,y]$.  \n",
    "Um número `n` é dito perfeito, se `n` for inteiro, positivo, e se $n$ for igual à soma de seus divisores positivos e diferentes de $n$. Exemplo: O número $6$ é perfeito, pois $6=3+2+1$.\n",
    "\n",
    "**Exemplo**\n",
    "- Entrada:\n",
    "```\n",
    "2\n",
    "10\n",
    "```\n",
    "- Saída:\n",
    "```\n",
    "Os números perfeitos no intervalo [ 2 , 10 ] são:\n",
    "6\n",
    "```\n",
    "\n",
    "**Exemplo**\n",
    "- Entrada:\n",
    "```\n",
    "8\n",
    "20\n",
    "```\n",
    "- Saída:\n",
    "```\n",
    "Os números perfeitos no intervalo [ 8 , 20 ] são:\n",
    "não há números perfeitos no intervalo.\n",
    "```"
   ]
  },
  {
   "cell_type": "code",
   "execution_count": null,
   "metadata": {},
   "outputs": [],
   "source": [
    "ini = int(input())\n",
    "fim = int(input())\n",
    "\n",
    "nenhum = True\n",
    "\n",
    "print('Os números perfeitos no intervalo [',ini,',',fim,'] são:')\n",
    "for n in range(ini,fim+1):\n",
    "    s = 0\n",
    "    for i in range(1,n):\n",
    "        if n%i==0:\n",
    "            s+=i\n",
    "    if s==n:\n",
    "        print(n)\n",
    "        nenhum = False\n",
    "        \n",
    "if nenhum:\n",
    "    print('não há números perfeitos no intervalo.')"
   ]
  },
  {
   "cell_type": "markdown",
   "metadata": {
    "slideshow": {
     "slide_type": "subslide"
    }
   },
   "source": [
    "## Item 3\n",
    "\n",
    "Faça um programa que pergunte $n$ ao usuário, tal que $n$ corresponde ao número de linhas, que devem ser impressas de acordo com o padrão mostrado no exemplo.\n",
    "\n",
    "**Dica**:\n",
    "Pode ser utilizado parâmetro `end=''` na função `print` para que não seja feita a quebra da linha na saída do `print`. \n",
    "```\n",
    "print(1)\n",
    "print(2)\n",
    "saída:\n",
    "1\n",
    "2\n",
    "print(1,end='')\n",
    "print(2)\n",
    "saída:\n",
    "12\n",
    "```\n",
    "\n",
    "**Exemplo**\n",
    "- Entrada:\n",
    "```\n",
    "10\n",
    "```\n",
    "- Saída:\n",
    "```\n",
    "*\n",
    "*-\n",
    "*-*\n",
    "*-*-\n",
    "*-*-*\n",
    "*-*-*-\n",
    "*-*-*-*\n",
    "*-*-*-*-\n",
    "*-*-*-*-*\n",
    "*-*-*-*-*-\n",
    "```"
   ]
  },
  {
   "cell_type": "code",
   "execution_count": null,
   "metadata": {},
   "outputs": [],
   "source": [
    "n = int(input())+1\n",
    "for i in range(n):\n",
    "    for j in range(i):\n",
    "        if j%2==0:\n",
    "            print('*', end='')\n",
    "        else:\n",
    "            print('-',end='')\n",
    "    print()"
   ]
  },
  {
   "cell_type": "code",
   "execution_count": null,
   "metadata": {},
   "outputs": [],
   "source": []
  }
 ],
 "metadata": {
  "kernelspec": {
   "display_name": "Python 3 (ipykernel)",
   "language": "python",
   "name": "python3"
  },
  "language_info": {
   "codemirror_mode": {
    "name": "ipython",
    "version": 3
   },
   "file_extension": ".py",
   "mimetype": "text/x-python",
   "name": "python",
   "nbconvert_exporter": "python",
   "pygments_lexer": "ipython3",
   "version": "3.8.10"
  }
 },
 "nbformat": 4,
 "nbformat_minor": 4
}