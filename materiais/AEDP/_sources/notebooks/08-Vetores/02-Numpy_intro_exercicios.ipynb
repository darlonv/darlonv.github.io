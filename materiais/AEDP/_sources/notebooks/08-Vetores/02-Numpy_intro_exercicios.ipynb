{
 "cells": [
  {
   "cell_type": "markdown",
   "metadata": {},
   "source": [
    "# Exercícios"
   ]
  },
  {
   "cell_type": "markdown",
   "metadata": {},
   "source": [
    "**Exercício**"
   ]
  },
  {
   "cell_type": "code",
   "execution_count": null,
   "metadata": {},
   "outputs": [],
   "source": []
  },
  {
   "cell_type": "markdown",
   "metadata": {},
   "source": [
    "Crie um *array* numpy de uma dimensão, com números de $0$ a $9$.\n",
    "\n",
    "Saída:\n",
    "```py\n",
    "array([0, 1, 2, 3, 4, 5, 6, 7, 8, 9])\n",
    "```"
   ]
  },
  {
   "cell_type": "code",
   "execution_count": null,
   "metadata": {},
   "outputs": [],
   "source": []
  },
  {
   "cell_type": "markdown",
   "metadata": {},
   "source": [
    "**Exercício**"
   ]
  },
  {
   "cell_type": "markdown",
   "metadata": {},
   "source": [
    "Crie um *array* numpy de ordem 5x5 somente com valores `True`.\n",
    "\n",
    "Saída:\n",
    "```\n",
    "array([[ True,  True,  True,  True,  True],\n",
    "       [ True,  True,  True,  True,  True],\n",
    "       [ True,  True,  True,  True,  True],\n",
    "       [ True,  True,  True,  True,  True],\n",
    "       [ True,  True,  True,  True,  True]])\n",
    "```"
   ]
  },
  {
   "cell_type": "code",
   "execution_count": null,
   "metadata": {},
   "outputs": [],
   "source": []
  },
  {
   "cell_type": "markdown",
   "metadata": {},
   "source": [
    "**Exercício**"
   ]
  },
  {
   "cell_type": "markdown",
   "metadata": {},
   "source": [
    "Crie um *array* numpy com valores aleatórios. Em seguida, mostre apenas os valores ímpares presentes no *array*."
   ]
  },
  {
   "cell_type": "code",
   "execution_count": null,
   "metadata": {},
   "outputs": [],
   "source": []
  },
  {
   "cell_type": "markdown",
   "metadata": {},
   "source": [
    "**Exercício**"
   ]
  },
  {
   "cell_type": "markdown",
   "metadata": {},
   "source": [
    "Crie um *array* numpy com valores de 1 a 19. Em seguida, substitua todos os valores pares por -1."
   ]
  },
  {
   "cell_type": "code",
   "execution_count": null,
   "metadata": {},
   "outputs": [],
   "source": []
  },
  {
   "cell_type": "markdown",
   "metadata": {},
   "source": [
    "**Exercício**"
   ]
  },
  {
   "cell_type": "markdown",
   "metadata": {},
   "source": [
    "Crie um *array* com posições de 0 a 9, e transforme-o em um array com os valores organizados em duas colunas.\n",
    "\n",
    "Saída:\n",
    "```\n",
    "array([[0, 1],\n",
    "       [2, 3],\n",
    "       [4, 5],\n",
    "       [6, 7],\n",
    "       [8, 9]])\n",
    "```\n"
   ]
  },
  {
   "cell_type": "code",
   "execution_count": null,
   "metadata": {},
   "outputs": [],
   "source": []
  },
  {
   "cell_type": "markdown",
   "metadata": {},
   "source": [
    "**Exercício**"
   ]
  },
  {
   "cell_type": "markdown",
   "metadata": {},
   "source": [
    "Crie um array com posições de 0 a 9, e transforme-o em um array com os valores organizados em uma única coluna.\n",
    "\n",
    "Saída:\n",
    "```\n",
    "array([[0],\n",
    "       [1],\n",
    "       [2],\n",
    "       [3],\n",
    "       [4],\n",
    "       [5],\n",
    "       [6],\n",
    "       [7],\n",
    "       [8],\n",
    "       [9]])\n",
    "```"
   ]
  },
  {
   "cell_type": "code",
   "execution_count": null,
   "metadata": {},
   "outputs": [],
   "source": []
  },
  {
   "cell_type": "code",
   "execution_count": null,
   "metadata": {},
   "outputs": [],
   "source": []
  },
  {
   "cell_type": "markdown",
   "metadata": {},
   "source": [
    "**Exercício**"
   ]
  },
  {
   "cell_type": "markdown",
   "metadata": {},
   "source": [
    "Transforme os arrays `x`e `y`\n",
    "```python\n",
    "x = np.array([1, 3, 5, 7, 8, 6, 4, 2, 0, 11])\n",
    "y = np.array([2, 4, 6, 8, 7, 5, 3, 1, 0, 12])\n",
    "```\n",
    "em um array de duas dimensões, concatenando-os verticalmente em duas colunas.\n",
    "\n",
    "Saída:\n",
    "```python\n",
    "array([[1, 2],\n",
    "       [3, 4],\n",
    "       [5, 6],\n",
    "       [7, 8],\n",
    "       [8, 7],\n",
    "       [6, 5],\n",
    "       [4, 3],\n",
    "       [2, 1],\n",
    "       [0, 0],\n",
    "       [11, 12]])\n",
    "```\n",
    "\n"
   ]
  },
  {
   "cell_type": "code",
   "execution_count": null,
   "metadata": {},
   "outputs": [],
   "source": []
  },
  {
   "cell_type": "markdown",
   "metadata": {},
   "source": [
    "**Exercício**"
   ]
  },
  {
   "cell_type": "markdown",
   "metadata": {},
   "source": [
    "Crie um *array* numpy com valores de 100 a 200, de forma que a diferença entre cada elemento seja 10.\n",
    "\n",
    "**Exemplo** \n",
    "\n",
    "- Saída:\n",
    "```\n",
    "array([100, 110, 120, 130, 140, 150, 160, 170, 180, 190])\n",
    "```"
   ]
  },
  {
   "cell_type": "code",
   "execution_count": null,
   "metadata": {},
   "outputs": [],
   "source": []
  },
  {
   "cell_type": "code",
   "execution_count": null,
   "metadata": {},
   "outputs": [],
   "source": []
  },
  {
   "cell_type": "markdown",
   "metadata": {},
   "source": [
    "## Referências\n",
    "\n",
    "[PRABHAKARAN, S. 101 NumPy Exercises for Data Analysis (Python). Machine Learning Plus, 2018.](https://www.machinelearningplus.com/python/101-numpy-exercises-python/)\n",
    "\n",
    "[ROUGIER, N. P. 100 numpy exercises.](https://github.com/rougier/numpy-100/blob/master/100_Numpy_exercises.ipynb)"
   ]
  },
  {
   "cell_type": "markdown",
   "metadata": {},
   "source": [
    " "
   ]
  }
 ],
 "metadata": {
  "kernelspec": {
   "display_name": "Python 3",
   "language": "python",
   "name": "python3"
  },
  "language_info": {
   "codemirror_mode": {
    "name": "ipython",
    "version": 3
   },
   "file_extension": ".py",
   "mimetype": "text/x-python",
   "name": "python",
   "nbconvert_exporter": "python",
   "pygments_lexer": "ipython3",
   "version": "3.6.8"
  }
 },
 "nbformat": 4,
 "nbformat_minor": 2
}
