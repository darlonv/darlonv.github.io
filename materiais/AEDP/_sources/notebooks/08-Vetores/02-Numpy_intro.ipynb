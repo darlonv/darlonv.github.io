{
 "cells": [
  {
   "cell_type": "markdown",
   "metadata": {},
   "source": [
    "# Numpy\n",
    "\n",
    "Numpy é uma biblioteca Python voltada para computação científica. Possui implementações bastante otimizadas para utilização de *arrays* ou vetores."
   ]
  },
  {
   "cell_type": "markdown",
   "metadata": {},
   "source": [
    "Para que o acesso às estruturas seja possível, é necessário a importação da biblioteca. É comum e uma boa prática renomear a biblioteca para `np`.\n",
    "\n",
    "\n",
    "**Exemplo**  \n",
    "\n",
    "```python\n",
    "import numpy as np\n",
    "```\n",
    "\n",
    "**Atividade**\n",
    "- Importe a biblioteca numpy."
   ]
  },
  {
   "cell_type": "code",
   "execution_count": null,
   "metadata": {},
   "outputs": [],
   "source": []
  },
  {
   "cell_type": "markdown",
   "metadata": {},
   "source": [
    "## *Arrays*\n",
    "O *array* numpy é uma lista de valores, indexada por uma tupla de inteiros não negativos. O número de dimensões do **array** é o *rank* do **array**. O *shape* de um *array* é uma tupla de inteiros, dado o tamanho do *array* em cada dimensão definida. Nesta atividade, trataremos como sinônimos **array** e **vetor**.\n",
    "\n",
    "Para criar um *array*, pode-se utilizar o método `.array()`.\n",
    "\n",
    "**Exemplo**\n",
    "\n",
    "Crie um vetor de uma dimensão\n",
    "```python\n",
    "a = np.array([1, 2, 3])\n",
    "```"
   ]
  },
  {
   "cell_type": "code",
   "execution_count": null,
   "metadata": {},
   "outputs": [],
   "source": []
  },
  {
   "cell_type": "markdown",
   "metadata": {},
   "source": [
    "Para observar os tipos dos dados:\n",
    "\n",
    "**Exemplo**\n",
    "\n",
    "```python\n",
    "print(a)\n",
    "```"
   ]
  },
  {
   "cell_type": "code",
   "execution_count": null,
   "metadata": {},
   "outputs": [],
   "source": []
  },
  {
   "cell_type": "markdown",
   "metadata": {},
   "source": [
    "**Atividade**\n",
    "- Observe o tipo do dado do *array* e dos valores armazenados.\n",
    "```python\n",
    "print(type(a))\n",
    "print(type(a[0]), type(a[1]),type(a[2]))\n",
    "```"
   ]
  },
  {
   "cell_type": "code",
   "execution_count": null,
   "metadata": {},
   "outputs": [],
   "source": []
  },
  {
   "cell_type": "markdown",
   "metadata": {},
   "source": [
    "**Atividade**\n",
    "- Observe o formato do vetor.\n",
    "```python\n",
    "print (a.shape)\n",
    "```"
   ]
  },
  {
   "cell_type": "code",
   "execution_count": null,
   "metadata": {},
   "outputs": [],
   "source": []
  },
  {
   "cell_type": "markdown",
   "metadata": {},
   "source": [
    "Para acessar os elementos individualmente, pode-se utilizar a posição da mesma forma como é feito com sequências.\n",
    "\n",
    "**Exemplo**\n",
    "\n",
    "```python\n",
    "print(a[0], a[1], a[2])\n",
    "```"
   ]
  },
  {
   "cell_type": "code",
   "execution_count": null,
   "metadata": {},
   "outputs": [],
   "source": []
  },
  {
   "cell_type": "markdown",
   "metadata": {},
   "source": [
    "**Atividade**\n",
    "- Execute os códigos a seguir, e observe o resultado.\n",
    "```python\n",
    "print(a)\n",
    "a[0]=100 #Altera o valor armazenado na posição 0\n",
    "print(a)\n",
    "```\n"
   ]
  },
  {
   "cell_type": "code",
   "execution_count": null,
   "metadata": {},
   "outputs": [],
   "source": []
  },
  {
   "cell_type": "markdown",
   "metadata": {},
   "source": [
    "Todos os dados armazenados devem ser do mesmo tipo. Caso não sejam, serão convertidos a um tipo em comum.\n",
    "\n",
    "**Exemplo**\n",
    "```python\n",
    "arr_st = np.array(['a', 5.4, 2]) #todos os dados como string\n",
    "arr_ft = np.array([1  , 5.4, 2]) #todos os dados como float\n",
    "\n",
    "print(f'{arr_st}')\n",
    "print(f'{arr_ft}')\n",
    "```"
   ]
  },
  {
   "cell_type": "code",
   "execution_count": null,
   "metadata": {},
   "outputs": [],
   "source": []
  },
  {
   "cell_type": "markdown",
   "metadata": {},
   "source": [
    "**Atividade**\n",
    "\n",
    "- Crie um outro vetor, com o seguinte formato  \n",
    "```python\n",
    "b = np.array([[1,2,3], [4,5,6]])\n",
    "```\n",
    "    - Compare os *arrays* `a` e `b`. Qual é a diferença?"
   ]
  },
  {
   "cell_type": "code",
   "execution_count": null,
   "metadata": {},
   "outputs": [],
   "source": []
  },
  {
   "cell_type": "markdown",
   "metadata": {},
   "source": [
    "**Atividade**\n",
    "\n",
    "- Execute o código abaixo, e o quê é mostrado.  \n",
    "```python\n",
    "print(b[1])\n",
    "print(b[1][1])\n",
    "```\n"
   ]
  },
  {
   "cell_type": "code",
   "execution_count": null,
   "metadata": {},
   "outputs": [],
   "source": []
  },
  {
   "cell_type": "markdown",
   "metadata": {},
   "source": [
    "## *Reshape*\n",
    "É possível alterar o formato do *array*. Execute os código abaixo passo a passo, observando o resultado:\n",
    "```python\n",
    "arr = np.arange(10)\n",
    "print(arr)\n",
    "print(arr.shape)\n",
    "arr.reshape(5,2)\n",
    "arr.reshape(2,5)\n",
    "```\n",
    "**Sintaxe**\n",
    "\n",
    "`.reshape(l,c)`  \n",
    "onde:\n",
    "- `l`: número de linhas\n",
    "- `c`: número de colunas\n",
    "\n",
    "O valor `l*c` deve corresponder à quantidade total de elementos no *array*."
   ]
  },
  {
   "cell_type": "code",
   "execution_count": null,
   "metadata": {},
   "outputs": [],
   "source": []
  },
  {
   "cell_type": "markdown",
   "metadata": {},
   "source": [
    "É possível definir a ordem do *array* sem conhecer uma de suas dimensões. Para isto, basta substituir o número de linhas ou colunas por `-1`.  \n",
    "\n",
    "**Exemplo**\n",
    "\n",
    "```python\n",
    "arr = np.arange(10)\n",
    "arr.reshape(5,-1)\n",
    "arr.reshape(-1,5)\n",
    "arr.reshape(2,-1)\n",
    "arr.reshape(-1,2)\n",
    "```"
   ]
  },
  {
   "cell_type": "code",
   "execution_count": null,
   "metadata": {},
   "outputs": [],
   "source": []
  },
  {
   "cell_type": "markdown",
   "metadata": {},
   "source": [
    "**Atividade**\n",
    "\n",
    "- Crie um *array* com 100 elementos contendo inteiros em sequência. Em seguida, organize esses valores em 10 colunas.\n",
    "    - Organize o mesmo *array* em 25 colunas."
   ]
  },
  {
   "cell_type": "code",
   "execution_count": null,
   "metadata": {},
   "outputs": [],
   "source": []
  },
  {
   "cell_type": "markdown",
   "metadata": {},
   "source": [
    "## Tipos de dados\n",
    "\n",
    "**Exemplo**  \n",
    "- Observe os tipos de dados armazenados\n",
    "```python\n",
    "print(a.dtype)\n",
    "```"
   ]
  },
  {
   "cell_type": "code",
   "execution_count": null,
   "metadata": {},
   "outputs": [],
   "source": []
  },
  {
   "cell_type": "markdown",
   "metadata": {},
   "source": [
    "**Atividade**\n",
    "\n",
    "- Compare o resultado do código anterior com os tipos de dados dos vetores abaixo, e explique o que ocorreu.\n",
    "\n",
    "```python\n",
    "x=np.array([1, 2])\n",
    "y=np.array([1.0, 2.0])\n",
    "z=np.array([1, 2], dtype=np.int64)\n",
    "```"
   ]
  },
  {
   "cell_type": "code",
   "execution_count": null,
   "metadata": {},
   "outputs": [],
   "source": []
  },
  {
   "cell_type": "markdown",
   "metadata": {},
   "source": [
    "## Criação de arrays\n",
    "\n",
    "**Atividade**  \n",
    "\n",
    "- Teste as funções abaixo, e observe o vetor retornado por cada função.\n",
    "```python\n",
    "np.zeros((2,2))\n",
    "np.ones((3,3))\n",
    "np.full((4,4),9)\n",
    "np.eye(5)\n",
    "np.random.random((6,6))\n",
    "```"
   ]
  },
  {
   "cell_type": "code",
   "execution_count": null,
   "metadata": {},
   "outputs": [],
   "source": []
  },
  {
   "cell_type": "markdown",
   "metadata": {},
   "source": [
    "Outras funções podem ser utilizadas para obter valores igualmente espaçados entre si.\n",
    "\n",
    "**Exemplo**  \n",
    "\n",
    "```python\n",
    "np.linspace(0,10,5)\n",
    "np.linspace(0,10,3)\n",
    "np.linspace(0,10,11)\n",
    "```\n",
    "**Sintaxe**\n",
    "\n",
    "```python\n",
    ".linspace(i,f,n)\n",
    "```\n",
    "Onde:\n",
    "- `i`: valor inicial\n",
    "- `f`: valor final\n",
    "- `n`: quantidade de valores\n",
    "No método `linspace`, os valores de saída são do tipo `float` (`numpy.float64`)."
   ]
  },
  {
   "cell_type": "code",
   "execution_count": null,
   "metadata": {},
   "outputs": [],
   "source": []
  },
  {
   "cell_type": "markdown",
   "metadata": {},
   "source": [
    "## *Slicing*\n",
    "\n",
    "Semelhantes às listas em Python, os arrays numpy possibilitam o *slicing*. Como os arrays podem possuir diversas dimensões, é necessário identificar o *slice* para cada dimensão.  \n",
    "```python\n",
    "a = np.array([[1,2,3,4], [5,6,7,8], [9,10,11,12]])\n",
    "b = a[:2, 1:3]\n",
    "```\n",
    "\n",
    "Significado:\n",
    "```python\n",
    ":2: linhas 0 a 1  \n",
    "1:3: colunas 1 a 2\n",
    "```\n",
    "**Atividade**\n",
    "- Observe o conteúdo dos vetores `a` e `b`."
   ]
  },
  {
   "cell_type": "code",
   "execution_count": null,
   "metadata": {},
   "outputs": [],
   "source": []
  },
  {
   "cell_type": "markdown",
   "metadata": {},
   "source": [
    "**Atividade**\n",
    "- Como seria para mostrar apenas as colunas `1` e `3` utilizando *slices*?"
   ]
  },
  {
   "cell_type": "code",
   "execution_count": null,
   "metadata": {},
   "outputs": [],
   "source": []
  },
  {
   "cell_type": "markdown",
   "metadata": {},
   "source": [
    "**Atividade**\n",
    "\n",
    "- Execute o código abaixo, e observe os resultados.\n",
    "```python\n",
    "b = a[[0,2], 2]  \n",
    "c = a[[0,2,2], [0,2,3]]\n",
    "```\n",
    "\n",
    "    - O que ocorreu em `b` e `c`?"
   ]
  },
  {
   "cell_type": "code",
   "execution_count": null,
   "metadata": {},
   "outputs": [],
   "source": []
  },
  {
   "cell_type": "markdown",
   "metadata": {},
   "source": [
    "## Alterações em *slices*\n",
    "\n",
    "**Atividade**\n",
    "\n",
    "- Observe o array `a`\n",
    "- Execute:\n",
    "```python\n",
    "c = a[:2, 1:3]\n",
    "```\n",
    "- Observe o array `c`\n",
    "- Execute:\n",
    "```python\n",
    "c[0][0]=20\n",
    "```\n",
    "- Observe o array `a` e explique o resultado."
   ]
  },
  {
   "cell_type": "code",
   "execution_count": null,
   "metadata": {},
   "outputs": [],
   "source": []
  },
  {
   "cell_type": "markdown",
   "metadata": {},
   "source": [
    "<!-- **Atividade**\n",
    "\n",
    "- O que ocorre com as operações abaixo?\n",
    "```python\n",
    "a = np.array([[1,2,3], [4,5,6], [7,8,9], [10, 11, 12]])\n",
    "b = np.array(0, 2, 0, 1)\n",
    "```\n",
    "- Explique o resultado ocorrido. -->\n"
   ]
  },
  {
   "cell_type": "markdown",
   "metadata": {},
   "source": [
    "## Referências\n",
    "\n",
    "[HARRIS. C.R. Millman, K.J, van der Walt, S.J. et al. Array programming with NumPy. Nature 585, 357-362, 2020](https://www.nature.com/articles/s41586-020-2649-2) [PDF](https://www.nature.com/articles/s41586-020-2649-2.pdf)\n",
    "\n",
    "**Outros materiais**\n",
    "\n"
   ]
  },
  {
   "cell_type": "markdown",
   "metadata": {},
   "source": [
    " "
   ]
  }
 ],
 "metadata": {
  "kernelspec": {
   "display_name": "Python 3",
   "language": "python",
   "name": "python3"
  },
  "language_info": {
   "codemirror_mode": {
    "name": "ipython",
    "version": 3
   },
   "file_extension": ".py",
   "mimetype": "text/x-python",
   "name": "python",
   "nbconvert_exporter": "python",
   "pygments_lexer": "ipython3",
   "version": "3.6.8"
  }
 },
 "nbformat": 4,
 "nbformat_minor": 2
}
