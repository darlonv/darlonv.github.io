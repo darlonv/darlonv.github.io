{
 "cells": [
  {
   "cell_type": "markdown",
   "metadata": {},
   "source": [
    "# Vetores"
   ]
  },
  {
   "cell_type": "markdown",
   "metadata": {},
   "source": [
    "Um vetor ou *array* é uma posição contígua de memória, alocada para determinada finalidade. Nativamente, em Python as funcionalidades dos vetores foram substituídas pelas listas. Neste momento, veremos o conceito de vetores, muito comum em linguagens de programação compiladas."
   ]
  },
  {
   "cell_type": "markdown",
   "metadata": {},
   "source": [
    "Nestes exemplos, utilizaremos trechos de código em linguagem de programação C, dada a possibilidade de acesso direto às posições de memória alocadas pelas variáveis."
   ]
  },
  {
   "cell_type": "markdown",
   "metadata": {},
   "source": [
    "**Exemplo**\n",
    "- Declaração de uma variável em C. Com a declaração, o sistema operacional sabe quanto de memória será necessário reservar para o programa.\n",
    "```c\n",
    "#include<stdio.h>\n",
    "int main(void)\n",
    "{\n",
    "        //Declara um inteiro\n",
    "        int k; \n",
    "        //Mostra quanto de memória a variável ocupa\n",
    "        printf(\"tamanho: %d\\n\", sizeof(k));//4 bytes\n",
    "    \n",
    "        //Mostra a localização da variável na memória\n",
    "        printf(\"local  : %p\\'n\", &k);//0x7ffde71031fc (varia a cada execução)\n",
    "\n",
    "        return 0;\n",
    "}\n",
    "```\n",
    "\n",
    "Observamos que a quantidade de memória ocupada por uma variável do tipo inteiro é de 4 *bytes*. A posição de memória é apresentada utilizando valores em hexadecimal. O operador `&` é utilizado para obter o endereço da variável."
   ]
  },
  {
   "cell_type": "markdown",
   "metadata": {},
   "source": [
    "Ao declarar um vetor, é necessário informar quantas posições terá o vetor."
   ]
  },
  {
   "cell_type": "markdown",
   "metadata": {},
   "source": [
    "**Exemplo**  \n",
    "- Declaração de um vetor de inteiros com 5 posições\n",
    "```c\n",
    "#include<stdio.h>\n",
    "int main(void)\n",
    "{\n",
    "        //Declara um vetor com 5 posições\n",
    "        int vi[5]; //vi: vetor de int\n",
    "        //preenche as posições do vetor\n",
    "        vi[0] = 10;\n",
    "        vi[1] = 11;\n",
    "        vi[2] = 12;\n",
    "        vi[3] = 13;\n",
    "        vi[4] = 14;\n",
    "\n",
    "        printf(\"local vi     : %x\\n\", (void *) vi);\n",
    "        printf(\"local vi[0]  : %x\\n\", (void *) &vi[0]);\n",
    "        printf(\"local vi[1]  : %x\\n\", (void *) &vi[1]);\n",
    "        printf(\"local vi[2]  : %x\\n\", (void *) &vi[2]);\n",
    "        printf(\"local vi[3]  : %x\\n\", (void *) &vi[3]);\n",
    "        printf(\"local vi[4]  : %x\\n\", (void *) &vi[4]);\n",
    "            \n",
    "        return 0;\n",
    "}\n",
    "```\n",
    "- Saída:\n",
    "```\n",
    "local vi     : 0x7ffd3df68610\n",
    "local vi[0]  : 0x7ffd3df68610\n",
    "local vi[1]  : 0x7ffd3df68614\n",
    "local vi[2]  : 0x7ffd3df68618\n",
    "local vi[3]  : 0x7ffd3df6861c\n",
    "local vi[4]  : 0x7ffd3df68620\n",
    "```\n",
    "\n",
    "Observando os resultados apresentados, vemos os endereços do vetor em si e de cada posição de seus elementos. Repare:\n",
    "- `vi` e `vi[0]` estão ocupando a mesma localização na memória.\n",
    "- Na declaração do vetor, é informado seu tipo, neste caso `int`, que ocupa 4 *bytes*.\n",
    "- A diferença dos endereços de cada posição é exatamente 4, concluindo que cada posição armazena 4 *bytes*.\n",
    "- Perceba que para mostrar a posição de `vi`, no código, não é utilizado o `&`, visto que o que a variável `vi` armazena não é um inteiro, e sim uma posição de memória.\n",
    "    - Com isto, as demais posições de memória são obtidas a partir deste endereço inicial.\n",
    "    - Para acessar uma posição de memória é necessário saber o tamanho que o tipo de dado armazenado ocupa.\n",
    "    - Para acessar, basta a partir do endereço inicial (`vi`) \"andar\" `i` vezes o tamanho do dado armazenado. Aqui, `i` é a posição que se deseja acessar.\n",
    "        - Então, \n",
    "        ```c\n",
    "        v + 3*sizeof(int)\n",
    "        ```\n",
    "        acessaria a posição `3` do vetor, que armazena o valor `13`.\n",
    "        - Para acessar a posição `0`:\n",
    "        ```c\n",
    "        v +0*sizeof(int)\n",
    "        ```\n",
    "        que resulta no próprio endereço `v`.\n",
    "        - Por esta razão, as posições de vetores iniciam em `0` e vão até `n-1`. Aqui, `n` é o número de elementos do vetor.\n",
    "     - A quantidade de memória ocupada pelo vetor é de `n * sizeof(int)` *bytes*.\n",
    "         - Com isto, acessar a posição\n",
    "         ```c\n",
    "         v+n*sizeof(int)\n",
    "         ```\n",
    "         resulta em um erro, pois a posição 0 é considerada. Com isto, posições vão sempre até `n-1`."
   ]
  },
  {
   "cell_type": "markdown",
   "metadata": {},
   "source": [
    "Observaremos esse comportamento utilizando um outro tipo de variável, o `double`, que utiliza 8 *bytes* de memória. Este tipo de variável opera como `float`, porém possui maior precisão e abrangência.\n"
   ]
  },
  {
   "cell_type": "markdown",
   "metadata": {},
   "source": [
    "**Exemplo**  \n",
    "- Vetor de `double`, com 5 posições:\n",
    "\n",
    "```c\n",
    "#include<stdio.h>\n",
    "\n",
    "int main(void)\n",
    "{\n",
    "        //declara um double\n",
    "        double k; //variável de exemplo, para observarmos seu tamanho\n",
    "        //declara um vetor de double com 5 posições\n",
    "        double vd[5];//vd: vetor de double\n",
    "\n",
    "        //preenche as posições do vetor\n",
    "        vd[0] = 10.0;\n",
    "        vd[1] = 11.0;\n",
    "        vd[2] = 12.0;\n",
    "        vd[3] = 13.0;\n",
    "        vd[4] = 14.0;\n",
    "\n",
    "        //mostra os endereços de memória\n",
    "        printf(\"tamanho      : %d\\n\", sizeof(k));\n",
    "        printf(\"local vd     : %p\\n\", (void *) vd);\n",
    "        printf(\"local vd[0]  : %p\\n\", (void *) &vd[0]);\n",
    "        printf(\"local vd[1]  : %p\\n\", (void *) &vd[1]);\n",
    "        printf(\"local vd[2]  : %p\\n\", (void *) &vd[2]);\n",
    "        printf(\"local vd[3]  : %p\\n\", (void *) &vd[3]);\n",
    "        printf(\"local vd[4]  : %p\\n\", (void *) &vd[4]);\n",
    "\n",
    "        return 0;\n",
    "}\n",
    "\n",
    "```"
   ]
  },
  {
   "cell_type": "markdown",
   "metadata": {},
   "source": [
    "- Saída:\n",
    "```\n",
    "tamanho      : 8\n",
    "local vd     : 0x7ffed4467c90\n",
    "local vd[0]  : 0x7ffed4467c90\n",
    "local vd[1]  : 0x7ffed4467c98\n",
    "local vd[2]  : 0x7ffed4467ca0\n",
    "local vd[3]  : 0x7ffed4467ca8\n",
    "local vd[4]  : 0x7ffed4467cb0\n",
    "```"
   ]
  },
  {
   "cell_type": "markdown",
   "metadata": {},
   "source": [
    "**Exercícios**\n",
    "- Qual a diferença entre os endereços de memória?\n",
    "- Quanto de memória é utilizada pelo vetor `vd`?\n",
    "- Quanto de memória é utilizada pelo vetor `vi`?\n",
    "- Com suas palavras, explique:\n",
    "    - por que os vetores iniciam na posição `0`?\n",
    "    - por que os vetores vão apenas até a posição `n-1`?\n",
    "    - o que ocorreria se uma posição `n` ou maior do vetor fosse acessada?\n",
    "- É possível remover uma determinada posição, como a `1`, assim como é feito com as listas em Python?\n",
    "    - Para remover uma posição, qual seria o procedimento? Descreva com suas palavras.\n",
    "- Visto que não é possível acessar a posição `n` de um vetor, quais passos deveriam ser feitos para adicionar um novo elemento, assim como é feito com o método `.append()` das listas em Python?\n",
    "\n",
    "\n",
    "**Dica**\n",
    "- Pesquise sobre alocação dinâmica em C. Funções `malloc` e `calloc`."
   ]
  },
  {
   "cell_type": "markdown",
   "metadata": {},
   "source": [
    " "
   ]
  }
 ],
 "metadata": {
  "kernelspec": {
   "display_name": "Python 3",
   "language": "python",
   "name": "python3"
  },
  "language_info": {
   "codemirror_mode": {
    "name": "ipython",
    "version": 3
   },
   "file_extension": ".py",
   "mimetype": "text/x-python",
   "name": "python",
   "nbconvert_exporter": "python",
   "pygments_lexer": "ipython3",
   "version": "3.6.8"
  }
 },
 "nbformat": 4,
 "nbformat_minor": 4
}
