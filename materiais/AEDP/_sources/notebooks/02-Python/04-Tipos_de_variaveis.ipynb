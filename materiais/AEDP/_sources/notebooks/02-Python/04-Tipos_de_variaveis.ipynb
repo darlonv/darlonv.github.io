{
 "cells": [
  {
   "cell_type": "markdown",
   "metadata": {},
   "source": [
    "# Tipos de variáveis\n",
    "\n",
    "Em Python, o tipo de uma variável é definido no momento de sua atribuição. Para observarmos o tipo de uma variável, utilizamos a função `type()`\n",
    "\n",
    "**Exemplo**  \n",
    "```py\n",
    "a = 10\n",
    "type(a)\n",
    "```"
   ]
  },
  {
   "cell_type": "code",
   "execution_count": null,
   "metadata": {},
   "outputs": [],
   "source": []
  },
  {
   "cell_type": "markdown",
   "metadata": {},
   "source": [
    "Existem diversos tipos de dados presentes nativamente em Python.\n",
    "\n",
    "## `int` e `float`\n",
    "\n",
    "\n",
    "### Exercício\n",
    "Observe o tipo das seguintes variáveis\n",
    "```py\n",
    "inteiro=10\n",
    "type(inteiro)\n",
    "\n",
    "real=3.5\n",
    "type(real)\n",
    "```"
   ]
  },
  {
   "cell_type": "code",
   "execution_count": null,
   "metadata": {},
   "outputs": [],
   "source": []
  },
  {
   "cell_type": "markdown",
   "metadata": {},
   "source": [
    "Os tipos de dados `int` e `float` permitem que sejam realizados operações matemáticas sobre eles, como adição, subtração e divisão. Ambos os tipos permitem o armazenamento de números positivos e negativos, porém o tipo `float` opera utilizando *ponto flutuante*, ou seja, permite que números reais sejam armazenados.\n",
    "\n",
    "A diferença na definição da variável se ela será um `int` ou `float`, é dado pelo uso do `.`, que separa as casas decimais."
   ]
  },
  {
   "cell_type": "code",
   "execution_count": null,
   "metadata": {},
   "outputs": [],
   "source": []
  },
  {
   "cell_type": "markdown",
   "metadata": {},
   "source": [
    "## `bool`\n",
    "\n",
    "O tipo de dado `bool` permite armazenar um valor *booleano*, ou seja, verdadeiro (*True*) ou falso (*False*). Este tipo de variável permite apenas estes dois valores.\n",
    "\n",
    "**Atenção**  \n",
    ">Os valores **True** e **False** possuem letra inicial maiúscula.\n",
    "\n",
    "**Exemplo**  \n",
    "Considere que existe uma variável que registra se uma porta e uma janela estão abertas ou fechadas. Em seguida, observe o tipo de dado dessas variáveis.\n",
    "```py\n",
    "portaAberta = True\n",
    "type(portaAberta)\n",
    "\n",
    "janelaAberta = False\n",
    "type(janelaAberta)\n",
    "```\n"
   ]
  },
  {
   "cell_type": "code",
   "execution_count": null,
   "metadata": {},
   "outputs": [],
   "source": []
  },
  {
   "cell_type": "markdown",
   "metadata": {},
   "source": [
    "## `str`\n",
    "\n",
    "O tipol de dado `str` é utilizado para representar uma sequência de caracteres, ou *string*.\n",
    "\n",
    "Para que o interpretador Python reconheça que o dado é uma *string*, deve-se colocar a sequência de caracteres entre aspas (`'`) .\n",
    "\n",
    "**Exemplo**  \n",
    "Considere variáveis que armazenam o país e o estado. Em seguida, observe o tipo da variável.\n",
    "```py\n",
    "pais='Brasil'\n",
    "type(pais)\n",
    "\n",
    "estado='Santa Catarina'\n",
    "type(estado)\n",
    "```\n",
    "\n",
    "**Anotação**\n",
    ">Em python, uma *string* também pode ser delimitada utilizando aspas duplas (`\"`), e seu funcionamento ocorrerá da mesma forma. Porém, é uma convenção entre desenvolvedores a utilização das aspas simples, como utilizado no exemplo."
   ]
  },
  {
   "cell_type": "code",
   "execution_count": null,
   "metadata": {},
   "outputs": [],
   "source": []
  },
  {
   "cell_type": "markdown",
   "metadata": {},
   "source": [
    "## Conversões de tipos de dados\n",
    "Para converter um tipo de dado a outro pode-se utilizar funções que possuem o mesmo nome do tipo de dado.\n",
    "```py\n",
    "int()\n",
    "float()\n",
    "str()\n",
    "bool()\n",
    "```"
   ]
  },
  {
   "cell_type": "markdown",
   "metadata": {},
   "source": [
    "### Atividade\n",
    "\n",
    "Observe o conteúdo e tipo de dado de cada uma das variáveis utilizadas abaixo.\n",
    "```py\n",
    "ni = 4\n",
    "nf = float(ni)\n",
    "ns = str(ni)\n",
    "```\n",
    "O quê ocorreu com os tipos de dados?"
   ]
  },
  {
   "cell_type": "code",
   "execution_count": null,
   "metadata": {},
   "outputs": [],
   "source": []
  },
  {
   "cell_type": "code",
   "execution_count": null,
   "metadata": {},
   "outputs": [],
   "source": []
  },
  {
   "cell_type": "code",
   "execution_count": null,
   "metadata": {},
   "outputs": [],
   "source": []
  },
  {
   "cell_type": "code",
   "execution_count": null,
   "metadata": {},
   "outputs": [],
   "source": []
  },
  {
   "cell_type": "code",
   "execution_count": null,
   "metadata": {},
   "outputs": [],
   "source": []
  },
  {
   "cell_type": "markdown",
   "metadata": {},
   "source": [
    "### Atividade\n",
    "\n",
    "Observe o conteúdo e tipo de dado de cada uma das variáveis utilizadas abaixo.\n",
    "```py\n",
    "nf = 4.7\n",
    "ni = int(nf)\n",
    "ns = str(nf)\n",
    "```\n",
    "O quê ocorreu com os tipos de dados?"
   ]
  },
  {
   "cell_type": "code",
   "execution_count": null,
   "metadata": {},
   "outputs": [],
   "source": []
  },
  {
   "cell_type": "code",
   "execution_count": null,
   "metadata": {},
   "outputs": [],
   "source": []
  },
  {
   "cell_type": "code",
   "execution_count": null,
   "metadata": {},
   "outputs": [],
   "source": []
  },
  {
   "cell_type": "code",
   "execution_count": null,
   "metadata": {},
   "outputs": [],
   "source": []
  },
  {
   "cell_type": "markdown",
   "metadata": {},
   "source": [
    "### Atividade\n",
    "\n",
    "Observe o conteúdo e tipo de dado de cada uma das variáveis utilizadas abaixo.\n",
    "```py\n",
    "ns = '4.7'\n",
    "ni = float(ns)\n",
    "ni = int(ns)\n",
    "```\n",
    "O quê ocorreu com os tipos de dados?"
   ]
  },
  {
   "cell_type": "code",
   "execution_count": null,
   "metadata": {},
   "outputs": [],
   "source": []
  },
  {
   "cell_type": "code",
   "execution_count": null,
   "metadata": {},
   "outputs": [],
   "source": []
  },
  {
   "cell_type": "code",
   "execution_count": null,
   "metadata": {},
   "outputs": [],
   "source": []
  },
  {
   "cell_type": "code",
   "execution_count": null,
   "metadata": {},
   "outputs": [],
   "source": []
  },
  {
   "cell_type": "markdown",
   "metadata": {},
   "source": [
    "### Atividade\n",
    "\n",
    "Observe o conteúdo e tipo de dado de cada uma das variáveis utilizadas abaixo.\n",
    "```py\n",
    "nb = True\n",
    "ns = str(nb)\n",
    "nf = float(nb)\n",
    "ni = int(nb)\n",
    "```\n",
    "O quê ocorreu com os tipos de dados?"
   ]
  },
  {
   "cell_type": "code",
   "execution_count": null,
   "metadata": {},
   "outputs": [],
   "source": []
  },
  {
   "cell_type": "code",
   "execution_count": null,
   "metadata": {},
   "outputs": [],
   "source": []
  },
  {
   "cell_type": "code",
   "execution_count": null,
   "metadata": {},
   "outputs": [],
   "source": []
  }
 ],
 "metadata": {
  "kernelspec": {
   "display_name": "Python 3",
   "language": "python",
   "name": "python3"
  },
  "language_info": {
   "codemirror_mode": {
    "name": "ipython",
    "version": 3
   },
   "file_extension": ".py",
   "mimetype": "text/x-python",
   "name": "python",
   "nbconvert_exporter": "python",
   "pygments_lexer": "ipython3",
   "version": "3.6.8"
  }
 },
 "nbformat": 4,
 "nbformat_minor": 2
}
