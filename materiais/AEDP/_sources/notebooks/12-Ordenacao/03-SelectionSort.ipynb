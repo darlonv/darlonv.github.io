{
 "cells": [
  {
   "cell_type": "markdown",
   "metadata": {},
   "source": [
    "# Selection Sort"
   ]
  },
  {
   "cell_type": "markdown",
   "metadata": {},
   "source": [
    "<!-- ## Introdução -->"
   ]
  },
  {
   "cell_type": "markdown",
   "metadata": {},
   "source": [
    "<!-- ## Funcionamento -->\n",
    "\n",
    "![Selection Sort](https://upload.wikimedia.org/wikipedia/commons/9/94/Selection-Sort-Animation.gif)  "
   ]
  },
  {
   "cell_type": "markdown",
   "metadata": {},
   "source": [
    "<!-- ## Complexidade -->"
   ]
  },
  {
   "cell_type": "markdown",
   "metadata": {},
   "source": [
    "<!-- ## Implementação -->\n",
    "**Exemplo** \n",
    "\n",
    "```python\n",
    "def selectionSort(dados):\n",
    "    for i in range(len(dados)):\n",
    "        posMenor = i\n",
    "        menor = dados[i]\n",
    "\n",
    "        #procura pelo menor valor\n",
    "        for j in range(i+1, len(dados)):\n",
    "            if dados[j] < menor:\n",
    "                menor = dados[j]\n",
    "                posMenor = j\n",
    "        #troca a posição atual de i pelo menor valor encontrado pela frente\n",
    "        if dados[i] > menor:\n",
    "            dados[i], dados[posMenor] = menor, dados[i]\n",
    "    return dados\n",
    "```"
   ]
  },
  {
   "cell_type": "markdown",
   "metadata": {},
   "source": [
    "**Exemplo**\n",
    "\n",
    "```python\n",
    "dados = [20,11,3,12,1,5,6,2,4,7,8,10,9,13]\n",
    "print('Entrada:', dados)\n",
    "selectionSort(dados)\n",
    "print('Saida  :', dados)\n",
    "```"
   ]
  },
  {
   "cell_type": "code",
   "execution_count": null,
   "metadata": {},
   "outputs": [],
   "source": []
  },
  {
   "cell_type": "code",
   "execution_count": null,
   "metadata": {},
   "outputs": [],
   "source": []
  },
  {
   "cell_type": "markdown",
   "metadata": {},
   "source": [
    "## Referências\n",
    "\n",
    "[BRAGA, H.](https://medium.com/@henriquebraga_18075/algoritmos-de-ordena%C3%A7%C3%A3o-ii-selection-sort-8ee4234deb10)  "
   ]
  },
  {
   "cell_type": "markdown",
   "metadata": {},
   "source": [
    " "
   ]
  }
 ],
 "metadata": {
  "kernelspec": {
   "display_name": "Python 3",
   "language": "python",
   "name": "python3"
  },
  "language_info": {
   "codemirror_mode": {
    "name": "ipython",
    "version": 3
   },
   "file_extension": ".py",
   "mimetype": "text/x-python",
   "name": "python",
   "nbconvert_exporter": "python",
   "pygments_lexer": "ipython3",
   "version": "3.6.8"
  }
 },
 "nbformat": 4,
 "nbformat_minor": 2
}
