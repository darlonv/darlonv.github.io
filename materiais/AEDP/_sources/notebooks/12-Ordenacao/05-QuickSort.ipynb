{
 "cells": [
  {
   "cell_type": "markdown",
   "metadata": {
    "slideshow": {
     "slide_type": "slide"
    }
   },
   "source": [
    "# Quick Sort"
   ]
  },
  {
   "cell_type": "markdown",
   "metadata": {
    "slideshow": {
     "slide_type": "fragment"
    }
   },
   "source": [
    "<!-- ## Introdução -->\n",
    "\n",
    "O **Quick Sort** é um algoritmo de ordenação, considerado entre os mais eficientes."
   ]
  },
  {
   "cell_type": "markdown",
   "metadata": {
    "slideshow": {
     "slide_type": "slide"
    }
   },
   "source": [
    "<!-- ## Funcionamento -->\n",
    "\n",
    "Seu funcionamento consiste em escolher um elemento do conjunto (pivô), e colocá-lo na posição correta. Em seguida, o algoritmo é aplicado novamente aos dados restantes, ao lado esquerdo e direito.\n",
    "\n",
    "![Selection Sort gif](https://upload.wikimedia.org/wikipedia/commons/9/9c/Quicksort-example.gif)  \n",
    "\n",
    "Fonte: [Wikimedia Commons](https://commons.wikimedia.org/wiki/File:Quicksort-example.gif)  \n"
   ]
  },
  {
   "cell_type": "markdown",
   "metadata": {
    "slideshow": {
     "slide_type": "slide"
    }
   },
   "source": [
    "<!-- ## Implementação -->\n",
    "```python\n",
    "def quickSort(lista):\n",
    "    if len(lista) == 1 or len(lista) == 0:\n",
    "        return lista\n",
    "    \n",
    "    pivot = lista[0]\n",
    "\n",
    "    menores=[]\n",
    "    iguais=[]\n",
    "    maiores=[]\n",
    "    \n",
    "    for i in range(len(lista)):\n",
    "        if lista[i] < pivot:\n",
    "            menores.append(lista[i])\n",
    "        if lista[i] > pivot :\n",
    "            maiores.append(lista[i])\n",
    "        if lista[i] == pivot :\n",
    "            iguais.append(lista[i])\n",
    "    \n",
    "    return quickSort(menores) + iguais + quickSort(maiores)\n",
    "         \n",
    "```"
   ]
  },
  {
   "cell_type": "markdown",
   "metadata": {
    "slideshow": {
     "slide_type": "subslide"
    }
   },
   "source": [
    "**Exemplo**  \n",
    "\n",
    "```python\n",
    "dados = [2, 5, 8, 4, 1, 3, 9, 7, 6, 0]\n",
    "\n",
    "print('Antes:', dados)\n",
    "dados=quickSort(dados)\n",
    "print('Depois:', dados)\n",
    "```"
   ]
  },
  {
   "cell_type": "code",
   "execution_count": null,
   "metadata": {
    "slideshow": {
     "slide_type": "skip"
    }
   },
   "outputs": [],
   "source": []
  },
  {
   "cell_type": "code",
   "execution_count": null,
   "metadata": {
    "slideshow": {
     "slide_type": "skip"
    }
   },
   "outputs": [],
   "source": []
  },
  {
   "cell_type": "markdown",
   "metadata": {
    "slideshow": {
     "slide_type": "slide"
    }
   },
   "source": [
    "## Referências\n",
    "\n",
    "[SEHGAL, K. A quick explanation over quicksort](https://medium.com/karuna-sehgal/a-quick-explanation-of-quick-sort-7d8e2563629b)  \n"
   ]
  },
  {
   "cell_type": "markdown",
   "metadata": {},
   "source": [
    " "
   ]
  }
 ],
 "metadata": {
  "kernelspec": {
   "display_name": "Python 3",
   "language": "python",
   "name": "python3"
  },
  "language_info": {
   "codemirror_mode": {
    "name": "ipython",
    "version": 3
   },
   "file_extension": ".py",
   "mimetype": "text/x-python",
   "name": "python",
   "nbconvert_exporter": "python",
   "pygments_lexer": "ipython3",
   "version": "3.6.8"
  }
 },
 "nbformat": 4,
 "nbformat_minor": 2
}
