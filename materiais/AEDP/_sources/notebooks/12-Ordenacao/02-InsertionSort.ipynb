{
 "cells": [
  {
   "cell_type": "markdown",
   "metadata": {
    "slideshow": {
     "slide_type": "slide"
    }
   },
   "source": [
    "# Insertion Sort"
   ]
  },
  {
   "cell_type": "markdown",
   "metadata": {
    "slideshow": {
     "slide_type": "skip"
    }
   },
   "source": [
    "<!-- ## Introdução -->"
   ]
  },
  {
   "cell_type": "markdown",
   "metadata": {
    "slideshow": {
     "slide_type": "slide"
    }
   },
   "source": [
    "<!-- ## Funcionamento -->\n",
    "O **Insertion Sort** consiste em inserir diretamente os dados na posição correta, na medida em que são lidos.\n",
    "\n",
    "![WIKIMEDIA COMMONS](https://upload.wikimedia.org/wikipedia/commons/0/0f/Insertion-sort-example-300px.gif)\n",
    "Fonte: [WIKIMEDIA COMMONS](https://upload.wikimedia.org/wikipedia/commons/0/0f/Insertion-sort-example-300px.gif)"
   ]
  },
  {
   "cell_type": "markdown",
   "metadata": {
    "slideshow": {
     "slide_type": "slide"
    }
   },
   "source": [
    "<!-- ## Implementação -->\n",
    "**Exemplo**  \n",
    "\n",
    "```python\n",
    "def insertionSort(dados):\n",
    "    if len(dados) == 1: return dados;\n",
    "\n",
    "    for i in range(1, len(dados)):\n",
    "        j = i\n",
    "        while dados[j-1] > dados[j] and j>0 :\n",
    "            dados[j-1],dados[j] = dados[j], dados[j-1]\n",
    "            j -= 1\n",
    "```"
   ]
  },
  {
   "cell_type": "markdown",
   "metadata": {
    "slideshow": {
     "slide_type": "subslide"
    }
   },
   "source": [
    "**Exemplo**\n",
    "\n",
    "```py\n",
    "dados = [3,1,5,6,9,2,4,7,8,0]\n",
    "print('Entrada:', dados)\n",
    "insertionSort(dados)\n",
    "print('Saida:', dados)\n",
    "```"
   ]
  },
  {
   "cell_type": "code",
   "execution_count": null,
   "metadata": {
    "slideshow": {
     "slide_type": "skip"
    }
   },
   "outputs": [],
   "source": []
  },
  {
   "cell_type": "markdown",
   "metadata": {
    "slideshow": {
     "slide_type": "slide"
    }
   },
   "source": [
    "## Referências\n",
    "\n",
    "[WIKIMEDIA COMMONS](https://commons.wikimedia.org/wiki/File:Insertion-sort-example-300px.gif)  \n",
    "[BRAGA, H. Algoritmos de ordenação: insertion sort. Medium.](https://medium.com/@henriquebraga_18075/algoritmos-de-ordena%C3%A7%C3%A3o-iii-insertion-sort-bfade66c6bf1)  \n"
   ]
  }
 ],
 "metadata": {
  "kernelspec": {
   "display_name": "Python 3",
   "language": "python",
   "name": "python3"
  },
  "language_info": {
   "codemirror_mode": {
    "name": "ipython",
    "version": 3
   },
   "file_extension": ".py",
   "mimetype": "text/x-python",
   "name": "python",
   "nbconvert_exporter": "python",
   "pygments_lexer": "ipython3",
   "version": "3.6.8"
  }
 },
 "nbformat": 4,
 "nbformat_minor": 2
}
