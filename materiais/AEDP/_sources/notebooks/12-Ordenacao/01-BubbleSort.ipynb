{
 "cells": [
  {
   "cell_type": "markdown",
   "metadata": {
    "slideshow": {
     "slide_type": "slide"
    }
   },
   "source": [
    "# Bubble Sort"
   ]
  },
  {
   "cell_type": "markdown",
   "metadata": {
    "slideshow": {
     "slide_type": "fragment"
    }
   },
   "source": [
    "<!-- ## Introdução -->\n",
    "O *Bubble Sort*, ou ordenação da bolha, é um dos algoritmos de ordenação mais simples. "
   ]
  },
  {
   "cell_type": "markdown",
   "metadata": {
    "slideshow": {
     "slide_type": "slide"
    }
   },
   "source": [
    "<!-- ## Funcionamento -->\n",
    "O algoritmo opera comparando cada elemento com o elemento que está ao seu lado. Caso os elementos estejam na ordem correta, os elementos não são modificados. Caso a ordem esteja inversa, os elementos são trocados. Esta comparação é realizada por todos os $n$ elementos que se deseja ordenar, $n$ vezes.\n",
    "\n",
    "![Bubble Sort](https://upload.wikimedia.org/wikipedia/commons/c/c8/Bubble-sort-example-300px.gif)  \n",
    "\n",
    "Fonte: [WIKIMEDIA COMMONS](https://commons.wikimedia.org/wiki/File:Bubble-sort-example-300px.gif) "
   ]
  },
  {
   "cell_type": "markdown",
   "metadata": {
    "slideshow": {
     "slide_type": "slide"
    }
   },
   "source": [
    "<!-- ## Implementação -->\n",
    "\n",
    "**Exemplo** \n",
    "\n",
    "```python\n",
    "def bubble_sort(dados):\n",
    "    n = len(dados)\n",
    "    for i in range(n):\n",
    "        trocou = False\n",
    "        for j in range(n-i-1):\n",
    "            if dados[j]>dados[j+1]:\n",
    "                dados[j],dados[j+1] = dados[j+1], dados[j]\n",
    "                trocou=True\n",
    "        if not trocou :break\n",
    "    return dados\n",
    "```\n"
   ]
  },
  {
   "cell_type": "markdown",
   "metadata": {
    "slideshow": {
     "slide_type": "subslide"
    }
   },
   "source": [
    "**Exemplo**\n",
    "\n",
    "```python\n",
    "dados = [3,1,5,6,2,4,7,8]\n",
    "bubble_sort(dados)\n",
    "print(dados)\n",
    "```"
   ]
  },
  {
   "cell_type": "code",
   "execution_count": null,
   "metadata": {
    "slideshow": {
     "slide_type": "skip"
    }
   },
   "outputs": [],
   "source": []
  },
  {
   "cell_type": "markdown",
   "metadata": {
    "slideshow": {
     "slide_type": "slide"
    }
   },
   "source": [
    "## Referências\n",
    "\n",
    "[WIKIMEDIA COMMONS. File: Bubble-sort-example-300px.gif](https://commons.wikimedia.org/wiki/File:Bubble-sort-example-300px.gif)  "
   ]
  }
 ],
 "metadata": {
  "kernelspec": {
   "display_name": "Python 3",
   "language": "python",
   "name": "python3"
  },
  "language_info": {
   "codemirror_mode": {
    "name": "ipython",
    "version": 3
   },
   "file_extension": ".py",
   "mimetype": "text/x-python",
   "name": "python",
   "nbconvert_exporter": "python",
   "pygments_lexer": "ipython3",
   "version": "3.6.8"
  }
 },
 "nbformat": 4,
 "nbformat_minor": 2
}
