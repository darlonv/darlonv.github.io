{
 "cells": [
  {
   "cell_type": "markdown",
   "metadata": {
    "slideshow": {
     "slide_type": "slide"
    }
   },
   "source": [
    "# Busca binária"
   ]
  },
  {
   "cell_type": "markdown",
   "metadata": {
    "slideshow": {
     "slide_type": "slide"
    }
   },
   "source": [
    "\n",
    "A busca binária consiste em procurar um elemento em um vetor, utilizando uma menor quantidade de comparações que a busca linear. Para que a busca binária possa ser utilizada, é necessário que os dados da entrada estejam ordenados."
   ]
  },
  {
   "cell_type": "markdown",
   "metadata": {
    "slideshow": {
     "slide_type": "slide"
    }
   },
   "source": [
    "<!-- ## Funcionamento -->\n",
    "Em um conjunto de dados ordenado, inicie a busca pela metade do conjunto. Caso o valor procurado não esteja na posição procurada, verifique o valor da metade do conjunto. Caso o valor procurado seja maior que o valor que se encontra na metade, continue a busca na segunda metade do conjunto. Caso o valor procurado seja menor que o valor que se encontra na metade, continue procurando o valor na primeira metade do conjunto."
   ]
  },
  {
   "cell_type": "markdown",
   "metadata": {
    "slideshow": {
     "slide_type": "subslide"
    }
   },
   "source": [
    "Caso a posição de busca inicial e final sejam a mesma, e essa posição não seja o valor procurado, o valor não está no conjunto."
   ]
  },
  {
   "cell_type": "markdown",
   "metadata": {
    "slideshow": {
     "slide_type": "slide"
    }
   },
   "source": [
    "<!-- \n",
    "## Complexidade\n",
    "\n",
    "$O(log(n))$ \n",
    "-->"
   ]
  },
  {
   "cell_type": "markdown",
   "metadata": {
    "slideshow": {
     "slide_type": "slide"
    }
   },
   "source": [
    "<!-- ## Implementação -->\n",
    "**Exemplo**  \n",
    "\n",
    "```python\n",
    "def buscaBinaria(dados, valor, ini=0, fim=-1 ):\n",
    "    if fim == -1 : fim = len(dados)\n",
    "    \n",
    "    while(ini <= fim):\n",
    "        meio = (ini + fim )// 2\n",
    "        if valor < dados[meio]:\n",
    "            fim = meio -1\n",
    "        elif valor > dados[meio]:\n",
    "            ini = meio+1\n",
    "        else: return True, meio\n",
    "    return False, -1\n",
    "```"
   ]
  },
  {
   "cell_type": "code",
   "execution_count": null,
   "metadata": {
    "slideshow": {
     "slide_type": "skip"
    }
   },
   "outputs": [],
   "source": []
  },
  {
   "cell_type": "markdown",
   "metadata": {
    "slideshow": {
     "slide_type": "slide"
    }
   },
   "source": [
    "**Exemplo**\n",
    "\n",
    "```python\n",
    "dados = [8, 12, 19, 22, 43, 45, 56, 67, 95]\n",
    "print(dados)\n",
    "encontrou, posicao = buscaBinaria(dados, 22)\n",
    "if encontrou :\n",
    "    print('Valor encontrado na posição', posicao)\n",
    "else:\n",
    "    print('Valor não encontrado')\n",
    "```"
   ]
  },
  {
   "cell_type": "code",
   "execution_count": null,
   "metadata": {
    "slideshow": {
     "slide_type": "skip"
    }
   },
   "outputs": [],
   "source": []
  },
  {
   "cell_type": "markdown",
   "metadata": {
    "slideshow": {
     "slide_type": "subslide"
    }
   },
   "source": [
    "**Atividade**  \n",
    "\n",
    "1. Qual é a parte do código que mais é executada?\n",
    "1. Quantas vezes a parte que mais executa é chamada?\n",
    "1. Onde deve estar o valor para que seja encontrado mais rápido?\n",
    "1. Em que posição deve estar o valor para que seja encontrado o mais demorado possível?"
   ]
  },
  {
   "cell_type": "markdown",
   "metadata": {
    "slideshow": {
     "slide_type": "slide"
    }
   },
   "source": [
    "**Exercício**  \n",
    "- Implemente um contador, para saber quantas vezes o trecho de código que mais se repete é executado.\n",
    "- Gera listas de valores em sequência não repetidos, com números de 0 a 99.\n",
    "- Nessa lista, procure por um valor aleatório de 0 a 99.\n",
    "- Execute a busca 10000 vezes, e responda:\n",
    "    - Qual foi o menor número de iterações realizado até encontrar o número?\n",
    "    - Qual foi o maior número de iterações realizado até encontrar o número?\n",
    "    - Qual foi o número médio de iterações realizado até encontrar o número?"
   ]
  },
  {
   "cell_type": "markdown",
   "metadata": {
    "slideshow": {
     "slide_type": "slide"
    }
   },
   "source": [
    "## Referências\n",
    "[FEOFILOFF, P. Busca binária](https://www.ime.usp.br/~pf/analise_de_algoritmos/aulas/binarysearch.html)  \n"
   ]
  }
 ],
 "metadata": {
  "kernelspec": {
   "display_name": "Python 3",
   "language": "python",
   "name": "python3"
  },
  "language_info": {
   "codemirror_mode": {
    "name": "ipython",
    "version": 3
   },
   "file_extension": ".py",
   "mimetype": "text/x-python",
   "name": "python",
   "nbconvert_exporter": "python",
   "pygments_lexer": "ipython3",
   "version": "3.6.8"
  }
 },
 "nbformat": 4,
 "nbformat_minor": 2
}
