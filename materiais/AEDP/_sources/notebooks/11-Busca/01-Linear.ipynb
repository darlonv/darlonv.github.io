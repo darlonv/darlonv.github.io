{
 "cells": [
  {
   "cell_type": "markdown",
   "metadata": {
    "slideshow": {
     "slide_type": "slide"
    }
   },
   "source": [
    "# Busca linear"
   ]
  },
  {
   "cell_type": "markdown",
   "metadata": {
    "slideshow": {
     "slide_type": "slide"
    }
   },
   "source": [
    "A busca linear consiste em procurar os elementos em um conjunto de dados, de maneira que cada dado possa ser encontrado pela sua posição. "
   ]
  },
  {
   "cell_type": "markdown",
   "metadata": {
    "slideshow": {
     "slide_type": "slide"
    }
   },
   "source": [
    "Para procurar cada elemento, basta apenas percorrer cada elemento do conjunto da entrada, até que o dado seja encontrado. Seu algoritmo retorna a posição onde o elemento procurado se encontra, ou então informa que o valor não foi encontrado, caso não esteja no conjunto de entrada."
   ]
  },
  {
   "cell_type": "markdown",
   "metadata": {},
   "source": [
    "Caso seja chegado ao final do conjunto de dados, e o valor não seja encontrado, o valor não se encontra no conjunto de dados procurado."
   ]
  },
  {
   "cell_type": "markdown",
   "metadata": {
    "slideshow": {
     "slide_type": "slide"
    }
   },
   "source": [
    "<!-- \n",
    "## Complexidade\n",
    "\n",
    "$O(n)$ \n",
    "-->"
   ]
  },
  {
   "cell_type": "markdown",
   "metadata": {
    "slideshow": {
     "slide_type": "slide"
    }
   },
   "source": [
    "<!-- ## Implementação -->\n",
    "**Exemplo**  \n",
    "```python\n",
    "def buscaLinear(dados, valor, inicio=0, fim=-1):\n",
    "    if fim == -1 : fim = len(dados)\n",
    "    for i in range(inicio,fim):\n",
    "        if dados[i] == valor:\n",
    "            return True, i\n",
    "    return False, -1\n",
    "```"
   ]
  },
  {
   "cell_type": "code",
   "execution_count": null,
   "metadata": {
    "slideshow": {
     "slide_type": "skip"
    }
   },
   "outputs": [],
   "source": []
  },
  {
   "cell_type": "markdown",
   "metadata": {
    "slideshow": {
     "slide_type": "slide"
    }
   },
   "source": [
    "**Exemplo**\n",
    "\n",
    "```python\n",
    "dados = [45,56,12,43,95,19,8,67]\n",
    "encontrou, posicao = buscaLinear(dados, 43)\n",
    "if encontrou :\n",
    "    print('Valor encontrado na posição', posicao)\n",
    "else:\n",
    "    print('Valor não encontrado')\n",
    "```"
   ]
  },
  {
   "cell_type": "code",
   "execution_count": null,
   "metadata": {
    "slideshow": {
     "slide_type": "skip"
    }
   },
   "outputs": [],
   "source": []
  },
  {
   "cell_type": "markdown",
   "metadata": {
    "slideshow": {
     "slide_type": "slide"
    }
   },
   "source": [
    "**Atividade**  \n",
    "\n",
    "1. Qual é a parte do código que mais é executada?\n",
    "1. Quantas vezes a parte que mais executa é chamada?\n",
    "1. Qual é o menor número de vezes que a parte que mais executa é chamada?\n",
    "1. Qual é o maior número de vezes que a parte que mais executa é chamada?"
   ]
  },
  {
   "cell_type": "markdown",
   "metadata": {
    "slideshow": {
     "slide_type": "subslide"
    }
   },
   "source": [
    "**Apoio**  \n",
    "Para gerar uma lista de números aleatórios:  \n",
    "**Código**  \n",
    "```python\n",
    "import random\n",
    "```\n",
    "e a utilize para gerar listas de números aleatórios.  "
   ]
  },
  {
   "cell_type": "markdown",
   "metadata": {
    "slideshow": {
     "slide_type": "subslide"
    }
   },
   "source": [
    "**Exemplo**  \n",
    "para obter 100 números aleatórios não repetidos, com valores de 1 a 1000:\n",
    "```python\n",
    "random.sample(range(1,1000), 10)\n",
    "```\n",
    "**Exemplo**  \n",
    "Para obter um número aleatório entre 0 e 10:\n",
    "```python\n",
    "random.randint(0,10)\n",
    "```"
   ]
  },
  {
   "cell_type": "markdown",
   "metadata": {
    "slideshow": {
     "slide_type": "slide"
    }
   },
   "source": [
    "**Exercício**  \n",
    "- Implemente um contador, para saber quantas vezes o trecho de código que mais se repete é executado.\n",
    "- Gera listas de valores aleatórios não repetidos, com números de 0 a 99.\n",
    "- Nessa lista, procure por um valor aleatório de 0 a 99.\n",
    "- Execute a busca 10000 vezes, e responda:\n",
    "    - Qual foi o menor número de iterações realizado até encontrar o número?\n",
    "    - Qual foi o maior número de iterações realizado até encontrar o número?\n",
    "    - Qual foi o número médio de iterações realizado até encontrar o número?"
   ]
  },
  {
   "cell_type": "code",
   "execution_count": null,
   "metadata": {
    "slideshow": {
     "slide_type": "skip"
    }
   },
   "outputs": [],
   "source": []
  },
  {
   "cell_type": "markdown",
   "metadata": {
    "slideshow": {
     "slide_type": "slide"
    }
   },
   "source": [
    "## Referências\n",
    "\n",
    "[BARANAUSKAS, J.A. Notas de aula. DFM-FFCLRP-USP](http://dcm.ffclrp.usp.br/~augusto/teaching/icii/Buscas-em-Vetores-Apresentacao.pdf)  \n",
    "[COURSERA. Busca Sequencial - Algoritmos de Busca e Ordenação. Complexidade Computacional](https://www.coursera.org/lecture/ciencia-computacao-python-conceitos-2/busca-sequencial-vaKjQ)  \n",
    "[RICARTE, I.L.M. Busca Linear](http://www.dca.fee.unicamp.br/cursos/EA876/apostila/HTML/node19.html)  "
   ]
  }
 ],
 "metadata": {
  "kernelspec": {
   "display_name": "Python 3",
   "language": "python",
   "name": "python3"
  },
  "language_info": {
   "codemirror_mode": {
    "name": "ipython",
    "version": 3
   },
   "file_extension": ".py",
   "mimetype": "text/x-python",
   "name": "python",
   "nbconvert_exporter": "python",
   "pygments_lexer": "ipython3",
   "version": "3.6.8"
  }
 },
 "nbformat": 4,
 "nbformat_minor": 2
}
