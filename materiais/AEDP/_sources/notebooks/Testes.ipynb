{
 "cells": [
  {
   "cell_type": "markdown",
   "metadata": {},
   "source": [
    "## Testes"
   ]
  },
  {
   "cell_type": "markdown",
   "metadata": {},
   "source": [
    "É possível testar funções desenvolvidas.\n",
    "\n",
    "Um teste consiste em verificar se a **entrada** de uma **função** corresponde à determinada **saída**, ou seja se a saída está correta.\n",
    "\n",
    "Em ambientes como Jupyter ou Google Colaboratory, pode ser necessário instalar pacotes e ativar configurações para os testes.\n",
    "\n",
    "Para instalar e configurar, basta executar as células a seguir."
   ]
  },
  {
   "cell_type": "code",
   "execution_count": null,
   "metadata": {},
   "outputs": [],
   "source": [
    "%%bash\n",
    "\n",
    "if python3 -c 'import ipytest'\n",
    "then \n",
    "    echo 'Pacote ipytest instalado.' ; \n",
    "else \n",
    "    echo 'Instalando ipytest...'; \n",
    "    pip3 install ipytest\n",
    "    echo 'Pronto.'\n",
    "fi"
   ]
  },
  {
   "cell_type": "code",
   "execution_count": null,
   "metadata": {},
   "outputs": [],
   "source": [
    "#Importa bibliotecas necessárias\n",
    "import ipytest\n",
    "#Executa configurações\n",
    "ipytest.autoconfig(tempfile_fallback=True)"
   ]
  },
  {
   "cell_type": "markdown",
   "metadata": {},
   "source": [
    "**Exemplo:**  \n",
    "\n",
    "A função abaixo calcula o quadrado de um valor. Vamos utilizar o teste para verificar se suas saídas estão corretas.\n",
    "\n",
    "```python\n",
    "def quadrado(a):\n",
    "    return a**2 #Resultado correto\n",
    "```"
   ]
  },
  {
   "cell_type": "code",
   "execution_count": null,
   "metadata": {},
   "outputs": [],
   "source": [
    "def quadrado(a):\n",
    "    return a**2 #Resultado correto"
   ]
  },
  {
   "cell_type": "markdown",
   "metadata": {},
   "source": [
    "na área de testes das funções, basta chamar a função com o parâmetro adequado e comparar com a resposta correta.\n",
    "```python\n",
    "#Testa as entradas com as saídas corretas\n",
    "def teste_quadrado():\n",
    "    assert quadrado(5) == 25\n",
    "    assert quadrado(4) == 16\n",
    "    assert quadrado(85) == 7225\n",
    "    assert quadrado(264) == 69696\n",
    "```"
   ]
  },
  {
   "cell_type": "code",
   "execution_count": null,
   "metadata": {},
   "outputs": [],
   "source": [
    "%%run_pytest[clean] -qq\n",
    "\n",
    "def teste_quadrado():\n",
    "    assert quadrado(5) == 25\n",
    "    assert quadrado(4) == 16\n",
    "    assert quadrado(85) == 7225\n",
    "    assert quadrado(264) == 69696"
   ]
  },
  {
   "cell_type": "markdown",
   "metadata": {},
   "source": [
    "Ao executar, ele indicará com um `.` os testes corretos, e com `F` os incoretos. Os testes são executados na ordem em que foram definidos.\n",
    "\n",
    "**Exemplo**  \n",
    "\n",
    "- teste ok\n",
    "\n",
    "```\n",
    ".\n",
    "```"
   ]
  },
  {
   "cell_type": "markdown",
   "metadata": {},
   "source": [
    "Agora vamos programar uma função que retorna um valor incorreto. A função deveria calcular o quadrado do valor, e vamos descobrir que ela está errada pelos testes.\n",
    "\n",
    "**Exemplo**  \n",
    "- Função errada\n",
    "```python\n",
    "def quadradoErr(a):\n",
    "    return a*2 #Resultado errado. Este não é o quadrado\n",
    "```\n",
    "\n",
    "na área de testes das funções, basta chamar a função com o parâmetro adequado e comparar com a resposta correta.\n",
    "```python\n",
    "#Testa as entradas com as saídas corretas\n",
    "def teste_quadradoErr():\n",
    "    assert quadradoErr(5) == 25 #deverá apontar erro aqui\n",
    "    assert quadradoErr(4) == 16\n",
    "    assert quadradoErr(85) == 7225\n",
    "    assert quadradoErr(264) == 69696\n",
    "```\n"
   ]
  },
  {
   "cell_type": "code",
   "execution_count": null,
   "metadata": {},
   "outputs": [],
   "source": [
    "def quadradoErr(a):\n",
    "    return a*2 #Resultado errado. Este não é o quadrado"
   ]
  },
  {
   "cell_type": "code",
   "execution_count": null,
   "metadata": {},
   "outputs": [],
   "source": [
    "%%run_pytest[clean] -qq\n",
    "\n",
    "def teste_quadradoErr():\n",
    "    assert quadradoErr(5) == 25\n",
    "    assert quadradoErr(4) == 16\n",
    "    assert quadradoErr(85) == 7225\n",
    "    assert quadradoErr(264) == 69696"
   ]
  },
  {
   "cell_type": "markdown",
   "metadata": {},
   "source": [
    "Ao executar, ele indicará com um `.` os testes corretos, e com `F` os incoretos. Os testes são executados na ordem em que foram definidos.\n",
    "\n",
    "**Exemplo**  \n",
    "\n",
    "- Teste com erro\n",
    "\n",
    "```\n",
    "F \n",
    "```\n",
    "\n",
    "Para os testes errados, será informado qual a entrada retornou resultado incorreto, e qual valor foi retornado.\n",
    "\n",
    "**Exemplo**  \n",
    "\n",
    "- Com entrada `5`, o resultado deveria ser `25` \n",
    "```\n",
    "    def teste_quadradoErr():\n",
    ">       assert quadradoErr(5) == 25    #Com entrada 5 resultado deve ser 25 \n",
    "E       assert 10 == 25                #A função quadradoErr(5) retornou 10\n",
    "E        +  where 10 = quadradoErr(5)  \n",
    "```"
   ]
  },
  {
   "cell_type": "markdown",
   "metadata": {},
   "source": [
    "Pode-se realizar de uma única vez o testes de várias funções. Cada teste retornará com `.` ou `F` na primeira linha."
   ]
  },
  {
   "cell_type": "code",
   "execution_count": null,
   "metadata": {},
   "outputs": [],
   "source": [
    "%%run_pytest[clean] -qq\n",
    "\n",
    "def teste_quadrado():\n",
    "    assert quadrado(5) == 25\n",
    "    assert quadrado(4) == 16\n",
    "    assert quadrado(85) == 7225\n",
    "    assert quadrado(264) == 69696\n",
    "\n",
    "def teste_quadradoErr():\n",
    "    assert quadradoErr(5) == 25\n",
    "    assert quadradoErr(4) == 16\n",
    "    assert quadradoErr(85) == 7225\n",
    "    assert quadradoErr(264) == 69696"
   ]
  }
 ],
 "metadata": {
  "kernelspec": {
   "display_name": "Python 3",
   "language": "python",
   "name": "python3"
  },
  "language_info": {
   "codemirror_mode": {
    "name": "ipython",
    "version": 3
   },
   "file_extension": ".py",
   "mimetype": "text/x-python",
   "name": "python",
   "nbconvert_exporter": "python",
   "pygments_lexer": "ipython3",
   "version": "3.6.8"
  }
 },
 "nbformat": 4,
 "nbformat_minor": 4
}
