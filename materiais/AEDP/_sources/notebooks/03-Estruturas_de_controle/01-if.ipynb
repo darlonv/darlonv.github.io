{
 "cells": [
  {
   "cell_type": "markdown",
   "metadata": {},
   "source": [
    "# If\n",
    "O `if` (se) é uma estrutura de seleção, que permite que determinado trecho de código seja executado de acordo com determinada **condição**. A **condição** é uma expressão que resulta em verdadeiro (`True`) ou falso (`False`). Caso a condição seja `True`, o trecho de código é executado."
   ]
  },
  {
   "cell_type": "markdown",
   "metadata": {},
   "source": [
    "### Sintaxe\n",
    "\n",
    "Estrutura do código `if`:\n",
    "```py\n",
    "if <condição>:\n",
    "    código se verdadeiro\n",
    "```\n",
    "\n",
    "### Exemplo:\n",
    "\n",
    "```py\n",
    "A = 10\n",
    "if A == 10:\n",
    "    print('A é igual a 10')\n",
    "```\n"
   ]
  },
  {
   "cell_type": "code",
   "execution_count": null,
   "metadata": {},
   "outputs": [],
   "source": []
  },
  {
   "cell_type": "code",
   "execution_count": null,
   "metadata": {},
   "outputs": [],
   "source": []
  },
  {
   "cell_type": "markdown",
   "metadata": {},
   "source": [
    "Modifique o valor atribuído à variável `A` para `9`, e observe o resultado apresentado."
   ]
  },
  {
   "cell_type": "markdown",
   "metadata": {},
   "source": [
    "### Observação\n",
    "Repare que:\n",
    "- Existe um `:` logo após a condição;\n",
    "- O trecho de código que pertence ao `if` deve estar identado mais à direita. Esta identação é o que define qual parte do código faz parte do `if`."
   ]
  },
  {
   "cell_type": "code",
   "execution_count": null,
   "metadata": {},
   "outputs": [],
   "source": []
  },
  {
   "cell_type": "markdown",
   "metadata": {},
   "source": [
    "## else\n",
    "A estrutura `else` (senão) permite adicionar um trecho de código à estrutura `if`, de forma que o trecho de código especificado no `else` será executado apenas se a condição descrita no `if` for falsa (`False`)."
   ]
  },
  {
   "cell_type": "markdown",
   "metadata": {},
   "source": [
    "### Sintaxe\n",
    "\n",
    "```py\n",
    "if <condição>:\n",
    "    código se verdadeiro\n",
    "else:\n",
    "    código se falso\n",
    "```\n",
    "\n",
    "### Exemplo:\n",
    "\n",
    "```py\n",
    "A = 10\n",
    "if A == 10:\n",
    "    print('A é igual a 10')\n",
    "else:\n",
    "    print('A não é igual a 10')\n",
    "```"
   ]
  },
  {
   "cell_type": "code",
   "execution_count": null,
   "metadata": {},
   "outputs": [],
   "source": []
  },
  {
   "cell_type": "markdown",
   "metadata": {},
   "source": [
    "Modifique o valor atribuído à variável `A` para `9`, e observe o resultado apresentado."
   ]
  },
  {
   "cell_type": "code",
   "execution_count": null,
   "metadata": {},
   "outputs": [],
   "source": []
  },
  {
   "cell_type": "markdown",
   "metadata": {},
   "source": [
    "### Observação\n",
    "Repare que:\n",
    "- A palavra `else` fica na mesma identação que a palavra `if`;\n",
    "- Existe um `:` logo após o `else`;\n",
    "- O trecho de código que pertence ao `else` deve estar identado mais à direita. Esta identação é o que define qual parte do código faz parte do `else`."
   ]
  },
  {
   "cell_type": "markdown",
   "metadata": {},
   "source": [
    "### Atividades\n",
    "\n",
    "Pergunte 2 números ao usuário. Mostre esses números em ordem, do menor para o maior."
   ]
  },
  {
   "cell_type": "code",
   "execution_count": null,
   "metadata": {},
   "outputs": [],
   "source": []
  },
  {
   "cell_type": "markdown",
   "metadata": {},
   "source": [
    "Pergunte 3 números ao usuário. Mostre o menor número digitado."
   ]
  },
  {
   "cell_type": "code",
   "execution_count": null,
   "metadata": {},
   "outputs": [],
   "source": []
  },
  {
   "cell_type": "markdown",
   "metadata": {},
   "source": [
    "Pergunte 3 números ao usuário. Mostre o maior número digitado."
   ]
  },
  {
   "cell_type": "code",
   "execution_count": null,
   "metadata": {},
   "outputs": [],
   "source": []
  }
 ],
 "metadata": {
  "kernelspec": {
   "display_name": "Python 3",
   "language": "python",
   "name": "python3"
  },
  "language_info": {
   "codemirror_mode": {
    "name": "ipython",
    "version": 3
   },
   "file_extension": ".py",
   "mimetype": "text/x-python",
   "name": "python",
   "nbconvert_exporter": "python",
   "pygments_lexer": "ipython3",
   "version": "3.6.8"
  }
 },
 "nbformat": 4,
 "nbformat_minor": 2
}
