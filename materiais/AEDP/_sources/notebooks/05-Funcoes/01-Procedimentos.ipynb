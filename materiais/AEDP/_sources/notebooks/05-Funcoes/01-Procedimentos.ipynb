{
 "cells": [
  {
   "cell_type": "markdown",
   "metadata": {},
   "source": [
    "# Procedimentos"
   ]
  },
  {
   "cell_type": "markdown",
   "metadata": {},
   "source": [
    "**Procedimentos** são trechos de código definidos em um região específica, e podem ser invocados ou **chamados** de acordo com a necessidade. Dentre as principais vantagens, aqui destacamos:\n",
    "- Possibilidade de codificação uma única vez para trechos que se repetem. Isto também possibilita o **reaproveitamento de código**.\n",
    "- Organização do código, com seções especializadas em determinadas funcionalidades.\n",
    "\n",
    "Trechos de código, como procedimentos ou funções também são conhecidos como **rotinas**."
   ]
  },
  {
   "cell_type": "markdown",
   "metadata": {},
   "source": [
    "**Exemplo**\n",
    "- Desenvolva uma aplicação que mostra uma mensagem de bom dia.\n",
    "    - Sem procedimento:\n",
    "    ```python\n",
    "    print('Bom dia')\n",
    "    ```\n",
    "    - Com procedimento:\n",
    "    ```python\n",
    "    def bomdia():\n",
    "        print('Bom dia')\n",
    "\n",
    "    bomdia()\n",
    "    ```\n",
    "    \n",
    "Observe que foi definido um trecho de código com o procedimento, que inicia com a palavra reservada `def`. Os procedimentos são identificados por um **nome**, neste caso `bomdia`. Com isto, sempre que nome do procedimento for invocado, o trecho de código definido será executado.\n",
    "\n",
    "**Atividade**\n",
    "- Execute o exemplo, com e sem o uso de procedimentos."
   ]
  },
  {
   "cell_type": "markdown",
   "metadata": {},
   "source": []
  },
  {
   "cell_type": "markdown",
   "metadata": {},
   "source": []
  },
  {
   "cell_type": "markdown",
   "metadata": {},
   "source": []
  },
  {
   "cell_type": "markdown",
   "metadata": {},
   "source": []
  },
  {
   "cell_type": "markdown",
   "metadata": {},
   "source": []
  },
  {
   "cell_type": "markdown",
   "metadata": {},
   "source": []
  },
  {
   "cell_type": "markdown",
   "metadata": {},
   "source": []
  },
  {
   "cell_type": "markdown",
   "metadata": {},
   "source": []
  },
  {
   "cell_type": "markdown",
   "metadata": {},
   "source": []
  },
  {
   "cell_type": "markdown",
   "metadata": {},
   "source": []
  },
  {
   "cell_type": "markdown",
   "metadata": {},
   "source": []
  },
  {
   "cell_type": "markdown",
   "metadata": {},
   "source": []
  },
  {
   "cell_type": "markdown",
   "metadata": {},
   "source": []
  },
  {
   "cell_type": "markdown",
   "metadata": {},
   "source": []
  },
  {
   "cell_type": "markdown",
   "metadata": {},
   "source": []
  },
  {
   "cell_type": "markdown",
   "metadata": {},
   "source": []
  },
  {
   "cell_type": "markdown",
   "metadata": {},
   "source": []
  },
  {
   "cell_type": "markdown",
   "metadata": {},
   "source": []
  }
 ],
 "metadata": {
  "kernelspec": {
   "display_name": "Python 3",
   "language": "python",
   "name": "python3"
  },
  "language_info": {
   "codemirror_mode": {
    "name": "ipython",
    "version": 3
   },
   "file_extension": ".py",
   "mimetype": "text/x-python",
   "name": "python",
   "nbconvert_exporter": "python",
   "pygments_lexer": "ipython3",
   "version": "3.6.8"
  }
 },
 "nbformat": 4,
 "nbformat_minor": 4
}
