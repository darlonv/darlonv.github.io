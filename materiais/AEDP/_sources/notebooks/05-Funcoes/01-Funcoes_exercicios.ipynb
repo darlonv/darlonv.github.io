{
 "cells": [
  {
   "cell_type": "markdown",
   "metadata": {},
   "source": [
    "# Exercícios"
   ]
  },
  {
   "cell_type": "markdown",
   "metadata": {},
   "source": [
    "**Exercício**"
   ]
  },
  {
   "cell_type": "markdown",
   "metadata": {},
   "source": [
    "Implemente as funções `maior` e `menor`, que recebem como entrada 5 números. Uma delas retorna o maior valor e outra o menor valor."
   ]
  },
  {
   "cell_type": "code",
   "execution_count": null,
   "metadata": {},
   "outputs": [],
   "source": []
  },
  {
   "cell_type": "markdown",
   "metadata": {},
   "source": [
    "**Exercício**"
   ]
  },
  {
   "cell_type": "markdown",
   "metadata": {},
   "source": [
    "Implemente a função `maiorEMenor`, que retorna o maior e o menor número, considerando 5 valores de entrada."
   ]
  },
  {
   "cell_type": "code",
   "execution_count": null,
   "metadata": {},
   "outputs": [],
   "source": []
  },
  {
   "cell_type": "markdown",
   "metadata": {},
   "source": [
    "**Exercício**"
   ]
  },
  {
   "cell_type": "markdown",
   "metadata": {},
   "source": [
    "Faça uma rotina que recebe um número `n`, e mostra a tabuada desse número na tela.  \n",
    "\n",
    "Fonte: Adaptado de [PINHO](https://www.inf.pucrs.br/~pinho/LaproI/Exercicios/Funcoes/lista.htm). "
   ]
  },
  {
   "cell_type": "code",
   "execution_count": null,
   "metadata": {},
   "outputs": [],
   "source": []
  },
  {
   "cell_type": "markdown",
   "metadata": {},
   "source": [
    "**Exercício**"
   ]
  },
  {
   "cell_type": "markdown",
   "metadata": {},
   "source": [
    "Implemente a função `fatorial`, que calcula o fatorial de um número."
   ]
  },
  {
   "cell_type": "code",
   "execution_count": null,
   "metadata": {},
   "outputs": [],
   "source": []
  },
  {
   "cell_type": "markdown",
   "metadata": {},
   "source": [
    "**Exercício**"
   ]
  },
  {
   "cell_type": "markdown",
   "metadata": {},
   "source": [
    "Implemente um procedimento chamado `divDiv` que recebe dois inteiros: o dividendo e o divisor. O procedimento deve mostrar na tela:\n",
    "- o resultado inteiro da divisão,\n",
    "- o resto da divisão inteira e\n",
    "- o resultado da divisão, com precisão de 3 casas decimais.  \n",
    "\n",
    "> **Dica**\n",
    "> \n",
    "> Utilize a função `round(val,n)`, que arredonda `val` para `n` casas decimais."
   ]
  },
  {
   "cell_type": "code",
   "execution_count": null,
   "metadata": {},
   "outputs": [],
   "source": []
  },
  {
   "cell_type": "markdown",
   "metadata": {},
   "source": [
    "**Exercício**"
   ]
  },
  {
   "cell_type": "markdown",
   "metadata": {},
   "source": [
    "Implemente uma função chamada `par`, que retorna `True` caso o valor passado por parâmetro seja par, e `False` caso contrário."
   ]
  },
  {
   "cell_type": "code",
   "execution_count": null,
   "metadata": {},
   "outputs": [],
   "source": []
  },
  {
   "cell_type": "markdown",
   "metadata": {},
   "source": [
    "**Exercício**"
   ]
  },
  {
   "cell_type": "markdown",
   "metadata": {},
   "source": [
    "Implemente uma função chamada `impar`, que retorna `True` caso o valor passado por parâmetro seja impar, e `False` caso o valor seja par."
   ]
  },
  {
   "cell_type": "code",
   "execution_count": null,
   "metadata": {},
   "outputs": [],
   "source": []
  },
  {
   "cell_type": "markdown",
   "metadata": {},
   "source": [
    "**Exercício**"
   ]
  },
  {
   "cell_type": "markdown",
   "metadata": {},
   "source": [
    "Implemente uma função chamada primo, que retorna `True` caso o valor passado por parâmetro seja um númeor primo, e `False` caso contrário."
   ]
  },
  {
   "cell_type": "code",
   "execution_count": null,
   "metadata": {},
   "outputs": [],
   "source": []
  },
  {
   "cell_type": "markdown",
   "metadata": {},
   "source": [
    "**Exercício**"
   ]
  },
  {
   "cell_type": "markdown",
   "metadata": {},
   "source": [
    "Desenvolva uma função que calcula o número de combinações $C$ de $n$ elementos tomados $p$ a $p$.\n",
    "$$C^n_p = \\frac{n!}{p!(n-p)!}$$"
   ]
  },
  {
   "cell_type": "code",
   "execution_count": null,
   "metadata": {},
   "outputs": [],
   "source": []
  },
  {
   "cell_type": "markdown",
   "metadata": {},
   "source": [
    "**Exercício**"
   ]
  },
  {
   "cell_type": "markdown",
   "metadata": {},
   "source": [
    "Implemente uma função chamada perfeito, que retorna `True` caso o valor passado por\n",
    "parâmetro seja um número perfeito, e `False` caso contrário. Um número perfeito é aquele que é igual à soma de todos os seus divisores, exceto ele próprio.  \n",
    "\n",
    "> **Exemplo**\n",
    ">\n",
    "> $6$ é um número perfeito, pois $6=1+2+3$."
   ]
  },
  {
   "cell_type": "code",
   "execution_count": null,
   "metadata": {},
   "outputs": [],
   "source": []
  },
  {
   "cell_type": "markdown",
   "metadata": {},
   "source": [
    "**Exercício**"
   ]
  },
  {
   "cell_type": "markdown",
   "metadata": {},
   "source": [
    "Implemente uma função chamada `perfeitosIntervalo` que recebe dois números inteiros `ini` e `fim` como parâmetro, e exibe na tela todos os números perfeitos que estão no intervalo entre `ini` e `fim`."
   ]
  },
  {
   "cell_type": "code",
   "execution_count": null,
   "metadata": {},
   "outputs": [],
   "source": []
  },
  {
   "cell_type": "markdown",
   "metadata": {},
   "source": [
    "**Exercício**"
   ]
  },
  {
   "cell_type": "markdown",
   "metadata": {},
   "source": [
    "Implemente uma função chamada `circuloArea`, que recebe como entrada o raio de um círculo, e retorna a área desse círculo."
   ]
  },
  {
   "cell_type": "code",
   "execution_count": null,
   "metadata": {},
   "outputs": [],
   "source": []
  },
  {
   "cell_type": "markdown",
   "metadata": {},
   "source": [
    "**Exercício**"
   ]
  },
  {
   "cell_type": "markdown",
   "metadata": {},
   "source": [
    "Implemente uma função chamada `primosIntervalo`, que retorna todos os números primos em um intervalo especificado."
   ]
  },
  {
   "cell_type": "code",
   "execution_count": null,
   "metadata": {},
   "outputs": [],
   "source": []
  },
  {
   "cell_type": "markdown",
   "metadata": {},
   "source": [
    "**Exercício**"
   ]
  },
  {
   "cell_type": "markdown",
   "metadata": {},
   "source": [
    "Implemente uma função chamada `tempConv`, que recebe três parâmetros como entrada: \n",
    "- um valor de temperatura (float), \n",
    "- a escala da temperatura de entrada (char) e \n",
    "- a escala da temperatura de saída (char).  \n",
    "Os possíveis valores para escala são C, F, K, R (maiúsculas ou minúsculas) que correspondem às escalas Celcius, Fahrenheit, Kelvin e Réamur. A função deve retornar a temperatura informada na entrada para a temperatura na escala definida para saída."
   ]
  },
  {
   "cell_type": "code",
   "execution_count": null,
   "metadata": {},
   "outputs": [],
   "source": []
  },
  {
   "cell_type": "markdown",
   "metadata": {},
   "source": [
    "**Exercício**"
   ]
  },
  {
   "cell_type": "markdown",
   "metadata": {},
   "source": [
    "Faça uma função chamada `pot2` que retorna `True` caso o parâmetro seja uma potência de 2."
   ]
  },
  {
   "cell_type": "code",
   "execution_count": null,
   "metadata": {},
   "outputs": [],
   "source": []
  },
  {
   "cell_type": "markdown",
   "metadata": {},
   "source": [
    "**Exercício**"
   ]
  },
  {
   "cell_type": "markdown",
   "metadata": {},
   "source": [
    "Desenvolva uma função chamada `potN`, que possui dois parâmetros $x$ e $n$. A função deve retornar `True` caso $x$ seja uma potência de $n$. Caso $n$ seja omitido, deve ser verificado se $x$ é uma potência de 2."
   ]
  },
  {
   "cell_type": "code",
   "execution_count": null,
   "metadata": {},
   "outputs": [],
   "source": []
  },
  {
   "cell_type": "markdown",
   "metadata": {},
   "source": [
    "**Exercício**"
   ]
  },
  {
   "cell_type": "markdown",
   "metadata": {},
   "source": [
    "Faça uma função chamada `potN`, que recebe dois valores inteiros como entrada. Um valor `x` e uma base `b`, e o programa verifica se $$x = b^e$$ tal que `e` seja um número inteiro. Caso exista, o valor `e` deve ser retornado, e `False` caso contrário."
   ]
  },
  {
   "cell_type": "code",
   "execution_count": null,
   "metadata": {},
   "outputs": [],
   "source": []
  },
  {
   "cell_type": "markdown",
   "metadata": {},
   "source": [
    "**Exercício**"
   ]
  },
  {
   "cell_type": "markdown",
   "metadata": {},
   "source": [
    "Implemente uma função chamada `pontosDistancia` que recebe dois pares de números, que correspondem a pontos em um plano cartesiano. A função deve retornar a distância entre esses dois pontos."
   ]
  },
  {
   "cell_type": "code",
   "execution_count": null,
   "metadata": {},
   "outputs": [],
   "source": []
  },
  {
   "cell_type": "markdown",
   "metadata": {},
   "source": [
    "**Exercício**"
   ]
  },
  {
   "cell_type": "markdown",
   "metadata": {},
   "source": [
    "Implemente uma função chamada `trianguloPerim`, que recebe três pares de números, que correspondem a coordenadas em um plano cartesiano. Tais coordenadas correspondem aos vértices de um triângulo. Calcule e retorno o perímetro do triângulo formado pelos pontos. Os parâmetros devem ser identificados como `x0`, `y0`, `x1`, `y1`, `x2` e `y2`."
   ]
  },
  {
   "cell_type": "code",
   "execution_count": null,
   "metadata": {},
   "outputs": [],
   "source": []
  },
  {
   "cell_type": "markdown",
   "metadata": {},
   "source": [
    "**Exercício**"
   ]
  },
  {
   "cell_type": "markdown",
   "metadata": {},
   "source": [
    "Faça um procedimento que recebe a idade de um nadador. Deve ser mostrado na tela a categoria em que o nadador deve competir, de acordo com a tabela apresentada.\n",
    "\n",
    "|Idade (anos)|Categoria|\n",
    "|------------|---------|\n",
    "|5 a 7| Infantil A|\n",
    "|8 a 10|Infantil B|\n",
    "|11 a 13| Juvenil A|\n",
    "|14 a 17| Juvenil B|\n",
    "|18 e acima de 18| Adulto|\n",
    "\n",
    "Fonte: Adaptado de [PINHO](https://www.inf.pucrs.br/~pinho/LaproI/Exercicios/Funcoes/lista.htm).  "
   ]
  },
  {
   "cell_type": "code",
   "execution_count": null,
   "metadata": {},
   "outputs": [],
   "source": []
  },
  {
   "cell_type": "markdown",
   "metadata": {},
   "source": [
    "**Exercício**"
   ]
  },
  {
   "cell_type": "markdown",
   "metadata": {},
   "source": [
    "Escreva uma função que tem como entrada um valor $n$, tal que $n$ pertence aos inteiros positivos. A função deve retornar o valor da soma S, onde:\n",
    "$$S = \\frac{1}{1}+\\frac{1}{2}+\\frac{1}{3}+...+\\frac{1}{n-1}++\\frac{1}{n}$$\n",
    "\n"
   ]
  },
  {
   "cell_type": "code",
   "execution_count": null,
   "metadata": {},
   "outputs": [],
   "source": []
  },
  {
   "cell_type": "markdown",
   "metadata": {},
   "source": [
    "**Exercício**"
   ]
  },
  {
   "cell_type": "markdown",
   "metadata": {},
   "source": [
    "Desenvolva um procedimento que \"desenha\" na tela um retângulo, com valores especificados pelo usuário. Devem ser passados os valores das dimensões (largura e altura), e os caracteres que compõem a borda e o preenchimento. Largura e altura devem ser sempre maiores que 2.\n",
    "\n",
    ">**Exemplo**\n",
    ">\n",
    ">- Entrada:\n",
    "    - Largura=20\n",
    "    - Altura=5\n",
    "    - Borda=`X`\n",
    "    - Preenchimento=`_`\n",
    ">- Saída:\n",
    ">```\n",
    "XXXXXXXXXXXXXXXXXXXX\n",
    "X__________________X\n",
    "X__________________X\n",
    "X__________________X\n",
    "XXXXXXXXXXXXXXXXXXXX\n",
    "```\n",
    "\n",
    "\n",
    "Fonte: Adaptado de [OLIVEIRA](http://professor.pucgoias.edu.br/SiteDocente/admin/arquivosUpload/17504/material/cmp1048-lista_exercicios-01.pdf).  "
   ]
  },
  {
   "cell_type": "code",
   "execution_count": null,
   "metadata": {},
   "outputs": [],
   "source": []
  },
  {
   "cell_type": "markdown",
   "metadata": {},
   "source": [
    "**Exercício**"
   ]
  },
  {
   "cell_type": "markdown",
   "metadata": {},
   "source": [
    "Implemente uma função para verificar se determinado valor é ou não regular. Um número é dito regular se sua decomposição em fatores primos apresenta apenas potências de 2, 3 e 5.\n",
    "\n",
    "Fonte: Adaptado de [OLIVEIRA](http://professor.pucgoias.edu.br/SiteDocente/admin/arquivosUpload/17504/material/cmp1048-lista_exercicios-01.pdf).  "
   ]
  },
  {
   "cell_type": "code",
   "execution_count": null,
   "metadata": {},
   "outputs": [],
   "source": []
  },
  {
   "cell_type": "markdown",
   "metadata": {},
   "source": [
    "**Exercício**"
   ]
  },
  {
   "cell_type": "markdown",
   "metadata": {},
   "source": [
    "Implemente uma função chamada `raiz`, que retorna a enésima raiz $r$ de um número, tendo como parâmetros o número $n$ e a raiz $x$. Caso o valor de $x$ não seja informado, a função deve retornar a raíz quadrada do número.   \n",
    "\n",
    "$$r = \\sqrt[n]{x}$$\n",
    "\n",
    ">**Dica**\n",
    ">\n",
    ">$$\\sqrt[n]{x} = x^\\frac{1}{n}$$"
   ]
  },
  {
   "cell_type": "code",
   "execution_count": null,
   "metadata": {},
   "outputs": [],
   "source": []
  },
  {
   "cell_type": "markdown",
   "metadata": {},
   "source": [
    "## Referências\n",
    "\n",
    "[MORAES, S., PINHO, M.S., TERRA, E. Exercícios sobre Funções e Procedimentos. Escola Politécnica da PUCRS.](https://www.inf.pucrs.br/~pinho/LaproI/Exercicios/Funcoes/lista.htm)  \n",
    "[OLIVEIRA, M.G. Lista de exercícios: Funções.](http://professor.pucgoias.edu.br/SiteDocente/admin/arquivosUpload/17504/material/cmp1048-lista_exercicios-01.pdf)  \n",
    "\n"
   ]
  }
 ],
 "metadata": {
  "kernelspec": {
   "display_name": "Python 3",
   "language": "python",
   "name": "python3"
  },
  "language_info": {
   "codemirror_mode": {
    "name": "ipython",
    "version": 3
   },
   "file_extension": ".py",
   "mimetype": "text/x-python",
   "name": "python",
   "nbconvert_exporter": "python",
   "pygments_lexer": "ipython3",
   "version": "3.6.8"
  }
 },
 "nbformat": 4,
 "nbformat_minor": 4
}
