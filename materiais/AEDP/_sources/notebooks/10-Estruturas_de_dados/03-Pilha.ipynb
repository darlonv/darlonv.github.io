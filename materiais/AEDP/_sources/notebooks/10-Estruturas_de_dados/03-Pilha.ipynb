{
 "cells": [
  {
   "cell_type": "markdown",
   "metadata": {},
   "source": [
    "# Pilha"
   ]
  },
  {
   "cell_type": "markdown",
   "metadata": {},
   "source": [
    "Assim como a fila, uma **pilha** também pode utilizar a estrutura de lista. Porém, os dados em uma pilha sempre são inseridos e retirados ao final.\n",
    "\n",
    "Uma pilha é uma estrutura do tipo LIFO (*Last In, First Out*).\n",
    "\n",
    "## Operações\n",
    "\n",
    "- Criar\n",
    "- Apagar\n",
    "- Inserir (*push*)\n",
    "- Retirar (*pop*)\n",
    "\n",
    "**Exemplo**  \n",
    "- `push(item)`\n",
    "- `pop()`"
   ]
  },
  {
   "cell_type": "markdown",
   "metadata": {},
   "source": [
    "**Código**\n",
    "```py\n",
    "class Pilha:\n",
    "    def __init__ (self):\n",
    "        self.pilha = []\n",
    "\n",
    "    def push(self, item):\n",
    "        self.pilha.append(item)\n",
    "\n",
    "    def pop(self):\n",
    "        return self.pilha.pop()\n",
    "\n",
    "    def vazia(self):\n",
    "        return not bool(len(self.pilha))\n",
    "\n",
    "    def print(self):\n",
    "        print(self.__str__())\n",
    "\n",
    "    def info(self):\n",
    "        print('Size:', len(self.pilha))\n",
    "        self.print()\n",
    "        \n",
    "    def __repr__(self):\n",
    "        return str(self.pilha)\n",
    "        \n",
    "    def __str__(self):\n",
    "        return str(self.pilha)\n",
    "```"
   ]
  },
  {
   "cell_type": "code",
   "execution_count": null,
   "metadata": {},
   "outputs": [],
   "source": []
  },
  {
   "cell_type": "markdown",
   "metadata": {},
   "source": [
    "**Exemplo**  \n",
    "\n",
    "```python\n",
    "p = Pilha()\n",
    "p.push(10)\n",
    "p.push(15)\n",
    "p.push(20)\n",
    "print(p)\n",
    "print(p.pop())\n",
    "print(p)\n",
    "print(p.pop())\n",
    "p.push('abc')\n",
    "print(p)\n",
    "print(p.pop())\n",
    "print(p)\n",
    "print(p.pop())\n",
    "```"
   ]
  },
  {
   "cell_type": "code",
   "execution_count": null,
   "metadata": {},
   "outputs": [],
   "source": []
  },
  {
   "cell_type": "markdown",
   "metadata": {},
   "source": [
    "**Exemplo**  \n",
    "\n",
    "```python\n",
    "p = Pilha()\n",
    "p.push(10)\n",
    "p.push(15)\n",
    "p.push(20)\n",
    "p.push(25)\n",
    "p.push(30)\n",
    "\n",
    "p.info()\n",
    "while not p.vazia():\n",
    "    print(p.pop())\n",
    "    \n",
    "p.info()\n",
    "```"
   ]
  },
  {
   "cell_type": "code",
   "execution_count": null,
   "metadata": {},
   "outputs": [],
   "source": []
  },
  {
   "cell_type": "code",
   "execution_count": 74,
   "metadata": {},
   "outputs": [],
   "source": []
  },
  {
   "cell_type": "code",
   "execution_count": 75,
   "metadata": {},
   "outputs": [],
   "source": []
  }
 ],
 "metadata": {
  "kernelspec": {
   "display_name": "all",
   "language": "python",
   "name": "all"
  },
  "language_info": {
   "codemirror_mode": {
    "name": "ipython",
    "version": 3
   },
   "file_extension": ".py",
   "mimetype": "text/x-python",
   "name": "python",
   "nbconvert_exporter": "python",
   "pygments_lexer": "ipython3",
   "version": "3.6.8"
  }
 },
 "nbformat": 4,
 "nbformat_minor": 4
}
