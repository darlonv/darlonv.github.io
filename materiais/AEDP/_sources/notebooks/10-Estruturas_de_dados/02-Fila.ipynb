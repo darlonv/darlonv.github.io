{
 "cells": [
  {
   "cell_type": "markdown",
   "metadata": {},
   "source": [
    "# Filas"
   ]
  },
  {
   "cell_type": "markdown",
   "metadata": {},
   "source": [
    "# Fila\n",
    "\n",
    "A estrutura de dados que armazena uma lista também pode ser utilizada para uma **fila**. O que as diferencia é que em uma fila os dados são inseridos **no início** e retirados **do final**. \n",
    "\n",
    "Uma fila é uma estrutura do tipo FIFO (*First In, First Out*).\n",
    "\n",
    "## Operações\n",
    "\n",
    "- Criar\n",
    "- Apagar\n",
    "- Inserir (*push*)\n",
    "- Retirar (*pop*)\n",
    "\n",
    "**Exemplo**  \n",
    "- `push(item)`\n",
    "- `pop(item)`\n"
   ]
  },
  {
   "cell_type": "code",
   "execution_count": null,
   "metadata": {},
   "outputs": [],
   "source": []
  }
 ],
 "metadata": {
  "kernelspec": {
   "display_name": "all",
   "language": "python",
   "name": "all"
  },
  "language_info": {
   "codemirror_mode": {
    "name": "ipython",
    "version": 3
   },
   "file_extension": ".py",
   "mimetype": "text/x-python",
   "name": "python",
   "nbconvert_exporter": "python",
   "pygments_lexer": "ipython3",
   "version": "3.6.8"
  }
 },
 "nbformat": 4,
 "nbformat_minor": 4
}
