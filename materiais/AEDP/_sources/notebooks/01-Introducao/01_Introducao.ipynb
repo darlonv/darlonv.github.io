{
 "cells": [
  {
   "cell_type": "markdown",
   "metadata": {
    "slideshow": {
     "slide_type": "slide"
    }
   },
   "source": [
    "# Introdução a algoritmos"
   ]
  },
  {
   "cell_type": "markdown",
   "metadata": {
    "slideshow": {
     "slide_type": "slide"
    }
   },
   "source": [
    "## Algoritmo"
   ]
  },
  {
   "cell_type": "markdown",
   "metadata": {
    "slideshow": {
     "slide_type": "fragment"
    }
   },
   "source": [
    "Um algoritmo é uma sequência de passos para resolver um problema."
   ]
  },
  {
   "cell_type": "markdown",
   "metadata": {
    "slideshow": {
     "slide_type": "slide"
    }
   },
   "source": [
    "## Linguagem de programação"
   ]
  },
  {
   "cell_type": "markdown",
   "metadata": {
    "slideshow": {
     "slide_type": "fragment"
    }
   },
   "source": [
    "Uma linguagem de programação é um conjunto de regras bem definidas e padronizadas, para *implementar* um *código fonte*. Utilizando este conjunto de regras é possível *codificar* um algoritmo, que posteriormente será executado por um processador."
   ]
  },
  {
   "cell_type": "markdown",
   "metadata": {
    "slideshow": {
     "slide_type": "subslide"
    }
   },
   "source": [
    "### Tipos de linguagem\n",
    "- Interpretadas x compiladas\n",
    "- Alto nível x baixo nível"
   ]
  },
  {
   "cell_type": "markdown",
   "metadata": {
    "slideshow": {
     "slide_type": "subslide"
    }
   },
   "source": [
    "- Interpretadas\n",
    "    - Código carregado e executado linha a linha\n",
    "    - Necessário interpretador\n",
    "        - Específico para a plataforma\n",
    "    - Alta portabilidade"
   ]
  },
  {
   "cell_type": "markdown",
   "metadata": {
    "slideshow": {
     "slide_type": "subslide"
    }
   },
   "source": [
    "- Compiladas\n",
    "    - Código passado a outro formato, o compilado\n",
    "    - Necessário um compilador\n",
    "        - Compilador específico para a plataforma\n",
    "    - Baixa portabilidade"
   ]
  },
  {
   "cell_type": "markdown",
   "metadata": {
    "slideshow": {
     "slide_type": "subslide"
    }
   },
   "source": [
    "- Alto nível\n",
    "    - A sintaxe da linguagem:\n",
    "        - se aproxima mais da nossa linguagem\n",
    "        - se distancia mais da linguagem da máquina\n",
    "    - maior nível de abstração\n",
    "    - Exemplos\n",
    "        - JavaScript\n",
    "        - Python\n",
    "        - Php\n",
    "        - Ruby\n",
    "    "
   ]
  },
  {
   "cell_type": "markdown",
   "metadata": {
    "slideshow": {
     "slide_type": "subslide"
    }
   },
   "source": [
    "- Baixo nível\n",
    "    - A sintaxe da linguagem:\n",
    "        - é mais próxima da linguagem da máquina"
   ]
  },
  {
   "cell_type": "markdown",
   "metadata": {
    "slideshow": {
     "slide_type": "slide"
    }
   },
   "source": [
    "## Processo de programação"
   ]
  },
  {
   "cell_type": "markdown",
   "metadata": {
    "slideshow": {
     "slide_type": "subslide"
    }
   },
   "source": [
    "- Lógica de resolução do problema\n",
    "- Codificação\n",
    "- Compilação\n",
    "- Execução"
   ]
  },
  {
   "cell_type": "markdown",
   "metadata": {
    "slideshow": {
     "slide_type": "subslide"
    }
   },
   "source": [
    "### Lógica de resolução do problema\n",
    "- Resolução do problema, em linguagem natural\n",
    "- Necessário especialista na área"
   ]
  },
  {
   "cell_type": "markdown",
   "metadata": {
    "slideshow": {
     "slide_type": "subslide"
    }
   },
   "source": [
    "### Codificação\n",
    "- Escrita da lógica de resolução do problema utilizando uma linguagem de programação, com regras bem definidas\n",
    "- C, C++, Perl, Python, Java, Pascal, etc."
   ]
  },
  {
   "cell_type": "markdown",
   "metadata": {
    "slideshow": {
     "slide_type": "subslide"
    }
   },
   "source": [
    "### Compilação\n",
    " - Transformação do código escrito em uma linguagem de programação em arquivo binário\n",
    " - Compatível com o sistema operacional (SO) e arquitetura do processador."
   ]
  },
  {
   "cell_type": "markdown",
   "metadata": {
    "slideshow": {
     "slide_type": "subslide"
    }
   },
   "source": [
    "### Execução\n",
    "- Carregamento e execução das funções\n",
    "- Realizado pelo SO e processador"
   ]
  },
  {
   "cell_type": "markdown",
   "metadata": {
    "slideshow": {
     "slide_type": "slide"
    }
   },
   "source": [
    "## Exercícios\n",
    "- Como fazer gelo?"
   ]
  },
  {
   "cell_type": "markdown",
   "metadata": {
    "slideshow": {
     "slide_type": "fragment"
    }
   },
   "source": [
    "- Como trocar uma lâmpada?"
   ]
  },
  {
   "cell_type": "markdown",
   "metadata": {
    "slideshow": {
     "slide_type": "fragment"
    }
   },
   "source": [
    "- Como trocar o pneu de um carro?"
   ]
  },
  {
   "cell_type": "markdown",
   "metadata": {
    "slideshow": {
     "slide_type": "subslide"
    }
   },
   "source": [
    "Um homem precisa atravessar um rio com um barco que possui capacidade de transportar apenas ele mesmo e mais uma de suas três cargas, que são: um lobo, um bode e uma caixa de alfafa. Indique as ações necessárias para que o homem consiga atravessar o rio sem perder suas cargas.\n",
    "- Utilize as funções `atravessar(p)` ou `voltar(p)`\n",
    "    - p1, é o passageiro ou carga do barco, que podem ser `lobo`, `bode`, `alfafa` ou `ninguém`."
   ]
  },
  {
   "cell_type": "markdown",
   "metadata": {
    "slideshow": {
     "slide_type": "subslide"
    }
   },
   "source": [
    "Elabore um algoritmo que mova três discos de uma Torre de Hanói, que consiste em três hastes (A, B e C), uma das quais serve de suporte para três discos de tamanhos diferentes (1, 2 e 3), os menores sobre os maiores. É possível mover um disco de cada vez para qualquer haste, porém nunca deve ser colocado um disco maior sobre um menor. O objetivo é transferir os três discos para outra haste. \n",
    "- Utilize a função `movimentar(de, para)`, que movimenta o disco que está no topo da haste `de` e o coloca no topo da haste `para`."
   ]
  }
 ],
 "metadata": {
  "kernelspec": {
   "display_name": "Python 3",
   "language": "python",
   "name": "python3"
  },
  "language_info": {
   "codemirror_mode": {
    "name": "ipython",
    "version": 3
   },
   "file_extension": ".py",
   "mimetype": "text/x-python",
   "name": "python",
   "nbconvert_exporter": "python",
   "pygments_lexer": "ipython3",
   "version": "3.6.8"
  }
 },
 "nbformat": 4,
 "nbformat_minor": 2
}
