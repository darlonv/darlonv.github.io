{
 "cells": [
  {
   "cell_type": "markdown",
   "metadata": {},
   "source": [
    "# Linguagem de Programação II"
   ]
  },
  {
   "cell_type": "markdown",
   "metadata": {},
   "source": [
    "## Dados"
   ]
  },
  {
   "cell_type": "markdown",
   "metadata": {},
   "source": [
    "## Organização dos conteúdos"
   ]
  },
  {
   "cell_type": "markdown",
   "metadata": {},
   "source": [
    "### 1º Bimestre"
   ]
  },
  {
   "cell_type": "markdown",
   "metadata": {},
   "source": [
    "1. Introdução a algoritmos\n",
    "    - O que é um algoritmo\n",
    "    - Variáveis\n",
    "    - Identificadores e palavras reservadas\n",
    "1. Introdução à linguagem de programação\n",
    "    - História das linguagens de programação\n",
    "    - Conceitos básicos de linguagem de programação\n",
    "        - Fluxo de execução\n",
    "        - Variáveis\n",
    "        - Estruturas de seleção\n",
    "        - Estruturas de repetição\n",
    "1. Python\n",
    "    - Interpretador\n",
    "    - Jupyter\n",
    "1. Python\n",
    "    - Variáveis\n",
    "    - Estruturas de seleção\n",
    "    - Estruturas de repetição\n",
    "1. Comparações entre linguagens de programação\n",
    "    - Alto nível e baixo nível\n",
    "    - Compiladas e interpretadas\n",
    "    - Linguagens amplamente conhecidas\n",
    "        - C, Java e Python\n",
    "        - Sintaxe básica\n",
    "            - Hello world\n",
    "        - Declaração de variáveis\n",
    "        - Funções e procedimentos\n",
    "1. Introdução ao ambiente de desenvolvimento\n",
    "    - C\n",
    "        - Linha de comando\n",
    "    - Java\n",
    "        - Linha de comando\n",
    "        - Netbeans\n"
   ]
  },
  {
   "cell_type": "markdown",
   "metadata": {},
   "source": [
    "### 2º Bimestre"
   ]
  },
  {
   "cell_type": "markdown",
   "metadata": {},
   "source": [
    "1. Rotinas\n",
    "    - Procedimentos e funções\n",
    "    - Escopo de variáveis\n",
    "    - Recursividade\n",
    "    - Parâmetros e argumentos\n",
    "1. Elementos de orientação a objetos\n",
    "    - Classes\n",
    "    - Objetos\n",
    "    - Atributos\n",
    "    - Métodos\n",
    "1. Estruturas de dados\n",
    "    - Lista\n",
    "    - Fila\n",
    "    - Pilha\n",
    "    - Árvores\n",
    "    - Árvores binárias\n",
    "1. Python\n",
    "    - Sequências\n",
    "        - Listas\n",
    "        - Strings\n",
    "    - Conjuntos\n",
    "    - Dicionários\n",
    "1. Vetores\n",
    "    - Numpy"
   ]
  },
  {
   "cell_type": "markdown",
   "metadata": {},
   "source": [
    "### 3º Bimestre"
   ]
  },
  {
   "cell_type": "markdown",
   "metadata": {},
   "source": [
    "1. Arquivos\n",
    "    - Texto\n",
    "    - Binário\n",
    "    - Formatos\n",
    "        - CSV\n",
    "        - XML\n",
    "        - JSon\n",
    "1. Estruturas de dados\n",
    "    - Listas\n",
    "    - Filas\n",
    "    - Pilhas\n",
    "    - Arvores\n",
    "    - Arvores binarias\n",
    "1. Busca\n",
    "    - Linear\n",
    "    - Binária\n",
    "1. Ordenação\n",
    "    - Bubble Sort\n",
    "    - Insertion Sort\n",
    "    - Selection Sort\n",
    "    - Merge Sort\n",
    "    - Quick Sort"
   ]
  },
  {
   "cell_type": "markdown",
   "metadata": {},
   "source": [
    "### 4º Bimestre"
   ]
  },
  {
   "cell_type": "markdown",
   "metadata": {},
   "source": [
    "1. Projetos envolvendo linguagem de programação e bibliotecas adicionais"
   ]
  },
  {
   "cell_type": "markdown",
   "metadata": {},
   "source": []
  }
 ],
 "metadata": {
  "kernelspec": {
   "display_name": "Python 3",
   "language": "python",
   "name": "python3"
  },
  "language_info": {
   "codemirror_mode": {
    "name": "ipython",
    "version": 3
   },
   "file_extension": ".py",
   "mimetype": "text/x-python",
   "name": "python",
   "nbconvert_exporter": "python",
   "pygments_lexer": "ipython3",
   "version": "3.6.8"
  }
 },
 "nbformat": 4,
 "nbformat_minor": 2
}
