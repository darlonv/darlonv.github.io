{
 "cells": [
  {
   "cell_type": "markdown",
   "metadata": {
    "slideshow": {
     "slide_type": "slide"
    }
   },
   "source": [
    "# Ciência de dados"
   ]
  },
  {
   "cell_type": "markdown",
   "metadata": {
    "slideshow": {
     "slide_type": "fragment"
    }
   },
   "source": [
    "\n",
    "A Ciência de Dados (ou do inglês *Data Science*) consiste na extração de informações a partir de um determinado conjunto de dados."
   ]
  },
  {
   "cell_type": "markdown",
   "metadata": {
    "slideshow": {
     "slide_type": "fragment"
    }
   },
   "source": [
    "É uma área extramente multidisciplar, abrangendo computação, estatística, matemática e conhecimentos específicos de determinada atividade ou negócio."
   ]
  },
  {
   "cell_type": "markdown",
   "metadata": {
    "slideshow": {
     "slide_type": "slide"
    }
   },
   "source": [
    "## Extração de dados descoberta de conhecimento"
   ]
  },
  {
   "cell_type": "markdown",
   "metadata": {
    "slideshow": {
     "slide_type": "fragment"
    }
   },
   "source": [
    "Neste sentido, um processo amplamente conhecido é o KDD (do inglês *Knowledge Discovery in Databases*). Neste processo, existe a extração de informações a partir de bases de dados, que consiste em encontrar informações não observadas anteriormente pelo especialista no assunto."
   ]
  },
  {
   "cell_type": "markdown",
   "metadata": {
    "slideshow": {
     "slide_type": "subslide"
    }
   },
   "source": [
    "- Dados\n",
    "    - Seleção\n",
    "- Dados selecionados\n",
    "    - Processamento\n",
    "- Dados pré-processados\n",
    "    - Transformação\n",
    "- Dados transformados\n",
    "    - Mineração de dados\n",
    "- Padrões\n",
    "    - Interpretação e avaliação\n",
    "- Conhecimento"
   ]
  },
  {
   "cell_type": "markdown",
   "metadata": {
    "slideshow": {
     "slide_type": "subslide"
    }
   },
   "source": [
    "![KDD](https://miro.medium.com/max/960/1*rhX0r7cj8YArEkr4bGLpOA.png)\n",
    "Fonte: [MOURA, Karina. Ciclo de vida dos dados #1. Medium, 2019](https://medium.com/@kvmoura/kdd-process-9b8e3062142)"
   ]
  },
  {
   "cell_type": "markdown",
   "metadata": {
    "slideshow": {
     "slide_type": "subslide"
    }
   },
   "source": [
    "### Seleção\n",
    "Fase que consiste em selecionar os dados que farão parte da análise. Os dados podem ser de diferentes origens, como planilhas, sistemas, arquivos, etc. Os dados também podem estar em diferentes formatos, como estruturados, não estruturados ou semiestruturados."
   ]
  },
  {
   "cell_type": "markdown",
   "metadata": {
    "slideshow": {
     "slide_type": "subslide"
    }
   },
   "source": [
    "### Processamento\n",
    "Trata de observar a qualidade dos dados armazenados. Consiste em limpar, corrigir ou remover dados inexistentes, verificar se existem dados ausentes ou mesmo incompletos e identificar possíveis anomalias."
   ]
  },
  {
   "cell_type": "markdown",
   "metadata": {
    "slideshow": {
     "slide_type": "subslide"
    }
   },
   "source": [
    "### Transformação\n",
    "Nesta etapa, são aplicadas técnicas de transformação aos dados, como normalização, redução, geração de novas variáveis, dentre outros."
   ]
  },
  {
   "cell_type": "markdown",
   "metadata": {
    "slideshow": {
     "slide_type": "subslide"
    }
   },
   "source": [
    "### Mineração de dados\n",
    "Esta fase trada da aplicação técnicas de mineração de dados ou construção de modelo, com o objetivo de verificar hipóteses ou encontrar novos padrões, de maneira automática.\n",
    "\n",
    "Esta fase pode ser dividida em preditiva e descritiva. A preditiva consiste em prever valores, enquanto a descritiva trata de explicar ou justificar o comportamento dos dados.\n",
    "\n",
    "É comum que os modelos aplicados sejam executados diversas vezes, de acordo com o objetivo da análise."
   ]
  },
  {
   "cell_type": "markdown",
   "metadata": {
    "slideshow": {
     "slide_type": "subslide"
    }
   },
   "source": [
    "### Interpretação e avaliação \n",
    "Esta etapa trata de observar o desempenho do modelo criado ou aplicado, e verificar a qualidade dos resultados obtidos.\n",
    "\n",
    "A validação das informações pode ser realizada de diferentes formas, como utilizando métricas matemáticas/estatísticas ou então pela avaliação de profissionais da área."
   ]
  },
  {
   "cell_type": "markdown",
   "metadata": {},
   "source": []
  },
  {
   "cell_type": "markdown",
   "metadata": {},
   "source": []
  },
  {
   "cell_type": "markdown",
   "metadata": {},
   "source": []
  },
  {
   "cell_type": "markdown",
   "metadata": {},
   "source": []
  },
  {
   "cell_type": "markdown",
   "metadata": {},
   "source": []
  },
  {
   "cell_type": "markdown",
   "metadata": {},
   "source": []
  },
  {
   "cell_type": "markdown",
   "metadata": {
    "slideshow": {
     "slide_type": "slide"
    }
   },
   "source": [
    "## Referências\n",
    "\n",
    "### Outros materiais\n",
    "[MOURA, Karina. Ciclo de vida dos dados #1. Medium, 2019](https://medium.com/@kvmoura/kdd-process-9b8e3062142)"
   ]
  },
  {
   "cell_type": "markdown",
   "metadata": {},
   "source": []
  }
 ],
 "metadata": {
  "kernelspec": {
   "display_name": "Python 3",
   "language": "python",
   "name": "python3"
  },
  "language_info": {
   "codemirror_mode": {
    "name": "ipython",
    "version": 3
   },
   "file_extension": ".py",
   "mimetype": "text/x-python",
   "name": "python",
   "nbconvert_exporter": "python",
   "pygments_lexer": "ipython3",
   "version": "3.6.8"
  }
 },
 "nbformat": 4,
 "nbformat_minor": 2
}
