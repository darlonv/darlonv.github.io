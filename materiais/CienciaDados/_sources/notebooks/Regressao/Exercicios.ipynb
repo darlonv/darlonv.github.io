{
 "cells": [
  {
   "cell_type": "markdown",
   "metadata": {},
   "source": [
    "# Exercícios"
   ]
  },
  {
   "cell_type": "markdown",
   "metadata": {},
   "source": [
    "Utilizando regressão linear para estimar valores, responda as questões apresentadas abaixo. Utilize a base de dados `rioAptos`, disponibilizada em [BasesPublicas](https://drive.google.com/drive/folders/166mbePwjfMhmCOR0ogv2n9rNLtv3uiJB)."
   ]
  },
  {
   "cell_type": "markdown",
   "metadata": {},
   "source": [
    "1. Qual é o valor estimado do condomínio de um apartamento que custa 90 mil reais no bairro da Tijuca?\n",
    "    1. Apresente o gráfico de dispersão dos dados, em conjunto com:\n",
    "        1. a reta que representa a regressão linear entre as duas variáveis consideradas\n",
    "        - um ponto destacando o valor estimado para o valor de apartamento de 90 mil reais\n",
    "    - Qual é o erro médio absoluto da regressão?\n",
    "- Se o valor do condomínio de determinado apartamento situado no bairro do Leblon é mil reais, qual seria o valor aproximado do apartamento?\n",
    "    1. Apresente o gráfico de dispersão dos dados, em conjunto com:\n",
    "        1. a reta que representa a regressão linear entre as duas variáveis consideradas\n",
    "        - um ponto destacando o valor estimado para o valor de apartamento com condomínio de mil reais"
   ]
  },
  {
   "cell_type": "code",
   "execution_count": null,
   "metadata": {},
   "outputs": [],
   "source": []
  }
 ],
 "metadata": {
  "kernelspec": {
   "display_name": "Python 3",
   "language": "python",
   "name": "python3"
  },
  "language_info": {
   "codemirror_mode": {
    "name": "ipython",
    "version": 3
   },
   "file_extension": ".py",
   "mimetype": "text/x-python",
   "name": "python",
   "nbconvert_exporter": "python",
   "pygments_lexer": "ipython3",
   "version": "3.6.8"
  }
 },
 "nbformat": 4,
 "nbformat_minor": 4
}
