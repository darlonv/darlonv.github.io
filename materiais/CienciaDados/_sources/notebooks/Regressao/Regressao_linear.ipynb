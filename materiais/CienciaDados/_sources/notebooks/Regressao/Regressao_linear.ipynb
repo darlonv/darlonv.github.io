{
 "cells": [
  {
   "cell_type": "markdown",
   "metadata": {},
   "source": [
    "# Regressão linear simples\n",
    "\n",
    "A **análise de regressão** estuda a relação entre diversas variáveis, onde uma delas é a **variável dependente** e as demais são **variáveis independentes**.\n",
    "\n",
    "A regressão linear consiste em um modelo matemático, um algoritmo que associa a variável dependente de acordo com as variáveis independentes.\n",
    "\n",
    "Nas situações em que a relação é observada utilizando uma única variável independente, denomina-se o modelo como **regressão linear simples (RLS)**, e quando diversas variáveis independentes são consideradas, o modelo passa a chamar-se **regressão linear múltipla (RLM)**.\n",
    "\n",
    "Em resumo, a regressão linear consiste em descobrir uma equação de reta que calcule a variável dependente com base nas variáveis independentes, utilizando a menor taxa de erro possível.\n",
    "\n",
    "<img src=\"https://upload.wikimedia.org/wikipedia/commons/4/41/LinearRegression.svg\" width=\"300\">  \n",
    "\n",
    "Figura: Exemplo de regressão linear - Fonte: [Wikipedia](https://pt.wikipedia.org/wiki/Regress%C3%A3o_linear)"
   ]
  },
  {
   "cell_type": "markdown",
   "metadata": {},
   "source": [
    "## Bibliotecas\n",
    "\n",
    "```python\n",
    "import numpy as np #Numpy\n",
    "import pandas as pd #Pandas\n",
    "import matplotlib.pyplot as plt #Matplotlib\n",
    "from sklearn.linear_model import LinearRegression #Regressão linear\n",
    "from sklearn import metrics #Cálculo do erro\n",
    "%matplotlib inline \n",
    "```"
   ]
  },
  {
   "cell_type": "code",
   "execution_count": null,
   "metadata": {},
   "outputs": [],
   "source": []
  },
  {
   "cell_type": "markdown",
   "metadata": {},
   "source": [
    "Variáveis de ambiente utilizadas\n",
    "```python\n",
    "#Diretório com dados de entrada\n",
    "DATAPATH = './' \n",
    "\n",
    "#Verifica se está no colab\n",
    "COLAB = 'google.colab' in str(get_ipython())\n",
    "if COLAB:\n",
    "    print('Executando no Google Colaboratory.')\n",
    "    \n",
    "    #Diretório com dados de entrada\n",
    "    DATAPATH='/drive/Shared drives/BasesPublicas/Bases/Exemplos/' \n",
    "    \n",
    "    print('Solicitando acesso a arquivos...')\n",
    "    from google.colab import drive\n",
    "    drive.mount('/drive')\n",
    "    \n",
    "```"
   ]
  },
  {
   "cell_type": "code",
   "execution_count": null,
   "metadata": {},
   "outputs": [],
   "source": []
  },
  {
   "cell_type": "markdown",
   "metadata": {},
   "source": [
    "## Observando os dados\n",
    "Utilizaremos como exemplo a base dados com informações sobre alunos. Nosso objetivo será descobrir, de acordo com os dados, a possível nota de um aluno que estudar $6$ horas."
   ]
  },
  {
   "cell_type": "markdown",
   "metadata": {},
   "source": [
    "**Atividade**\n",
    "\n",
    "Carregue a base de dados alunos para utilizar como exemplo.\n",
    "```python\n",
    "alunos = pd.read_csv(DATAPATH+'alunos.csv')\n",
    "```"
   ]
  },
  {
   "cell_type": "code",
   "execution_count": null,
   "metadata": {},
   "outputs": [],
   "source": []
  },
  {
   "cell_type": "markdown",
   "metadata": {},
   "source": [
    "**Atividade**\n",
    "\n",
    "Observe as primeiras linhas da base de dados."
   ]
  },
  {
   "cell_type": "code",
   "execution_count": null,
   "metadata": {},
   "outputs": [],
   "source": []
  },
  {
   "cell_type": "markdown",
   "metadata": {},
   "source": [
    "**Atividade**\n",
    "\n",
    "Plote o gráfico de dispersão (*scatter*) das variáveis `Tempo` e `Nota`."
   ]
  },
  {
   "cell_type": "code",
   "execution_count": null,
   "metadata": {},
   "outputs": [],
   "source": []
  },
  {
   "cell_type": "markdown",
   "metadata": {},
   "source": [
    "### Gráficos\n",
    "Outra maneira de visualizar os dados utilizando um gráfico de dispersão, é acesando diretamente a biblioteca `matplotlib` (já importada como `plt`).\n",
    "\n",
    "**Exemplo**\n",
    "\n",
    "```python\n",
    "x = alunos['Tempo']\n",
    "y = alunos['Nota']\n",
    "plt.scatter(x,y)\n",
    "```\n",
    "\n",
    "**Atividade**\n",
    "- Faça o gráfico de dispersão utilizando `matplotlib`."
   ]
  },
  {
   "cell_type": "code",
   "execution_count": null,
   "metadata": {},
   "outputs": [],
   "source": []
  },
  {
   "cell_type": "markdown",
   "metadata": {},
   "source": [
    "### Gráficos com dados sobrepostos\n",
    "Também é possível sobrepôr dados no gráfico, utilizando diferentes chamadas.\n",
    "\n",
    "**Exemplo**\n",
    "- Dispersão com os dados\n",
    "- ponto vermelho em $(8,50)$ \n",
    "- reta verde de $(2,5)$ a $(4,80)$\n",
    "\n",
    "```python\n",
    "plt.scatter(alunos['Tempo'], alunos['Nota'])\n",
    "plt.scatter([8],[50], color='red')\n",
    "plt.plot([2,4],[5,80], color='green')\n",
    "```\n",
    "\n",
    "**Atividade**\n",
    "- Plote o gráfico de dispersão, junto com um ponto e uma reta.\n",
    "- Adicione um ponto rosa para $(4,60)$\n",
    "- Adicione uma reta amarela de $(1,1)$ a $(8,5)$"
   ]
  },
  {
   "cell_type": "code",
   "execution_count": null,
   "metadata": {
    "scrolled": true
   },
   "outputs": [],
   "source": []
  },
  {
   "cell_type": "markdown",
   "metadata": {},
   "source": [
    "## Criando o modelo"
   ]
  },
  {
   "cell_type": "markdown",
   "metadata": {},
   "source": [
    "Para calcularmos a regressão linear, utilizemos a biblioteca `sklearn`, utilizando `LinearRegression`, já importado.\n",
    "\n",
    "```python\n",
    "rl = LinearRegression()\n",
    "```\n",
    "\n",
    "**Atividade**\n",
    "\n",
    "- Crie uma instância de `LinearRegression`"
   ]
  },
  {
   "cell_type": "code",
   "execution_count": null,
   "metadata": {},
   "outputs": [],
   "source": []
  },
  {
   "cell_type": "markdown",
   "metadata": {},
   "source": [
    "Os valores a serem inseridos no cálculo da regressão linear, devem estar como vetores `numpy`.\n",
    "\n",
    "Os valores da variável independente (Tempo) devem estar organizados em uma única linha. Para tal, pode-se obter os dados e já deixá-los da maneira correta utilizando o método `reshape(-1,1)`.\n",
    "\n",
    "Já para a variável dependente, pode-se utilizar o método `flatten()`.\n",
    "\n",
    "**Exemplo**\n",
    "```python\n",
    "tempo = alunos['Tempo'].values.reshape(-1,1) #variável independente\n",
    "nota  = alunos['Nota'].values.flatten()      #variável dependente\n",
    "```\n",
    "\n",
    "**Atividade**\n",
    "- Obtenha as variáveis independentes e dependente no formato compatível com o modelo de regressão linear."
   ]
  },
  {
   "cell_type": "code",
   "execution_count": null,
   "metadata": {},
   "outputs": [],
   "source": []
  },
  {
   "cell_type": "code",
   "execution_count": null,
   "metadata": {},
   "outputs": [],
   "source": []
  },
  {
   "cell_type": "markdown",
   "metadata": {},
   "source": [
    "**Atividade**\n",
    "\n",
    "- Observe o formato (*shape*) dos *arrays* numpy `tempo` e `nota`.\n",
    "- Observe o conteúdo dos *arrays* `tempo` e `nota`."
   ]
  },
  {
   "cell_type": "code",
   "execution_count": null,
   "metadata": {},
   "outputs": [],
   "source": []
  },
  {
   "cell_type": "code",
   "execution_count": null,
   "metadata": {},
   "outputs": [],
   "source": []
  },
  {
   "cell_type": "markdown",
   "metadata": {},
   "source": [
    "**Observação**\n",
    "- O método `.flatten()`, presentes nos *arrays* numpy é utilizado para apresentar os dados de maneira unidimensional. P.ex., se usado em uma matriz, ele permite visualizar os dados para um formato em uma única linha.\n",
    "\n",
    "**Exemplo**\n",
    "```python\n",
    "matriz = np.array([[1,2,3],[4,5,6],[7,8,9]])\n",
    "print('Matriz:\\n', matriz)\n",
    "print('Matriz flatten:\\n', matriz.flatten())\n",
    "print('Formato da matriz:', matriz.shape)\n",
    "print('Formato da matriz flatten:', matriz.flatten().shape)\n",
    "```\n",
    "**Atividade**\n",
    "\n",
    "- Observe o exemplo o método `.flatten()`."
   ]
  },
  {
   "cell_type": "code",
   "execution_count": null,
   "metadata": {},
   "outputs": [],
   "source": []
  },
  {
   "cell_type": "markdown",
   "metadata": {},
   "source": [
    "## Treinando o modelo"
   ]
  },
  {
   "cell_type": "markdown",
   "metadata": {},
   "source": [
    "Com as variáveis no formato compatível, podemos utilizá-las no modelo de regressão linear, utilizando o método `.fit()`.\n",
    "\n",
    "**Sintaxe**  \n",
    "- método `fit()`:\n",
    "```python\n",
    ".fit(x, y)\n",
    "```\n",
    "- Onde:\n",
    "    - x: variável independente\n",
    "    - y: variável dependente\n",
    "\n",
    "**Exemplo**\n",
    "```python\n",
    "rl.fit(tempo,nota) #treina o modelo com as variáveis\n",
    "```\n",
    "\n",
    "**Atividade**\n",
    "- Defina as variáveis dependente e independente no modelo de regressão linear alocado."
   ]
  },
  {
   "cell_type": "code",
   "execution_count": null,
   "metadata": {},
   "outputs": [],
   "source": []
  },
  {
   "cell_type": "markdown",
   "metadata": {},
   "source": [
    "## Testando o modelo"
   ]
  },
  {
   "cell_type": "markdown",
   "metadata": {},
   "source": [
    "Com o objeto de regressão linear configurado, podemos então responder à nossa pergunta inicial:\n",
    "- Qual é a nota prevista para o aluno que estudou 6 horas?\n",
    "\n",
    "Para tal, pode-se utilizar o método `.predict()`.\n",
    "\n",
    "**Exemplo**  \n",
    "\n",
    "```python\n",
    "x = [6] #Valor para a variável independente\n",
    "x_arr = np.array(x).reshape(-1,1) #prepara para o formato adequado\n",
    "y_pred  = rl.predict(x_arr) #calcula a predição\n",
    "print('Tempos: ',x_arr.flatten())\n",
    "print('Notas : ', y_pred.flatten())\n",
    "```\n",
    "**Atividade**\n",
    "\n",
    "- Calcule a predição da nota a partir do tempo de estudo de $6$ horas."
   ]
  },
  {
   "cell_type": "code",
   "execution_count": null,
   "metadata": {},
   "outputs": [],
   "source": []
  },
  {
   "cell_type": "markdown",
   "metadata": {},
   "source": [
    "**Exemplo**\n",
    "- No mesmo gráfico de dispersão, plote o novo ponto obtido\n",
    "```python\n",
    "plt.scatter(tempo,nota)\n",
    "plt.scatter(x, y_pred, color='red')\n",
    "```\n",
    "\n",
    "**Atividade**\n",
    "- Plote o gráfico de dispersão com os dados e com os novos valores calculados"
   ]
  },
  {
   "cell_type": "code",
   "execution_count": null,
   "metadata": {},
   "outputs": [],
   "source": []
  },
  {
   "cell_type": "markdown",
   "metadata": {},
   "source": [
    "**Atividade**\n",
    "- Faça a predicão para os valores de 1 a 8\n",
    "- Plote os valores calculados em um gráfico de dispersão, juntamente com os dados originais"
   ]
  },
  {
   "cell_type": "code",
   "execution_count": null,
   "metadata": {},
   "outputs": [],
   "source": []
  },
  {
   "cell_type": "code",
   "execution_count": null,
   "metadata": {},
   "outputs": [],
   "source": []
  },
  {
   "cell_type": "markdown",
   "metadata": {},
   "source": [
    "**Atividade**\n",
    "- Plote um gráfico de dispersão, sobrepondo:\n",
    "    - os dados preditos para os valores de 1 a 8, e\n",
    "    - uma reta que vai do menor ao maior valor predito para o tempo de estudo."
   ]
  },
  {
   "cell_type": "code",
   "execution_count": null,
   "metadata": {},
   "outputs": [],
   "source": []
  },
  {
   "cell_type": "code",
   "execution_count": null,
   "metadata": {},
   "outputs": [],
   "source": []
  },
  {
   "cell_type": "markdown",
   "metadata": {},
   "source": [
    "**Atividade**  \n",
    "- Calcule as seguintes predições, utilizando regressão linear:\n",
    "    - Nota obtida pelo aluno que teve 3 horas de tempo de estudo\n",
    "    - Nota dos alunos que tiveram 15 e 19 faltas\n",
    "    - Tempo de estudo dos alunos que tiveram 10 faltas"
   ]
  },
  {
   "cell_type": "code",
   "execution_count": null,
   "metadata": {},
   "outputs": [],
   "source": []
  },
  {
   "cell_type": "code",
   "execution_count": null,
   "metadata": {},
   "outputs": [],
   "source": []
  },
  {
   "cell_type": "code",
   "execution_count": null,
   "metadata": {},
   "outputs": [],
   "source": []
  },
  {
   "cell_type": "markdown",
   "metadata": {},
   "source": [
    "## Erros\n",
    "\n",
    "Uma das formas de analisar *quanto* a regressão linear funcionou é comparar os resultados reais com os resultado preditos. \n",
    "\n",
    "### Erro médio absoluto\n",
    "Há diferentes formas de analisar os erros, porém aqui observaremos apenas o **erro absoluto médio** , que consiste em \n",
    "\n",
    "$$\n",
    "e = \\frac{\\sum|y - y_{pred}|}{n}\n",
    "$$\n",
    "\n",
    "Pode-se utilizar o método `.mean_absolute_error()`, de `metrics`, presente na biblioteca `sklearn`. Como parâmetro, são passados os valores reais e os valores preditos.  \n",
    "**Exemplo**  \n",
    "```python\n",
    "ema = metrics.mean_absolute_error(y, y_pred)\n",
    "print('Média absoluta dos erros:', ema )\n",
    "```\n",
    "<!---\n",
    "from sklearn import metrics\n",
    "print('Média asbsoluta dos erros:', metrics.mean_absolute_error(yTest, yPred))  \n",
    "print('Média dos erros quadráticos:', metrics.mean_squared_error(yTest, yPred))  \n",
    "print('Raiz quadrada da média dos erros quadráticos:', np.sqrt(metrics.mean_squared_error(yTest, yPred)))\n",
    "--->\n",
    "\n",
    "**Atividade**\n",
    "- Calcule o erro médio absoluto obtidos com os valores da regressão linear, tomando Tempo como variável dependente e Nota como variável independente. Considere todos os dados das variáveis para calcular a regressão."
   ]
  },
  {
   "cell_type": "code",
   "execution_count": null,
   "metadata": {},
   "outputs": [],
   "source": []
  },
  {
   "cell_type": "markdown",
   "metadata": {},
   "source": [
    "**Atividade**\n",
    "- Calcule os erros das regressões lineares das seguintes variáveis, independentes e dependentes:\n",
    "    - Tempo e Nota\n",
    "    - Faltas e Tempo\n",
    "    - Faltas e Nota\n",
    "    - Faltas e Altura\n",
    "    - Altura e Tempo"
   ]
  },
  {
   "cell_type": "code",
   "execution_count": null,
   "metadata": {},
   "outputs": [],
   "source": []
  },
  {
   "cell_type": "code",
   "execution_count": null,
   "metadata": {},
   "outputs": [],
   "source": []
  },
  {
   "cell_type": "code",
   "execution_count": null,
   "metadata": {},
   "outputs": [],
   "source": []
  },
  {
   "cell_type": "markdown",
   "metadata": {},
   "source": [
    "**Atividade**  \n",
    "- Responda:\n",
    "    - em qual escala está o erro?\n",
    "    - qual seria o melhor valor do erro? maior ou menor?\n",
    "    - qual é a relação dos erros com o coeficiente de correlação?"
   ]
  },
  {
   "cell_type": "markdown",
   "metadata": {},
   "source": [
    "## Resumo\n",
    "\n",
    "```python\n",
    "#Carregando base\n",
    "alunos = pd.read_csv(DATAPATH+'alunos.csv')\n",
    "\n",
    "#Alocando regressão linear\n",
    "rl = LinearRegression()\n",
    "\n",
    "#Criando regressão linear\n",
    "tempo = alunos['Tempo'].values.reshape(-1,1)\n",
    "nota  = alunos['Nota'].values.flatten()\n",
    "rl.fit(tempo, nota)\n",
    "\n",
    "#Observando novos valores\n",
    "x = [5,6,7] \n",
    "y_pred  = rl.predict(np.array(x).reshape(-1,1)) #calcula a predição\n",
    "print('Tempo: ', x)\n",
    "print('Notas: ', y_pred)\n",
    "\n",
    "#Calculando o erro médio abosoluto\n",
    "ema = metrics.mean_absolute_error(nota, rl.predict(np.array(tempo).reshape(-1,1)))\n",
    "print('EMA:', ema)\n",
    "```\n",
    "\n"
   ]
  },
  {
   "cell_type": "code",
   "execution_count": null,
   "metadata": {},
   "outputs": [],
   "source": []
  },
  {
   "cell_type": "markdown",
   "metadata": {},
   "source": [
    "## Referências\n",
    "\n",
    "**Outros materiais**  \n",
    "[Regressão Linear Simples](https://www.ime.usp.br/~fmachado/MAE229/AULA10.pdf)  \n",
    "[Data Hackers - Implementando Regressão Linear Simples em Python](https://medium.com/data-hackers/implementando-regress%C3%A3o-linear-simples-em-python-91df53b920a8)  \n",
    "[BRONSHTEIN, A. Simple and Multiple Linear Regression in Python. Towards data science, 2017](https://towardsdatascience.com/simple-and-multiple-linear-regression-in-python-c928425168f9)  \n",
    "[CHAUHAN, N.S. A beginner's guide to linear regression in Python with Scikit-Learn. Towards data science, 2019](https://towardsdatascience.com/a-beginners-guide-to-linear-regression-in-python-with-scikit-learn-83a8f7ae2b4f)  "
   ]
  },
  {
   "cell_type": "code",
   "execution_count": null,
   "metadata": {},
   "outputs": [],
   "source": []
  }
 ],
 "metadata": {
  "kernelspec": {
   "display_name": "all",
   "language": "python",
   "name": "all"
  },
  "language_info": {
   "codemirror_mode": {
    "name": "ipython",
    "version": 3
   },
   "file_extension": ".py",
   "mimetype": "text/x-python",
   "name": "python",
   "nbconvert_exporter": "python",
   "pygments_lexer": "ipython3",
   "version": "3.6.8"
  }
 },
 "nbformat": 4,
 "nbformat_minor": 4
}
