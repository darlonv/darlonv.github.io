{
 "cells": [
  {
   "cell_type": "code",
   "execution_count": null,
   "metadata": {},
   "outputs": [],
   "source": [
    "import pandas as pd\n",
    "import numpy as np\n",
    "import matplotlib.pyplot as plt"
   ]
  },
  {
   "cell_type": "code",
   "execution_count": null,
   "metadata": {},
   "outputs": [],
   "source": [
    "#Executar no Colab, para acessar arquivos no Drive\n",
    "# from google.colab import drive\n",
    "# drive.mount('/drive')"
   ]
  },
  {
   "cell_type": "markdown",
   "metadata": {},
   "source": [
    "# Correlação"
   ]
  },
  {
   "cell_type": "markdown",
   "metadata": {},
   "source": [
    "O **coeficiente de correlação** é uma métrica de avaliação de **quanto** uma variável influencia em outra."
   ]
  },
  {
   "cell_type": "markdown",
   "metadata": {},
   "source": [
    "**Exemplo**  \n",
    "\n",
    "Considere os dados apresentados no dataframe abaixo. A tabela possui informações de uma turma de alunos, com o tempo de dedicação ao estudo da disciplina (em horas) e a nota obtida em determinada disciplina (expresso em valores de 0 a 100).\n",
    "\n",
    "**Atividade**  \n",
    "\n",
    "- Gere e observe o dataframe com informações sobre tempo de estudo e nota obtida.\n",
    "\n",
    "```python\n",
    "#Dataframe\n",
    "dfTempoEstudo = pd.DataFrame(\n",
    "    {'Tempo': \n",
    "     {0: 9.9, 1: 2.8, 2: 0.1, 3: 9.9, 4: 2.8, 5: 3.6, 6: 6.4, 7: 8.0, 8: 0.0, 9: 7.0, 10: 8.1, 11: 3.2, 12: 3.4, 13: 3.0, 14: 2.6, 15: 8.0, 16: 5.8, 17: 4.8, 18: 6.4, 19: 5.2, 20: 5.3, 21: 5.0, 22: 7.2, 23: 3.9, 24: 3.6, 25: 10.0, 26: 0.6, 27: 2.5, 28: 3.0, 29: 1.8}, \n",
    "     'Nota': \n",
    "     {0: 85, 1: 23, 2: 0, 3: 96, 4: 10, 5: 31, 6: 51, 7: 85, 8: 23, 9: 89, 10: 86, 11: 43, 12: 46, 13: 34, 14: 20, 15: 86, 16: 70, 17: 48, 18: 87, 19: 22, 20: 67, 21: 65, 22: 58, 23: 47, 24: 46, 25: 100, 26: 18, 27: 16, 28: 42, 29: 25}}\n",
    ")\n",
    "dfTempoEstudo\n",
    "```"
   ]
  },
  {
   "cell_type": "code",
   "execution_count": null,
   "metadata": {},
   "outputs": [],
   "source": []
  },
  {
   "cell_type": "markdown",
   "metadata": {},
   "source": [
    "**Atividade**  \n",
    "\n",
    "- Gere um *gráfico de dispersão* com as variáveis `Tempo` e `Nota`.\n",
    "```python\n",
    "#Gráfico de dispersão\n",
    "dfTempoEstudo.plot.scatter('Tempo','Nota')\n",
    "```"
   ]
  },
  {
   "cell_type": "code",
   "execution_count": null,
   "metadata": {
    "scrolled": true
   },
   "outputs": [],
   "source": []
  },
  {
   "cell_type": "markdown",
   "metadata": {},
   "source": [
    "**Observação**  \n",
    "\n",
    "Um *gráfico de dispersão* consiste em apresentar pontos em um eixo cartesiano. No exemplo, o eixo X é composto pelo tempo de estudo e o eixo Y pela nota obtida."
   ]
  },
  {
   "cell_type": "markdown",
   "metadata": {},
   "source": [
    "**Atividade**  \n",
    "\n",
    "Observando os dados com as variádeis do tempo de estudo e a nota da prova, e responda:\n",
    "- existe relação entre essas variáveis?\n",
    "- qual dela é a causa e qual é o resultado?\n",
    "- a influência de uma variável na outra é baixa ou alta?"
   ]
  },
  {
   "cell_type": "markdown",
   "metadata": {},
   "source": [
    " "
   ]
  },
  {
   "cell_type": "markdown",
   "metadata": {},
   "source": [
    "## Coeficiente de correlação"
   ]
  },
  {
   "cell_type": "markdown",
   "metadata": {},
   "source": [
    "O coeficiente de **correlação** consiste em um valor que expressa **quanto** uma variável influencia em outra.\n",
    "\n",
    "Para que o coeficiente possa ser calculado, é necessário que ambas as variáveis sejam **quantitativas** (devem ser numéricas e expressarem quantidade)."
   ]
  },
  {
   "cell_type": "markdown",
   "metadata": {},
   "source": [
    "A fórmula matemática para cálculo do coeficiente de correlação é:\n",
    "$$\n",
    "r = \\frac\n",
    "{n \\sum{xy} - (\\sum{x})(\\sum{y}) }\n",
    "{\\sqrt{n\\sum(x^2)-(\\sum{x})^2}\\sqrt{n\\sum{y^2}-(\\sum{y})^2}}\n",
    "$$\n",
    "onde:\n",
    "- $r$: coeficiente de correlação\n",
    "- $n$: número de pares de dados\n",
    "- $x$: e $y$: valores em cada par de dados"
   ]
  },
  {
   "cell_type": "markdown",
   "metadata": {},
   "source": [
    "A biblioteca Pandas possui métodos para o cálculo do coeficiente de correlação. Para tal, podemos utilizar o método `.corr()` presentes nas estruturas do tipo `Series`.\n",
    "\n",
    "**Exemplo**  \n",
    "\n",
    "```python\n",
    "tempo = dfTempoEstudo['Tempo'] #Seleciona coluna Tempo, que é uma Series\n",
    "nota  = dfTempoEstudo['Nota'] #Seleciona coluna Nota, que é uma Series\n",
    "r = tempo.corr(nota) #Calcula a correlação entre tempo e nota\n",
    "print('Correlação:', r)\n",
    "\n",
    "```"
   ]
  },
  {
   "cell_type": "code",
   "execution_count": null,
   "metadata": {},
   "outputs": [],
   "source": []
  },
  {
   "cell_type": "markdown",
   "metadata": {},
   "source": [
    "Com isto, dizemos que a *correlação* entre as variáveis `Tempo` e `Nota` é de $0.9$."
   ]
  },
  {
   "cell_type": "markdown",
   "metadata": {},
   "source": [
    "### Interpretação"
   ]
  },
  {
   "cell_type": "markdown",
   "metadata": {},
   "source": [
    "O valor do coeficiente de correlação $r$ sempre estará entre $-1$ e $+1$, sendo que para valores de $r$:\n",
    "- $r = 0$ indica que não há correlação.\n",
    "- $r > 0$ indica que a correlação é **positiva**, e as variáveis são *diretamente proporcionais*.\n",
    "- $r < 0$ indica que a correlação é **negativa**, e as variáveis ão *inversamente proporcionais*.\n",
    "\n",
    "\n",
    "Para valores próximos a $0$, dizemos há **baixa** correlação, enquanto para valores próximos de $1$ ou $-1$ dizemos que há **alta** correlação.\n"
   ]
  },
  {
   "cell_type": "markdown",
   "metadata": {},
   "source": [
    "### Matriz de correlação"
   ]
  },
  {
   "cell_type": "markdown",
   "metadata": {},
   "source": [
    "Uma **matriz de correlação** é uma matriz que apresenta as correlações entre diversas variáveis. Os `DataFrames` Pandas possuem o método `.corr()` que calcula a matriz, retornando um dataframe."
   ]
  },
  {
   "cell_type": "markdown",
   "metadata": {},
   "source": [
    "**Atividade**  \n",
    "\n",
    "Carregue o dataframe `dfAlunos` e observe quais são as suas variáveis (colunas).\n",
    "```python\n",
    "#Colab\n",
    "dfAlunos = pd.read_csv('/drive/Shared drives/BasesPublicas/Exemplos/alunos.csv', sep=',', encoding='latin1')\n",
    "#Jupyter\n",
    "# dfAlunos = pd.read_csv('alunos.csv')\n",
    "dfAlunos.info()\n",
    "```"
   ]
  },
  {
   "cell_type": "code",
   "execution_count": null,
   "metadata": {},
   "outputs": [],
   "source": []
  },
  {
   "cell_type": "markdown",
   "metadata": {},
   "source": [
    "**Exemplo**  \n",
    "\n",
    "- Apresente a matriz de correlação das variáveis presentes no dataframe `dfAlunos`.\n",
    "```python\n",
    "dfAlunos.corr()\n",
    "```"
   ]
  },
  {
   "cell_type": "code",
   "execution_count": null,
   "metadata": {},
   "outputs": [],
   "source": []
  },
  {
   "cell_type": "markdown",
   "metadata": {},
   "source": [
    "**Atividade**  \n",
    "\n",
    "- Qual é o coeficiente de correlação $r$ entre as variáveis `Altura` e `Faltas`? Elas têm relação?\n",
    "    - Há correlação? se sim, ela é positiva ou negativa?\n",
    "    - Apresente o gráfico de dispersão das variáveis.\n",
    "    ```python\n",
    "        dfAlunos.plot.scatter('Altura','Faltas')\n",
    "    ```\n",
    "    - É possível traçar uma reta que represente o conjunto de dados, de maneira aproximada?"
   ]
  },
  {
   "cell_type": "code",
   "execution_count": null,
   "metadata": {},
   "outputs": [],
   "source": []
  },
  {
   "cell_type": "markdown",
   "metadata": {},
   "source": [
    "**Atividade**  \n",
    "\n",
    "- Qual é o coeficiente de correlação $r$ entre as variáveis `Tempo` e `Nota`? Elas têm relação?\n",
    "    - Existe correlação? se sim, ela é positiva ou negativa?\n",
    "    - Apresente o gráfico de dispersão das variáveis.\n",
    "    - É possível traçar uma reta que represente o conjunto de dados, de maneira aproximada?"
   ]
  },
  {
   "cell_type": "code",
   "execution_count": null,
   "metadata": {},
   "outputs": [],
   "source": []
  },
  {
   "cell_type": "markdown",
   "metadata": {},
   "source": [
    "**Atividade**  \n",
    "\n",
    "- Qual é o coeficiente de correlação $r$ entre as variáveis `Faltas` e `Nota`? Elas têm relação?\n",
    "    - Há correlação? se sim, ela é positiva ou negativa?\n",
    "    - Apresente o gráfico de dispersão das variáveis.\n",
    "    - É possível traçar uma reta que represente o conjunto de dados, de maneira aproximada?"
   ]
  },
  {
   "cell_type": "code",
   "execution_count": null,
   "metadata": {},
   "outputs": [],
   "source": []
  },
  {
   "cell_type": "markdown",
   "metadata": {},
   "source": [
    "**Exercícios**  \n",
    "\n",
    "- Ao observar a diagonal principal da matriz de correlação, quais são os valores?\n",
    "    - Por que esses valores aparecem?\n",
    "    - Faça o gráfico de dispersão das variáveis na diagonal principal.\n",
    "- Apresente e discuta a correlação entre as variáveis `Faltas` e `Tempo`\n",
    "    - Mostre o gráfico de dispersão.\n",
    "- Qual variável que possui maior influência na nota?"
   ]
  },
  {
   "cell_type": "code",
   "execution_count": null,
   "metadata": {},
   "outputs": [],
   "source": []
  },
  {
   "cell_type": "code",
   "execution_count": null,
   "metadata": {},
   "outputs": [],
   "source": []
  },
  {
   "cell_type": "code",
   "execution_count": null,
   "metadata": {},
   "outputs": [],
   "source": []
  },
  {
   "cell_type": "markdown",
   "metadata": {},
   "source": [
    "**Observações**  \n"
   ]
  },
  {
   "cell_type": "markdown",
   "metadata": {},
   "source": [
    "- Variáveis devem ser quantitativas\n",
    "-  **Correlação não implica causalidade**\n",
    "    - Exemplos: [*Spurious Correlations*](https://www.tylervigen.com/spurious-correlations)"
   ]
  },
  {
   "cell_type": "code",
   "execution_count": null,
   "metadata": {},
   "outputs": [],
   "source": []
  },
  {
   "cell_type": "markdown",
   "metadata": {},
   "source": [
    "## Referências\n",
    "[Larson, R. Farber, B. Estatística Aplicada. 4.ed. São Paulo: Pearson, 2010.](https://plataforma.bvirtual.com.br/Leitor/Publicacao/1242/pdf/17?code=uf41RbVY0KRUTqVSy8ZkDfrIynwKU/7WlWkTiuzQ80rimcX0BPrl4YlRFDwfh/CAJap2mr8WYHpuFbtdynL4mQ==) (Link para a biblioteca virtual)  \n",
    "Morettin  \n",
    "[VIGEN, T. Spurious Correlations.](https://www.tylervigen.com/spurious-correlations)  \n"
   ]
  },
  {
   "cell_type": "code",
   "execution_count": null,
   "metadata": {},
   "outputs": [],
   "source": []
  }
 ],
 "metadata": {
  "kernelspec": {
   "display_name": "Python 3",
   "language": "python",
   "name": "python3"
  },
  "language_info": {
   "codemirror_mode": {
    "name": "ipython",
    "version": 3
   },
   "file_extension": ".py",
   "mimetype": "text/x-python",
   "name": "python",
   "nbconvert_exporter": "python",
   "pygments_lexer": "ipython3",
   "version": "3.6.8"
  }
 },
 "nbformat": 4,
 "nbformat_minor": 4
}
