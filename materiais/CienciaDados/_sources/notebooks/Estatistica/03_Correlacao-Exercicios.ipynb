{
 "cells": [
  {
   "cell_type": "markdown",
   "metadata": {},
   "source": [
    "# Exercícios"
   ]
  },
  {
   "cell_type": "markdown",
   "metadata": {},
   "source": [
    "## Exercício 01\n",
    "É esperado que a massa muscular de uma pessoa diminua com a idade. Para estudar essa relação, uma nutricionista selecionou $18$ mulheres, com idade entre $40$ e $79$ anos, e observou em cada uma delas a idade e a massa muscular.\n",
    "\n",
    "\n",
    "|Massa muscular|Idade|\n",
    "|-|-|\n",
    "|82.0|\t71.0|\n",
    "|91.0|\t64.0|\n",
    "|100.0|\t43.0|\n",
    "|68.0|\t67.0|\n",
    "|87.0|\t56.0|\n",
    "|73.0|\t73.0|\n",
    "|78.0|\t68.0|\n",
    "|80.0|\t56.0|\n",
    "|65.0|\t76.0|\n",
    "|84.0|\t65.0|\n",
    "|116.0|\t45.0|\n",
    "|76.0|\t58.0|\n",
    "|97.0|\t45.0|\n",
    "|100.0|\t53.0|\n",
    "|105.0|\t49.0|\n",
    "|77.0|\t78.0|\n",
    "|73.0|\t73.0|\n",
    "|78.0|\t68.0|\n",
    "\n",
    "Calcule o coeficiente de correlação entre a idade e a massa muscular. Apresente o gráfico de dispersão.\n",
    "\n",
    "Fonte: Adaptado de (LACHOS, 2007)."
   ]
  },
  {
   "cell_type": "code",
   "execution_count": null,
   "metadata": {},
   "outputs": [],
   "source": []
  },
  {
   "cell_type": "markdown",
   "metadata": {},
   "source": [
    "## Exercício 02\n",
    "Um pesquisador deseja verificar se um instrumento para medir a concentração de determinada substância no sangue está bem calibrado. Para isto, ele tomou $15$ amostras de concentrações conhecidas (`X`) e determinou a respectiva concentração através do instrumento (`Y`), obtendo:\n",
    "\n",
    "| | | | | | | | | | | | | | | | |\n",
    "|-|-|-|-|-|-|-|-|-|-|-|-|-|-|-|-|\n",
    "|`X`|2|2|2|4|4|4|6|6|6|8|8|8|10|10|10|\n",
    "|`Y`|2.1|1.8|1.9|4.5|4.2|4|6.2|6|6.5|8.2|7.8|7.7|9.6|10|10.1|\n",
    "\n",
    "Sobre as variáveis `X` e `Y`, responda:\n",
    "- As variáveis estão fortemente ou fracamente correlacionadas? \n",
    "- A correlação é positiva ou negativa?\n",
    "- Apresente o gráfico de dispersão das variáveis.\n",
    "\n",
    "\n",
    "Fonte: Adaptado de (LACHOS, 2007)."
   ]
  },
  {
   "cell_type": "code",
   "execution_count": null,
   "metadata": {},
   "outputs": [],
   "source": []
  },
  {
   "cell_type": "code",
   "execution_count": null,
   "metadata": {},
   "outputs": [],
   "source": []
  },
  {
   "cell_type": "markdown",
   "metadata": {},
   "source": [
    "## Exercício 03\n",
    "Carregue a base de dados `alugueis`, e reponda as questões a seguir.\n",
    "```python\n",
    "#No Colab:\n",
    "from google.colab import drive\n",
    "drive.mount('/drive')\n",
    "alugueis = pd.read_csv('/drive/Shared drives/BasesPublicas/Exemplos/alugueis.csv', sep=',', encoding='latin1')\n",
    "#No Jupyter:\n",
    "# alugueis = pd.read_csv('alugueis.csv', sep=',', encoding='latin1')\n",
    "```\n",
    "Fonte da base: Adaptada de (JUNIOR, 2020)."
   ]
  },
  {
   "cell_type": "code",
   "execution_count": null,
   "metadata": {},
   "outputs": [],
   "source": []
  },
  {
   "cell_type": "markdown",
   "metadata": {},
   "source": [
    "1. O que influencia mais o valor do aluguel? A área do imóvel ou o número de banheiros?\n",
    "1. O que influencia mais no valor da taxa de condominio: o número de vagas de garagem ou o número de quartos? Essa correlação é significativa?\n",
    "1. Qual variável está mais correlacionada com a área do imóvel: o número de vagas na garagem ou o número de banheiros?\n",
    "1. Na base, podemos considerar que as casas possuem andar como '-'. Considere que os que os registros que possuem andar como apartamentos. Desta forma, responda:\n",
    "    1. O aluguel é maior ou menor nos andares mais altos?\n",
    "        1. Podemos dizer que isso acontece? A correlação é significativa?\n",
    "        1. Faça o gráfico de dispersão, considerando número do andar e valor do aluguel."
   ]
  },
  {
   "cell_type": "code",
   "execution_count": null,
   "metadata": {},
   "outputs": [],
   "source": []
  },
  {
   "cell_type": "code",
   "execution_count": null,
   "metadata": {},
   "outputs": [],
   "source": []
  },
  {
   "cell_type": "code",
   "execution_count": null,
   "metadata": {},
   "outputs": [],
   "source": []
  },
  {
   "cell_type": "code",
   "execution_count": null,
   "metadata": {},
   "outputs": [],
   "source": []
  },
  {
   "cell_type": "code",
   "execution_count": null,
   "metadata": {},
   "outputs": [],
   "source": []
  },
  {
   "cell_type": "code",
   "execution_count": null,
   "metadata": {},
   "outputs": [],
   "source": []
  },
  {
   "cell_type": "code",
   "execution_count": null,
   "metadata": {},
   "outputs": [],
   "source": []
  },
  {
   "cell_type": "markdown",
   "metadata": {},
   "source": [
    "## Referências\n",
    "\n",
    "[LACHOS, H. Estatística para experimentalistas: Notas de aula. Unicamp, 2007.](http://www.ime.unicamp.br/~hlachos/ME414_2007.html)  \n",
    "[JUNIOR, R. *brazilian_houses_to_rent*. Kaggle, 2020](https://www.kaggle.com/rubenssjr/brasilian-houses-to-rent/metadata)  \n",
    "\n"
   ]
  },
  {
   "cell_type": "markdown",
   "metadata": {},
   "source": [
    " "
   ]
  }
 ],
 "metadata": {
  "kernelspec": {
   "display_name": "Python 3",
   "language": "python",
   "name": "python3"
  },
  "language_info": {
   "codemirror_mode": {
    "name": "ipython",
    "version": 3
   },
   "file_extension": ".py",
   "mimetype": "text/x-python",
   "name": "python",
   "nbconvert_exporter": "python",
   "pygments_lexer": "ipython3",
   "version": "3.6.8"
  }
 },
 "nbformat": 4,
 "nbformat_minor": 4
}
