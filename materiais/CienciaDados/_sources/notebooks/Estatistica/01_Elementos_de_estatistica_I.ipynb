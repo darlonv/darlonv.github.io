{
 "cells": [
  {
   "cell_type": "markdown",
   "metadata": {},
   "source": [
    "# Estatística básica"
   ]
  },
  {
   "cell_type": "code",
   "execution_count": null,
   "metadata": {},
   "outputs": [],
   "source": [
    "########################\n",
    "#Bibliotecas necessárias\n",
    "########################\n",
    "\n",
    "#Pandas\n",
    "import pandas as pd\n",
    "import math"
   ]
  },
  {
   "cell_type": "markdown",
   "metadata": {},
   "source": [
    "## Revisão"
   ]
  },
  {
   "cell_type": "markdown",
   "metadata": {},
   "source": [
    "### Pandas\n",
    "Uma Series é uma estrutura de dados presente na biblioteca Pandas, que trata de agrupar dados, de maneira que cada um deles possa ser acessado por um índice.\n",
    "\n",
    "Uma Series possui diversos métodos, que podem ser utilizados para extrair informações do conjunto de dados.\n",
    "\n",
    "|Método|objetivo|\n",
    "|------|--------|\n",
    "|`.min()`|obtém o menor valor|\n",
    "|`.max()`|obtém o maior valor|\n",
    "|`.mean()`|obtém a média|\n",
    "|`.sort_values()`|obtém os valores ordenados|\n",
    "\n",
    "**Exemplo**  \n",
    "\n",
    "```python\n",
    "valores = pd.series([6,5,3,6,8,1,9,9,3,2,1,0,1])\n",
    "print('Valores:', valores)\n",
    "print('Menor:', valores.min())\n",
    "print('Maior:', valores.max())\n",
    "print('Média:', valores.mean())\n",
    "print('Valores ordenados:', list(valores.sort_values()))\n",
    "```"
   ]
  },
  {
   "cell_type": "code",
   "execution_count": null,
   "metadata": {},
   "outputs": [],
   "source": []
  },
  {
   "cell_type": "markdown",
   "metadata": {},
   "source": [
    "## Estatística básica"
   ]
  },
  {
   "cell_type": "markdown",
   "metadata": {},
   "source": [
    "A Estatística é a ciência que consiste em coletar, organizar, analisar e interpretar dados para que decisões sejam tomadas."
   ]
  },
  {
   "cell_type": "markdown",
   "metadata": {},
   "source": [
    "### Estatística descritiva"
   ]
  },
  {
   "cell_type": "markdown",
   "metadata": {},
   "source": [
    "De acordo com (LARSON, FARBER, 2004):  \n",
    "- Estatística descritiva:\n",
    "> A estatística **descritiva** é o ramo que trata da organização, do resumo e da apresentação dos dados.\n",
    "- Estatística inferencial:\n",
    "> A estatística **inferencial** é o ramo que trata de tirar conclusões sobre uma população a partir de uma amostra. A ferramenta básica no estudo da estatística inferencial é a **probabilidade**."
   ]
  },
  {
   "cell_type": "markdown",
   "metadata": {},
   "source": [
    "## Tipos de dados\n",
    "\n",
    "Os dados se classificam em dados **qualitativos** ou **quantitativos**. Um dado qualitativo consiste em atributos, classificações ou registros **não-numéricos**. Já os quantitativos consistem em **medidas** ou contagens numéricas (LARSON, FARBER, 2004)."
   ]
  },
  {
   "cell_type": "markdown",
   "metadata": {},
   "source": [
    "**Exemplo**  \n",
    "\n",
    "|Nome    |Altura|Idade|Sexo|\n",
    "|--------|------|-----|----|\n",
    "|Maria   |175   |21   |f   |\n",
    "|José    |182   |30   |m   |\n",
    "|Eduarda |160   |41   |f   |\n",
    "|Sergio  |156   |30   |m   |\n",
    "|Julia   |180   |24   |f   |\n",
    "|Baltazar|158   |23   |m   |\n",
    "|Sofia   |175   |29   |f   |\n",
    "\n",
    "- Qualitativos:\n",
    "    - Nome\n",
    "    - Sexo\n",
    "- Quantitativos:\n",
    "    - Altura\n",
    "    - Idade"
   ]
  },
  {
   "cell_type": "markdown",
   "metadata": {},
   "source": [
    "## Medidas de tendência central"
   ]
  },
  {
   "cell_type": "markdown",
   "metadata": {},
   "source": [
    "### Média\n",
    "A média é um valor utilizado para representar um determinado conjunto de dados.\n",
    "\n",
    "A média de determinado conjunto de dados é a soma de todas os seus valores, dividida pela quantidade de valores. A letra grega $\\mu$ é comumente utilizada para representar a média.\n",
    "$$\n",
    "\\mu = \\frac{\\sum\\limits_{i=0}^{n-1}{x_i}}{n}\n",
    "$$\n",
    "onde:\n",
    "- $\\mu$: média dos valores\n",
    "- $n$: número de valores\n",
    "- $x_i$ valor na i-ésima posição\n",
    "- $\\sum\\limits_{i=0}^{n-1}{x_i}$: soma dos valores de $x$, onde $i$ varia de 0 a $n-1$\n",
    "\n",
    "**Exemplo**  \n",
    "\n",
    "Considere que `x` é um conjunto de dados, e `m` a sua média.\n",
    "```python\n",
    "x = pd.Series([7,2,1,25,1,3]) #Valores\n",
    "m = x.sum()/x.count() #média, com a soma dos valores dividida pela quantidade\n",
    "print('Média: ', m)\n",
    "```"
   ]
  },
  {
   "cell_type": "code",
   "execution_count": null,
   "metadata": {},
   "outputs": [],
   "source": []
  },
  {
   "cell_type": "markdown",
   "metadata": {},
   "source": [
    "Uma Series, assim como os métodos `.sum()` e `.count()`, possui também o método `.mean()`, que calcula a média do conjunto de dados.\n",
    "**Exemplo**  \n",
    "\n",
    "```python\n",
    "x = pd.Series([1,1,2,7,8]) #Valores\n",
    "m = x.mean()\n",
    "print('Média: ', m)\n",
    "```"
   ]
  },
  {
   "cell_type": "code",
   "execution_count": null,
   "metadata": {},
   "outputs": [],
   "source": []
  },
  {
   "cell_type": "markdown",
   "metadata": {},
   "source": [
    "### Mediana\n",
    "Para determinadas situações, a média pode não ser uma boa representação de conjuntos de dados.\n",
    "\n",
    "**Exemplo**  \n",
    "\n",
    "```python\n",
    "y = pd.Series([1,2,3,1,2,3,10000,1,2,3])\n",
    "print('Média: ', y.mean)\n",
    "```\n"
   ]
  },
  {
   "cell_type": "code",
   "execution_count": null,
   "metadata": {},
   "outputs": [],
   "source": []
  },
  {
   "cell_type": "markdown",
   "metadata": {},
   "source": [
    "No caso do conjunto `y`, que é composto por diversos valores pequenos e um valor muito alto, quando comparado com eles. A média do conjunto (`1001.8`) é um valor que difere muito dos dados.\n",
    "\n",
    "Desta forma, a **mediana** é o valor que está exatamente no meio do conjunto de dados. Para isto, é necessário que o conjunto de dados esteja ordenado. Caso o conjunto de dados tenha uma quantidade ímpar, a mediana é o valor central. Caso a quantidade seja par, a mediana é a média dos dois valores centrais.\n",
    "\n",
    "As Series possuem o método `.median()`, que retorna o valor da mediana do conjunto.\n",
    "\n",
    "**Exemplo**  \n",
    "\n",
    "```python\n",
    "y = pd.Series([1,2,3,1,2,3,10000,1,2,3])\n",
    "print('Mediana:',y.median())\n",
    "```"
   ]
  },
  {
   "cell_type": "code",
   "execution_count": null,
   "metadata": {},
   "outputs": [],
   "source": []
  },
  {
   "cell_type": "markdown",
   "metadata": {},
   "source": [
    "## Medidas de dispersão\n",
    "Muitas vezes, apenas a média ou a mediana (medidas de tendência central) de um conjunto de dados não fornecem informações suficientes sobre ele. Desta forma, outras métricas são utilizadas, como apresentado a seguir. Tais medidas consistem em identificar **quanto** os dados estão distribuídos pelo conjunto.\n",
    "\n",
    "**Atividade**  \n",
    "\n",
    "Qual a média dos dois conjuntos de dados A e B abaixo?\n",
    "```python\n",
    "cjA = pd.Series([49,49,49,50,51,51,51])\n",
    "cjB = pd.Series([1,1,1,50,99,99,99])\n",
    "```"
   ]
  },
  {
   "cell_type": "code",
   "execution_count": null,
   "metadata": {},
   "outputs": [],
   "source": [
    "cjA = pd.Series([49,49,49,50,51,51,51])\n",
    "cjB = pd.Series([1,1,1,50,99,99,99])"
   ]
  },
  {
   "cell_type": "code",
   "execution_count": null,
   "metadata": {
    "scrolled": true
   },
   "outputs": [],
   "source": []
  },
  {
   "cell_type": "markdown",
   "metadata": {},
   "source": [
    "Como observado, ambos os conjuntos A e B possuem a mesma média, mesmo sendo conjuntos bastante distintos. Desta forma, as medidas de variação observam o quanto os dados **variam** em relação ao conjunto como um todo."
   ]
  },
  {
   "cell_type": "markdown",
   "metadata": {},
   "source": [
    "Para os conceitos a seguir sobre medidas de variação, considere o conjunto de dados `alturas`, que correspondem à altura de um grupo de pessoas, medida em centímetros.\n",
    "\n",
    "```python\n",
    "alturas = pd.Series([175, 182, 160, 156, 180, 158, 175])\n",
    "```"
   ]
  },
  {
   "cell_type": "code",
   "execution_count": null,
   "metadata": {},
   "outputs": [],
   "source": []
  },
  {
   "cell_type": "markdown",
   "metadata": {},
   "source": [
    "### Amplitude\n",
    "\n",
    "A **amplitude** de um conjunto de dados é a diferença entre o maior e menor valores do conjunto.\n",
    "\n",
    "**Exemplo**  \n",
    "\n",
    "```python\n",
    "amp = alturas.max() - alturas.min()\n",
    "print('Amplitude: ', amp)\n",
    "```"
   ]
  },
  {
   "cell_type": "code",
   "execution_count": null,
   "metadata": {},
   "outputs": [],
   "source": []
  },
  {
   "cell_type": "markdown",
   "metadata": {},
   "source": [
    "No exemplo, a **amplitude** corresponde à diferença de altura entre a pessoa mais alta e a mais baixa do grupo, que é de 26 centímetros."
   ]
  },
  {
   "cell_type": "markdown",
   "metadata": {},
   "source": [
    "### Desvio\n",
    "\n",
    "O **desvio** de um valor $x$ em determinado conjunto é a diferença entre o valor $x$ e a média do conjunto.\n",
    "\n",
    "$$\n",
    "d_x = x - \\mu\n",
    "$$\n",
    "\n",
    "onde:\n",
    "- $x$: valor do conjunto de dados\n",
    "- $d_x$: desvio do valor x\n",
    "- $\\mu$: média do conjunto de dados\n",
    "\n",
    "**Exemplo**  \n",
    "\n",
    "Qual é o valor do desvio `d` da pessoa que tem sua altura armazenada na posição 1 do conjunto de alturas (182 centímetros)?\n",
    "```python\n",
    "x = alturas[1]\n",
    "m = alturas.mean()\n",
    "d =  x - m\n",
    "print('Desvio: ', round(d,1)) #Arredondando em 1 casa decimal\n",
    "```\n"
   ]
  },
  {
   "cell_type": "code",
   "execution_count": null,
   "metadata": {},
   "outputs": [],
   "source": []
  },
  {
   "cell_type": "markdown",
   "metadata": {},
   "source": [
    "### Variância\n",
    "Caso desejássemos calcular qual é o valor médio do desvio de todas as pessoas do conjunto, como poderia ser procedido?\n",
    "\n",
    "Vamos calcular a média dos desvios. Para calcular essa média, precisamos obter a soma de todos os desvios, e então dividí-los pela quantidade de elementos, certo? Errado. Observe:\n",
    "```python\n",
    "#Calculando o desvio\n",
    "desvios = alturas - alturas.mean() #operação realizada sobre todos os valores da series\n",
    "#Mostra os valores, já arredondando com uma casa decimal\n",
    "print('Desvios: ', list(round(desvios,1))) #Mostra os desvios, arredondando para 1 casa decimal\n",
    "print('Soma dos desvios:', round(desvios.sum(),1))\n",
    "```"
   ]
  },
  {
   "cell_type": "code",
   "execution_count": null,
   "metadata": {},
   "outputs": [],
   "source": []
  },
  {
   "cell_type": "markdown",
   "metadata": {},
   "source": [
    "Ou seja, a soma dos desvios é 0. Desta forma, não é possível calcula a média dos desvios, visto que zero dividido por qualquer número é zero.\n",
    "\n",
    "Desta forma, a **variância** objetiva representar o que não é possível representar pela média dos desvios. Esta medida consiste em calcula o quanto os valores diferem da média do conjunto.  \n",
    "\n",
    "A variância é representada pela letra grega *sigma* ao quadrado ($\\sigma^2$).\n",
    "\n",
    "Para calcular a variância, faz-se a soma dos **quadrados dos desvios** :  \n",
    "\n",
    "$$\n",
    "\\sigma^2 = \\frac{\\sum\\limits_{i=0}^{n-1}{d_i^2}}{n} = \\frac{\\sum\\limits_{i=0}^{n-1}{(x_i- \\mu)^2}}{n}\n",
    "$$\n",
    "onde:\n",
    "- $\\sigma^2$: variância\n",
    "- $d_i$: desvio, igual a $d_i - \\mu$\n",
    "- $n$: número de elementos\n",
    "\n",
    "\n",
    "**Exemplo**\n",
    "\n",
    "```python\n",
    "m = alturas.mean()\n",
    "print('Alturas    :', list(alturas))\n",
    "print('Média      :', m)\n",
    "\n",
    "#Calcula desvios\n",
    "desvios = alturas - m\n",
    "print('Desvios    :', list(round(desvios,1))) #1 casa decimal\n",
    "\n",
    "#Calcula desvios ao quadrado\n",
    "desviosQuad = desvios**2\n",
    "print('desviosQuad:', list(round(desviosQuad,1))) #1 casa decimal\n",
    "\n",
    "#Calcula variância\n",
    "var = desviosQuad.sum()/desviosQuad.count() #variância\n",
    "print('Variância  :', round(var,2)) #2 casas decimais\n",
    "```"
   ]
  },
  {
   "cell_type": "code",
   "execution_count": null,
   "metadata": {},
   "outputs": [],
   "source": []
  },
  {
   "cell_type": "markdown",
   "metadata": {},
   "source": [
    "É possível calcular a variância de uma Series usando o método `.var()`. Por padrão, a variância de uma series calcula desconsiderando um elemento do conjunto (um *grau de liberdade*). Para obter a variância como estamos calculando é necessário informar o parâmetro `ddof=0`, ou seja, considerar todos os elementos do conjunto.\n",
    "\n",
    "**Exemplo**\n",
    "\n",
    "```python\n",
    "var = alturas.var(ddof=0) #variância\n",
    "print('Variância:', round(var,2)) #arredondando em 2 casas decimais\n",
    "```"
   ]
  },
  {
   "cell_type": "code",
   "execution_count": null,
   "metadata": {},
   "outputs": [],
   "source": []
  },
  {
   "cell_type": "markdown",
   "metadata": {},
   "source": [
    "### Desvio padrão\n",
    "A variância eleva o desvio ao quadrado. O **desvio padrão** consiste em colocar os dados na mesma escala original. Desta forma, o desvio padrão é a **raiz quadrada da variância**.\n",
    "\n",
    "O desvio padrão é representado pela letra grega $\\sigma$ (*sigma*).\n",
    "$$\n",
    "\\sigma = \\sqrt{\\sigma^2} = \\sqrt{\\frac{\\sum\\limits_{i=0}^{n-1}{d_i^2}}{n}}\n",
    "$$\n",
    "\n",
    "**Exemplo**\n",
    "\n",
    "```python\n",
    "#Desvio padrão\n",
    "var = alturas.var(ddof=0) #variância\n",
    "dp = math.sqrt(var) #raiz quadrada da variância\n",
    "print(f'Desvio padrão: {dp:0.2f}')#2 casas decimais\n",
    "```\n"
   ]
  },
  {
   "cell_type": "code",
   "execution_count": null,
   "metadata": {},
   "outputs": [],
   "source": []
  },
  {
   "cell_type": "markdown",
   "metadata": {},
   "source": [
    "As Series possuem o método `.std()` (acrônimo de *standard deviation*) para calcular o desvio padrão. Assim como na variância, é necessário informar os *graus de liberdade*, ou seja, quantos elementos devem ser desconsiderados. No nosso caso, para considerar todos os elementos (0 graus de liberdade) o parâmetro deve ser `ddof=0`.\n",
    "\n",
    "**Exemplo**\n",
    "\n",
    "```python\n",
    "dp = alturas.std(ddof=0) #desvio padrão\n",
    "print(f'Desvio padrão: {dp:0.2f}')#2 casas decimais\n",
    "```"
   ]
  },
  {
   "cell_type": "code",
   "execution_count": null,
   "metadata": {},
   "outputs": [],
   "source": []
  },
  {
   "cell_type": "markdown",
   "metadata": {},
   "source": [
    "Desta forma, entende-se que o desvio padrão é quanto os valores do conjunto estão perto da média do conjunto. Um conjunto com desvio padrão baixo indica que os valores estão mais perto da média do conjunto, enquanto que um desvio padrão alto indica que os valores estão mais afastados da média.\n",
    "\n",
    "**Atividade**\n",
    "\n",
    "Retornando aos conjuntos A e B:\n",
    "```python\n",
    "cjA = pd.Series([49,49,49,50,51,51,51])\n",
    "cjB = pd.Series([1,1,1,50,99,99,99])\n",
    "```\n",
    "- Qual a média entre os conjuntos? (já foi calculado anteriormente)\n",
    "- Qual o desvio padrão de cada conjunto?\n",
    "    - Qual a relação do desvio padrão com os dados do conjunto?\n",
    "    - Em qual conjunto os dados estão mais distantes da média? A ou B? "
   ]
  },
  {
   "cell_type": "code",
   "execution_count": null,
   "metadata": {},
   "outputs": [],
   "source": []
  },
  {
   "cell_type": "code",
   "execution_count": null,
   "metadata": {},
   "outputs": [],
   "source": []
  },
  {
   "cell_type": "code",
   "execution_count": null,
   "metadata": {},
   "outputs": [],
   "source": []
  },
  {
   "cell_type": "code",
   "execution_count": null,
   "metadata": {},
   "outputs": [],
   "source": []
  },
  {
   "cell_type": "markdown",
   "metadata": {},
   "source": [
    "## Referências\n",
    "\n",
    "[Larson, R. Farber, B. Estatística Aplicada. 4.ed. São Paulo: Pearson, 2010.](https://plataforma.bvirtual.com.br/Leitor/Publicacao/1242/pdf/17?code=uf41RbVY0KRUTqVSy8ZkDfrIynwKU/7WlWkTiuzQ80rimcX0BPrl4YlRFDwfh/CAJap2mr8WYHpuFbtdynL4mQ==) (Link para a biblioteca virtual)  \n",
    "\n",
    "\n",
    "### Outros materiais"
   ]
  },
  {
   "cell_type": "markdown",
   "metadata": {},
   "source": [
    " "
   ]
  }
 ],
 "metadata": {
  "kernelspec": {
   "display_name": "Python 3",
   "language": "python",
   "name": "python3"
  },
  "language_info": {
   "codemirror_mode": {
    "name": "ipython",
    "version": 3
   },
   "file_extension": ".py",
   "mimetype": "text/x-python",
   "name": "python",
   "nbconvert_exporter": "python",
   "pygments_lexer": "ipython3",
   "version": "3.6.8"
  }
 },
 "nbformat": 4,
 "nbformat_minor": 4
}
