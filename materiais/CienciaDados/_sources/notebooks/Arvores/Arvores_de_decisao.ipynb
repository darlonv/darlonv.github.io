{
 "cells": [
  {
   "cell_type": "markdown",
   "metadata": {},
   "source": [
    "# Árvores de decisão"
   ]
  },
  {
   "cell_type": "markdown",
   "metadata": {},
   "source": [
    "Uma àrvore de decisão consiste em dividir um conjunto de dados determinado de maneira recursiva, para resolver um problema de decisão. Desta forma, um problema maior é dividido em diversos outros problemas mais simples."
   ]
  },
  {
   "cell_type": "markdown",
   "metadata": {},
   "source": [
    "**Exemplo**\n",
    "\n",
    "- Considere a seguinte base de dados ( base adaptada de (FACELLI 2011, p. 88)). A base consiste em um registro das condições do tempo em dias de jogos de tênis.\n",
    "- A ideia de utilização do algoritmo é predizer se haverá ou não jogo de tênis em determinado dia, com base nas condições climáticas.\n",
    "\n",
    "|Tempo\t\t|Temperatura|Umidade|Vento\t|Jogo|\n",
    "|-----------|-----------|-------|-------|----|\n",
    "|Chuvoso\t|22\t\t\t|91\t\t|Sim\t|Não |\n",
    "|Ensolarado\t|21\t\t\t|72\t\t|Não\t|Sim |\n",
    "|Ensolarado\t|27\t\t\t|90\t\t|Sim\t|Não |\n",
    "|Nublado\t|28\t\t\t|86\t\t|Não\t|Sim |\n",
    "|Chuvoso\t|21\t\t\t|96\t\t|Não\t|Sim |\n",
    "|Chuvoso\t|18\t\t\t|70\t\t|Sim\t|Não |\n",
    "|Nublado\t|18\t\t\t|65\t\t|Sim\t|Sim |\n",
    "|Nublado\t|22\t\t\t|90\t\t|Sim\t|Sim |\n",
    "|Ensolarado\t|24\t\t\t|70\t\t|Sim\t|Sim |\n",
    "|Chuvoso\t|20\t\t\t|80\t\t|Não\t|Sim |\n",
    "|Nublado\t|27\t\t\t|75\t\t|Não\t|Sim |\n",
    "|Ensolarado\t|29\t\t\t|85\t\t|Não\t|Não |\n",
    "|Ensolarado\t|22\t\t\t|95\t\t|Não\t|Não |\n",
    "|Chuvoso\t|24\t\t\t|80\t\t|Não\t|Sim |\n",
    "\n",
    "- Como exemplo, tentaremos responder à seguinte pergunta:\n",
    "    - Se a previsão do tempo de amanhã indicar que o dia será ensolarado, terá vento, umidade será de 68 e a temperatura estimada será de 26, terá jogo?\n",
    "- Faremos divisões sucessivas na base de dados, com bases em observações. "
   ]
  },
  {
   "cell_type": "markdown",
   "metadata": {},
   "source": [
    "Para gerar um Dataframe Pandas com esses dados:\n",
    "```python\n",
    "import pandas as pd\n",
    "dJogo = {\n",
    "'Tempo'       : ['Chuvoso', 'Ensolarado', 'Ensolarado', 'Nublado', 'Chuvoso',\n",
    "                 'Chuvoso', 'Nublado', 'Nublado', 'Ensolarado', 'Chuvoso',\n",
    "                 'Nublado', 'Ensolarado',\n",
    "                 'Ensolarado', 'Chuvoso'],\n",
    "'Temperatura' : [22, 21, 27, 28, 21, \n",
    "                 18, 18, 22, 24, 20, \n",
    "                 27, 29, 22, 24],\n",
    "'Umidade'     : [91,72,90,86,96,\n",
    "                 70,65,90,70,80,\n",
    "                 75,85,95,80],\n",
    "'Vento'       : ['Sim','Não','Sim','Não','Não',\n",
    "                 'Sim','Sim','Sim','Sim','Não',\n",
    "                 'Não','Não','Não','Não'],\n",
    "'Jogo'        : ['Não','Sim','Não','Sim','Sim',\n",
    "                 'Não','Sim','Sim','Sim','Sim',\n",
    "                 'Sim','Não','Não','Sim']\n",
    "}\n",
    "dfTenis = pd.DataFrame(dJogo)\n",
    "```\n",
    "\n",
    "**Atividade**\n",
    "- Crie um Dataframe Pandas com a base de dados do exemplo."
   ]
  },
  {
   "cell_type": "code",
   "execution_count": null,
   "metadata": {},
   "outputs": [],
   "source": []
  },
  {
   "cell_type": "markdown",
   "metadata": {},
   "source": [
    "As divisões que adotaremos são meramente didáticas, para explicar o funcionamento das árvores de decisão."
   ]
  },
  {
   "cell_type": "markdown",
   "metadata": {},
   "source": [
    "Nos próximos passos, tentaremos dividir recursivamente o problema. Tentaremos criar um algoritmo específico para essa base, com base nas divisões realizadas."
   ]
  },
  {
   "cell_type": "markdown",
   "metadata": {},
   "source": [
    "Inicialmente, vamos realizar uma divisão da base observando a variável `Tempo`. Dividiremos em duas partes, onde o tempo é `Nublado` ou não `Nublado`.\n",
    "\n",
    "```python\n",
    "df = dfTenis\n",
    "condicao = df['Tempo']=='Nublado'\n",
    "TempoNubladoSim, TempoNubladoNao =  df[condicao] , df[~condicao]\n",
    "```"
   ]
  },
  {
   "cell_type": "code",
   "execution_count": null,
   "metadata": {},
   "outputs": [],
   "source": []
  },
  {
   "cell_type": "markdown",
   "metadata": {},
   "source": [
    "Observando a base caso tempo seja nublado:  \n",
    "```python\n",
    "TempoNubladoSim\n",
    "```"
   ]
  },
  {
   "cell_type": "code",
   "execution_count": null,
   "metadata": {},
   "outputs": [],
   "source": []
  },
  {
   "cell_type": "markdown",
   "metadata": {},
   "source": [
    "Nas situações em que `Tempo == Nublado`, a variável `Jogo` tem valor `Sim`. Com isso, começamos a construir nosso algoritmo:"
   ]
  },
  {
   "cell_type": "markdown",
   "metadata": {},
   "source": [
    "\n",
    "```\n",
    "- O tempo está nublado?\n",
    "    Sim: \n",
    "        Tem jogo.\n",
    "    Não:\n",
    "        ...\n",
    "```"
   ]
  },
  {
   "cell_type": "markdown",
   "metadata": {},
   "source": [
    "Observando o caso contrário, a variável `Jogo` não é homogênea.\n",
    "```python\n",
    "TempoNubladoNao\n",
    "```"
   ]
  },
  {
   "cell_type": "code",
   "execution_count": null,
   "metadata": {},
   "outputs": [],
   "source": []
  },
  {
   "cell_type": "markdown",
   "metadata": {},
   "source": [
    "A partir da base onde o tempo não está nublado, vamos dividí-la novamente. Neste ponto pela temperatura, em 22.\n",
    "\n",
    "```python\n",
    "df = TempoNubladoNao\n",
    "condicao = df['Temperatura']<22\n",
    "TempoNubladoNao_TempMenorq22 = df[condicao]\n",
    "TempoNubladoNao_TempMaiori22 = df[~condicao]\n",
    "```"
   ]
  },
  {
   "cell_type": "code",
   "execution_count": null,
   "metadata": {},
   "outputs": [],
   "source": []
  },
  {
   "cell_type": "markdown",
   "metadata": {},
   "source": [
    "O conteúdo da variável `Jogo` ainda não é homogêneo. Porém, vamos atualizar nosso algoritmo:"
   ]
  },
  {
   "cell_type": "markdown",
   "metadata": {},
   "source": [
    "\n",
    "```\n",
    "- O tempo está nublado?\n",
    "    Sim: \n",
    "        Tem jogo!\n",
    "    Não:\n",
    "        A Temperatura é menor que 22?\n",
    "        Sim:\n",
    "            ...\n",
    "        Não:\n",
    "            ...\n",
    "```"
   ]
  },
  {
   "cell_type": "markdown",
   "metadata": {},
   "source": [
    "Continuando as divisões e agora observando onde a temperatura é maior que 22. Realizaremos uma divisão considerando a variável `Vento`.\n",
    "\n",
    "```python\n",
    "df = TempoNubladoNao_TempMenorq22\n",
    "condicao = df['Vento'] == 'Sim'\n",
    "TempoNubladoNao_TempMenorq22_VentoSim = df[condicao]\n",
    "TempoNubladoNao_TempMenorq22_VentoNao = df[~condicao]\n",
    "```"
   ]
  },
  {
   "cell_type": "code",
   "execution_count": null,
   "metadata": {},
   "outputs": [],
   "source": []
  },
  {
   "cell_type": "markdown",
   "metadata": {},
   "source": [
    "Observando as bases resultantes:\n",
    "```python\n",
    "TempoNubladoNao_TempMenorq22_VentoSim\n",
    "```"
   ]
  },
  {
   "cell_type": "code",
   "execution_count": null,
   "metadata": {},
   "outputs": [],
   "source": []
  },
  {
   "cell_type": "markdown",
   "metadata": {},
   "source": [
    "e \n",
    "```python\n",
    "TempoNubladoNao_TempMenorq22_VentoNao\n",
    "```"
   ]
  },
  {
   "cell_type": "code",
   "execution_count": null,
   "metadata": {},
   "outputs": [],
   "source": []
  },
  {
   "cell_type": "markdown",
   "metadata": {},
   "source": [
    "Atualizando o algoritmo:"
   ]
  },
  {
   "cell_type": "markdown",
   "metadata": {},
   "source": [
    "\n",
    "```\n",
    "- O tempo está nublado?\n",
    "    Sim: \n",
    "        Tem jogo!\n",
    "    Não:\n",
    "        A Temperatura é menor que 22?\n",
    "        Sim:\n",
    "            Tem vento?\n",
    "                Sim:\n",
    "                    Não tem jogo.\n",
    "                Não:\n",
    "                    Tem jogo!\n",
    "        Não:\n",
    "            ...\n",
    "```"
   ]
  },
  {
   "cell_type": "markdown",
   "metadata": {},
   "source": [
    "Ainda falta observar quando a temperatura é maior ou igual a 22. Neste caso, dividiremos de acordo com a variável `umidade`, com valores abaixo e acima de 85.\n",
    "\n",
    "```python\n",
    "df = TempoNubladoNao_TempMaiori22\n",
    "condicao = df['Umidade'] < 85\n",
    "TempoNubladoNao_TempMaiori22_UmidadeMenorq85 = df[condicao]\n",
    "TempoNubladoNao_TempMaiori22_UmidadeMaiori85 = df[~condicao]\n",
    "```"
   ]
  },
  {
   "cell_type": "code",
   "execution_count": null,
   "metadata": {},
   "outputs": [],
   "source": []
  },
  {
   "cell_type": "markdown",
   "metadata": {},
   "source": [
    "Observando as bases resultantes\n",
    "```python\n",
    "TempoNubladoNao_TempMaiori22_UmidadeMenorq85\n",
    "```"
   ]
  },
  {
   "cell_type": "code",
   "execution_count": null,
   "metadata": {},
   "outputs": [],
   "source": []
  },
  {
   "cell_type": "markdown",
   "metadata": {},
   "source": [
    "e \n",
    "```python\n",
    "TempoNubladoNao_TempMaiori22_UmidadeMaiori85\n",
    "```"
   ]
  },
  {
   "cell_type": "code",
   "execution_count": null,
   "metadata": {},
   "outputs": [],
   "source": []
  },
  {
   "cell_type": "markdown",
   "metadata": {},
   "source": [
    "Agora, possuimos divisões da base original em que nelas o valor da variável `Jogo` é homogêneo. Atualizando o algoritmo temos:"
   ]
  },
  {
   "cell_type": "markdown",
   "metadata": {},
   "source": [
    "\n",
    "```\n",
    "O tempo está nublado?\n",
    "    Sim: \n",
    "        Tem jogo.\n",
    "    Não:\n",
    "        A Temperatura é menor que 22?\n",
    "        Sim:\n",
    "            Tem vento?\n",
    "                Sim:\n",
    "                    Não tem jogo.\n",
    "                Não:\n",
    "                    Tem jogo.\n",
    "        Não:\n",
    "            A umidade é menor que 85?\n",
    "                Sim:\n",
    "                    Tem jogo.\n",
    "                Não:\n",
    "                    Não tem jogo.\n",
    "```\n",
    "<!-- \n",
    "\n",
    "```\n",
    "O tempo está nublado? (1)\n",
    "    Sim: \n",
    "        Tem jogo! (rA)\n",
    "    Não:\n",
    "        A Temperatura é menor que 22? (2)\n",
    "        Sim:\n",
    "            Tem vento? (3)\n",
    "                Sim:\n",
    "                    Não tem jogo. (rB)\n",
    "                Não:\n",
    "                    Tem jogo! (rC)\n",
    "        Não:\n",
    "            A umidade é menor que 85? (4)\n",
    "                Sim:\n",
    "                    Tem jogo! (rD)\n",
    "                Não:\n",
    "                    Não tem jogo. (rE)\n",
    "```\n",
    " -->"
   ]
  },
  {
   "cell_type": "markdown",
   "metadata": {},
   "source": [
    "- Agora com o algoritmo, tentaremos responder à pergunta inicial:\n",
    "    - Se a previsão do tempo de amanhã indicar que o dia:\n",
    "        - será ensolarado, \n",
    "        - terá vento, \n",
    "        - umidade será de 68 e a\n",
    "        - temperatura estimada será de 26.\n",
    "        - Então, terá jogo?        "
   ]
  },
  {
   "cell_type": "markdown",
   "metadata": {},
   "source": [
    "Podemos visualizar o algoritmo gerado com as decisões utilizando uma árvore."
   ]
  },
  {
   "cell_type": "code",
   "execution_count": 4,
   "metadata": {
    "tags": [
     "remove-input"
    ]
   },
   "outputs": [
    {
     "data": {
      "image/svg+xml": [
       "<?xml version=\"1.0\" encoding=\"UTF-8\" standalone=\"no\"?>\n",
       "<!DOCTYPE svg PUBLIC \"-//W3C//DTD SVG 1.1//EN\"\n",
       " \"http://www.w3.org/Graphics/SVG/1.1/DTD/svg11.dtd\">\n",
       "<!-- Generated by graphviz version 2.40.1 (0)\n",
       " -->\n",
       "<!-- Title: %3 Pages: 1 -->\n",
       "<svg width=\"595pt\" height=\"305pt\"\n",
       " viewBox=\"0.00 0.00 595.49 305.00\" xmlns=\"http://www.w3.org/2000/svg\" xmlns:xlink=\"http://www.w3.org/1999/xlink\">\n",
       "<g id=\"graph0\" class=\"graph\" transform=\"scale(1 1) rotate(0) translate(4 301)\">\n",
       "<title>%3</title>\n",
       "<polygon fill=\"#ffffff\" stroke=\"transparent\" points=\"-4,4 -4,-301 591.4867,-301 591.4867,4 -4,4\"/>\n",
       "<!-- 1 -->\n",
       "<g id=\"node1\" class=\"node\">\n",
       "<title>1</title>\n",
       "<polygon fill=\"none\" stroke=\"#000000\" points=\"473.4435,-297 291.4435,-297 291.4435,-261 473.4435,-261 473.4435,-297\"/>\n",
       "<text text-anchor=\"middle\" x=\"382.4435\" y=\"-275.3\" font-family=\"Times,serif\" font-size=\"14.00\" fill=\"#000000\">O tempo está nublado?</text>\n",
       "</g>\n",
       "<!-- 2 -->\n",
       "<g id=\"node2\" class=\"node\">\n",
       "<title>2</title>\n",
       "<polygon fill=\"none\" stroke=\"#000000\" points=\"406.9435,-210 161.9435,-210 161.9435,-174 406.9435,-174 406.9435,-210\"/>\n",
       "<text text-anchor=\"middle\" x=\"284.4435\" y=\"-188.3\" font-family=\"Times,serif\" font-size=\"14.00\" fill=\"#000000\">A temperatura é menor que 22?</text>\n",
       "</g>\n",
       "<!-- 1&#45;&gt;2 -->\n",
       "<g id=\"edge2\" class=\"edge\">\n",
       "<title>1&#45;&gt;2</title>\n",
       "<path fill=\"none\" stroke=\"#000000\" d=\"M362.1378,-260.9735C347.8152,-248.2586 328.4424,-231.0603 312.625,-217.0183\"/>\n",
       "<polygon fill=\"#000000\" stroke=\"#000000\" points=\"314.5251,-214.0249 304.7231,-210.0034 309.8778,-219.2597 314.5251,-214.0249\"/>\n",
       "<text text-anchor=\"middle\" x=\"354.4435\" y=\"-231.8\" font-family=\"Times,serif\" font-size=\"14.00\" fill=\"#000000\">Não</text>\n",
       "</g>\n",
       "<!-- rA -->\n",
       "<g id=\"node5\" class=\"node\">\n",
       "<title>rA</title>\n",
       "<ellipse fill=\"none\" stroke=\"#000000\" cx=\"480.4435\" cy=\"-192\" rx=\"55.7903\" ry=\"18\"/>\n",
       "<text text-anchor=\"middle\" x=\"480.4435\" y=\"-188.3\" font-family=\"Times,serif\" font-size=\"14.00\" fill=\"#000000\">Tem jogo.</text>\n",
       "</g>\n",
       "<!-- 1&#45;&gt;rA -->\n",
       "<g id=\"edge1\" class=\"edge\">\n",
       "<title>1&#45;&gt;rA</title>\n",
       "<path fill=\"none\" stroke=\"#000000\" d=\"M402.7491,-260.9735C417.4922,-247.8853 437.5864,-230.0466 453.6457,-215.7899\"/>\n",
       "<polygon fill=\"#000000\" stroke=\"#000000\" points=\"456.0094,-218.3717 461.1641,-209.1154 451.3621,-213.1369 456.0094,-218.3717\"/>\n",
       "<text text-anchor=\"middle\" x=\"451.4435\" y=\"-231.8\" font-family=\"Times,serif\" font-size=\"14.00\" fill=\"#000000\">Sim</text>\n",
       "</g>\n",
       "<!-- 3 -->\n",
       "<g id=\"node3\" class=\"node\">\n",
       "<title>3</title>\n",
       "<polygon fill=\"none\" stroke=\"#000000\" points=\"246.9435,-123 147.9435,-123 147.9435,-87 246.9435,-87 246.9435,-123\"/>\n",
       "<text text-anchor=\"middle\" x=\"197.4435\" y=\"-101.3\" font-family=\"Times,serif\" font-size=\"14.00\" fill=\"#000000\">Tem vento?</text>\n",
       "</g>\n",
       "<!-- 2&#45;&gt;3 -->\n",
       "<g id=\"edge3\" class=\"edge\">\n",
       "<title>2&#45;&gt;3</title>\n",
       "<path fill=\"none\" stroke=\"#000000\" d=\"M266.417,-173.9735C253.8187,-161.3752 236.819,-144.3755 222.849,-130.4055\"/>\n",
       "<polygon fill=\"#000000\" stroke=\"#000000\" points=\"224.9928,-127.5996 215.4468,-123.0034 220.0431,-132.5493 224.9928,-127.5996\"/>\n",
       "<text text-anchor=\"middle\" x=\"260.4435\" y=\"-144.8\" font-family=\"Times,serif\" font-size=\"14.00\" fill=\"#000000\">Sim</text>\n",
       "</g>\n",
       "<!-- 4 -->\n",
       "<g id=\"node4\" class=\"node\">\n",
       "<title>4</title>\n",
       "<polygon fill=\"none\" stroke=\"#000000\" points=\"481.9435,-123 264.9435,-123 264.9435,-87 481.9435,-87 481.9435,-123\"/>\n",
       "<text text-anchor=\"middle\" x=\"373.4435\" y=\"-101.3\" font-family=\"Times,serif\" font-size=\"14.00\" fill=\"#000000\">A umidade é menor que 85?</text>\n",
       "</g>\n",
       "<!-- 2&#45;&gt;4 -->\n",
       "<g id=\"edge6\" class=\"edge\">\n",
       "<title>2&#45;&gt;4</title>\n",
       "<path fill=\"none\" stroke=\"#000000\" d=\"M302.8843,-173.9735C315.8916,-161.2586 333.4853,-144.0603 347.8501,-130.0183\"/>\n",
       "<polygon fill=\"#000000\" stroke=\"#000000\" points=\"350.3219,-132.4965 355.0262,-123.0034 345.4287,-127.4908 350.3219,-132.4965\"/>\n",
       "<text text-anchor=\"middle\" x=\"349.4435\" y=\"-144.8\" font-family=\"Times,serif\" font-size=\"14.00\" fill=\"#000000\">Não</text>\n",
       "</g>\n",
       "<!-- rB -->\n",
       "<g id=\"node6\" class=\"node\">\n",
       "<title>rB</title>\n",
       "<ellipse fill=\"none\" stroke=\"#000000\" cx=\"73.4435\" cy=\"-18\" rx=\"73.387\" ry=\"18\"/>\n",
       "<text text-anchor=\"middle\" x=\"73.4435\" y=\"-14.3\" font-family=\"Times,serif\" font-size=\"14.00\" fill=\"#000000\">Não tem jogo</text>\n",
       "</g>\n",
       "<!-- 3&#45;&gt;rB -->\n",
       "<g id=\"edge4\" class=\"edge\">\n",
       "<title>3&#45;&gt;rB</title>\n",
       "<path fill=\"none\" stroke=\"#000000\" d=\"M171.7506,-86.9735C152.7569,-73.6473 126.7441,-55.3964 106.2477,-41.0159\"/>\n",
       "<polygon fill=\"#000000\" stroke=\"#000000\" points=\"108.0342,-37.9938 97.8378,-35.1154 104.0137,-43.7241 108.0342,-37.9938\"/>\n",
       "<text text-anchor=\"middle\" x=\"157.4435\" y=\"-57.8\" font-family=\"Times,serif\" font-size=\"14.00\" fill=\"#000000\">Sim</text>\n",
       "</g>\n",
       "<!-- rC -->\n",
       "<g id=\"node7\" class=\"node\">\n",
       "<title>rC</title>\n",
       "<ellipse fill=\"none\" stroke=\"#000000\" cx=\"220.4435\" cy=\"-18\" rx=\"55.7903\" ry=\"18\"/>\n",
       "<text text-anchor=\"middle\" x=\"220.4435\" y=\"-14.3\" font-family=\"Times,serif\" font-size=\"14.00\" fill=\"#000000\">Tem jogo.</text>\n",
       "</g>\n",
       "<!-- 3&#45;&gt;rC -->\n",
       "<g id=\"edge5\" class=\"edge\">\n",
       "<title>3&#45;&gt;rC</title>\n",
       "<path fill=\"none\" stroke=\"#000000\" d=\"M202.2091,-86.9735C205.3547,-75.0751 209.5381,-59.2508 213.1045,-45.7606\"/>\n",
       "<polygon fill=\"#000000\" stroke=\"#000000\" points=\"216.5118,-46.5658 215.684,-36.0034 209.7443,-44.7766 216.5118,-46.5658\"/>\n",
       "<text text-anchor=\"middle\" x=\"225.4435\" y=\"-57.8\" font-family=\"Times,serif\" font-size=\"14.00\" fill=\"#000000\">Não</text>\n",
       "</g>\n",
       "<!-- rD -->\n",
       "<g id=\"node8\" class=\"node\">\n",
       "<title>rD</title>\n",
       "<ellipse fill=\"none\" stroke=\"#000000\" cx=\"361.4435\" cy=\"-18\" rx=\"55.7903\" ry=\"18\"/>\n",
       "<text text-anchor=\"middle\" x=\"361.4435\" y=\"-14.3\" font-family=\"Times,serif\" font-size=\"14.00\" fill=\"#000000\">Tem jogo.</text>\n",
       "</g>\n",
       "<!-- 4&#45;&gt;rD -->\n",
       "<g id=\"edge7\" class=\"edge\">\n",
       "<title>4&#45;&gt;rD</title>\n",
       "<path fill=\"none\" stroke=\"#000000\" d=\"M370.9571,-86.9735C369.332,-75.1918 367.176,-59.5607 365.3274,-46.1581\"/>\n",
       "<polygon fill=\"#000000\" stroke=\"#000000\" points=\"368.7603,-45.4313 363.9267,-36.0034 361.826,-46.3878 368.7603,-45.4313\"/>\n",
       "<text text-anchor=\"middle\" x=\"382.4435\" y=\"-57.8\" font-family=\"Times,serif\" font-size=\"14.00\" fill=\"#000000\">Sim</text>\n",
       "</g>\n",
       "<!-- rE -->\n",
       "<g id=\"node9\" class=\"node\">\n",
       "<title>rE</title>\n",
       "<ellipse fill=\"none\" stroke=\"#000000\" cx=\"511.4435\" cy=\"-18\" rx=\"76.0865\" ry=\"18\"/>\n",
       "<text text-anchor=\"middle\" x=\"511.4435\" y=\"-14.3\" font-family=\"Times,serif\" font-size=\"14.00\" fill=\"#000000\">Não tem jogo.</text>\n",
       "</g>\n",
       "<!-- 4&#45;&gt;rE -->\n",
       "<g id=\"edge8\" class=\"edge\">\n",
       "<title>4&#45;&gt;rE</title>\n",
       "<path fill=\"none\" stroke=\"#000000\" d=\"M402.0372,-86.9735C423.3641,-73.5283 452.6427,-55.0701 475.5451,-40.6316\"/>\n",
       "<polygon fill=\"#000000\" stroke=\"#000000\" points=\"477.7022,-43.4092 484.2949,-35.1154 473.9691,-37.4877 477.7022,-43.4092\"/>\n",
       "<text text-anchor=\"middle\" x=\"466.4435\" y=\"-57.8\" font-family=\"Times,serif\" font-size=\"14.00\" fill=\"#000000\">Não</text>\n",
       "</g>\n",
       "</g>\n",
       "</svg>\n"
      ],
      "text/plain": [
       "<graphviz.dot.Digraph at 0x7f337c5c02e8>"
      ]
     },
     "execution_count": 4,
     "metadata": {},
     "output_type": "execute_result"
    }
   ],
   "source": [
    "##Este código serve apenas para construir uma árvore com o algoritmo exemplo que criamos\n",
    "from graphviz import Digraph\n",
    "dot = Digraph(comment='Árvore de decisão')\n",
    "dot.node('1','O tempo está nublado?', shape='box')\n",
    "dot.node('2','A temperatura é menor que 22?', shape='box')\n",
    "dot.node('3','Tem vento?', shape='box')\n",
    "dot.node('4','A umidade é menor que 85?', shape='box')\n",
    "\n",
    "dot.node('rA','Tem jogo.')\n",
    "dot.node('rB','Não tem jogo')\n",
    "dot.node('rC','Tem jogo.')\n",
    "dot.node('rD','Tem jogo.')\n",
    "dot.node('rE','Não tem jogo.')\n",
    "\n",
    "dot.edge('1','rA',label='Sim')\n",
    "dot.edge('1','2',label='Não')\n",
    "dot.edge('2','3',label='Sim')\n",
    "dot.edge('3','rB',label='Sim')\n",
    "dot.edge('3','rC',label='Não')\n",
    "dot.edge('2','4',label='Não')\n",
    "dot.edge('4','rD',label='Sim')\n",
    "dot.edge('4','rE',label='Não')\n",
    "\n",
    "dot\n",
    "# dot.render(view=True)"
   ]
  },
  {
   "cell_type": "markdown",
   "metadata": {},
   "source": [
    "Por isso, esta estratégia é chamada de **Árvores de decisão**."
   ]
  },
  {
   "cell_type": "markdown",
   "metadata": {},
   "source": [
    "Consideraremos a variável `jogo` como variável **alvo** (*target*), é ela que desejamos obter a partir das demais variáveis."
   ]
  },
  {
   "cell_type": "markdown",
   "metadata": {},
   "source": [
    "## Variáveis *dummy*"
   ]
  },
  {
   "cell_type": "markdown",
   "metadata": {},
   "source": [
    "Para as variáveis independentes qualitativas, é necessário passá-las a um formato binário. Neste formato, cada valor da variável original gera uma coluna com valores binários indicando a presença ou ausência daquele valor."
   ]
  },
  {
   "cell_type": "markdown",
   "metadata": {},
   "source": [
    "**Exemplo**\n",
    "- Considere a variável `Tempo`. Convertendo-a para *dummy*:"
   ]
  },
  {
   "cell_type": "markdown",
   "metadata": {},
   "source": [
    "<table>\n",
    "    <tr><th>Variável original </th><th>Variável com valores dummy</th></tr>\n",
    "<tr><td>\n",
    "\n",
    "|Tempo\t\t|\n",
    "|-----------|\n",
    "|Chuvoso\t|\n",
    "|Ensolarado\t|\n",
    "|Ensolarado\t|\n",
    "|Nublado\t|\n",
    "|Chuvoso\t|\n",
    "|Chuvoso\t|\n",
    "|Nublado\t|\n",
    "|Nublado\t|\n",
    "|Ensolarado\t|\n",
    "|Chuvoso\t|\n",
    "|Nublado\t|\n",
    "|Ensolarado\t|\n",
    "|Ensolarado\t|\n",
    "|Chuvoso\t|\n",
    "\n",
    "</td><td>\n",
    "\n",
    "|Tempo_Chuvoso|Tempo_Ensolarado|Tempo_Nublado|\n",
    "|--|--|--|\n",
    "1|0|0\n",
    "0|1|0\n",
    "0|1|0\n",
    "0|0|1\n",
    "1|0|0\n",
    "1|0|0\n",
    "0|0|1\n",
    "0|0|1\n",
    "0|1|0\n",
    "1|0|0\n",
    "0|0|1\n",
    "0|1|0\n",
    "0|1|0\n",
    "1|0|0\n",
    "    \n",
    "\n",
    "</td></tr> </table>"
   ]
  },
  {
   "cell_type": "markdown",
   "metadata": {},
   "source": [
    "A biblioteca Pandas possui o método `.get_dummies()` para converter Series e Dataframes para o formato *dummy*. \n",
    "\n",
    "**Exemplo**\n",
    "```python\n",
    "pd.get_dummies(dfTenis['Tempo'])\n",
    "```"
   ]
  },
  {
   "cell_type": "markdown",
   "metadata": {},
   "source": [
    "É possível converter várias variáveis de uma única vez.\n",
    "\n",
    "**Exemplo**  \n",
    "- Convertendo todas as variáveis qualitativas da base de uma única vez\n",
    "```python\n",
    "quali = ['Tempo', 'Vento']\n",
    "pd.get_dummies(dfTenis[quali])\n",
    "```"
   ]
  },
  {
   "cell_type": "code",
   "execution_count": null,
   "metadata": {},
   "outputs": [],
   "source": []
  },
  {
   "cell_type": "markdown",
   "metadata": {},
   "source": [
    "## Preparação da base"
   ]
  },
  {
   "cell_type": "markdown",
   "metadata": {},
   "source": [
    "Convém criar uma base contendo apenas as variáveis *dummy* e as quantitativas, que servirá de entrada para a criação da árvore de decisão.\n",
    "\n",
    "**Exemplo**  \n",
    "```python\n",
    "quali = ['Tempo', 'Vento'] #Variáveis qualitativas\n",
    "quant = ['Temperatura', 'Umidade'] #Variáveis quantitativas\n",
    "\n",
    "dfQualiDummies = pd.get_dummies(dfTenis[quali]) #Dataframe com qualitativas dummy\n",
    "dfQuant = dfTenis[quant] #Dataframe com quantitativas\n",
    "\n",
    "dfWork = pd.concat([dfQualiDummies, dfQuant ], axis=1 ) #Dataframe com quali dummy e quant\n",
    "dfWork\n",
    "```"
   ]
  },
  {
   "cell_type": "code",
   "execution_count": null,
   "metadata": {},
   "outputs": [],
   "source": []
  },
  {
   "cell_type": "markdown",
   "metadata": {},
   "source": [
    "Convém separar a variável alvo também.\n",
    "\n",
    "```python\n",
    "target = dfTenis['Jogo']\n",
    "```"
   ]
  },
  {
   "cell_type": "code",
   "execution_count": null,
   "metadata": {},
   "outputs": [],
   "source": []
  },
  {
   "cell_type": "markdown",
   "metadata": {},
   "source": [
    "## Criação e visualização"
   ]
  },
  {
   "cell_type": "markdown",
   "metadata": {},
   "source": [
    "Para criar a árvore utilizaremos a biblioteca `sklearn`. Na biblioteca, utilizamos a classe `tree`.\n",
    "\n",
    "**Atividade**  \n",
    "\n",
    "```python\n",
    "from sklearn import tree\n",
    "```"
   ]
  },
  {
   "cell_type": "code",
   "execution_count": null,
   "metadata": {},
   "outputs": [],
   "source": []
  },
  {
   "cell_type": "markdown",
   "metadata": {},
   "source": [
    "Com base no tipo de variável que se tem como variável alvo, deve-se escolher o tipo de árvore, de classificação ou regressão.\n",
    "\n",
    "**Exemplo**  \n",
    "```python\n",
    "arv = tree.DecisionTreeClassifier() #árvore de classificação\n",
    "```\n",
    "ou\n",
    "\n",
    "```python\n",
    "arv = tree.DecisionTreeRegressor() #árvore de regressão\n",
    "```"
   ]
  },
  {
   "cell_type": "code",
   "execution_count": null,
   "metadata": {},
   "outputs": [],
   "source": []
  },
  {
   "cell_type": "markdown",
   "metadata": {},
   "source": [
    "Após alocado o objeto responsável pela árvore, é necessário criar a árvore. Para isso, utilizaremos o método `.fit()`, passando como parâmetros a base com as variáveis *dummy* e quantitativas, e a variável alvo.\n",
    "\n",
    "**Exemplo**  \n",
    "```python\n",
    "arv.fit(dfWork, target)\n",
    "```"
   ]
  },
  {
   "cell_type": "code",
   "execution_count": null,
   "metadata": {},
   "outputs": [],
   "source": []
  },
  {
   "cell_type": "markdown",
   "metadata": {},
   "source": [
    "Para visualizar a árvore, pode-se utilizar a biblioteca `graphviz`.\n",
    "\n",
    "**Exemplo**  \n",
    "```python\n",
    "import graphviz\n",
    "dot_data = tree.export_graphviz(arv, \n",
    "                      feature_names=dfWork.columns,  #variáveis\n",
    "                      class_names=arv.classes_,      #valores dos resultados\n",
    "                      out_file=None,                 #Arquivo de saída\n",
    "                      #configurações dos nós\n",
    "                      filled=True, rounded=True,     \n",
    "                      special_characters=True)  \n",
    "graph = graphviz.Source(dot_data)  \n",
    "graph \n",
    "```"
   ]
  },
  {
   "cell_type": "code",
   "execution_count": null,
   "metadata": {},
   "outputs": [],
   "source": []
  },
  {
   "cell_type": "markdown",
   "metadata": {},
   "source": [
    "### Utilizando a árvore criada\n",
    "\n",
    "Para fazer uma busca por resultados na árvore pode-se utilizar o método `.predict()`\n",
    "\n",
    "**Exemplo**\n",
    "```python\t\t\t\t\t\n",
    "vals = [0,  #Tempo_Chuvoso\n",
    "        1,  #Tempo_Ensolarado\n",
    "        0,  #Tempo_Nublado\n",
    "        1,  #Vento_Não\n",
    "        0,  #Vento_Sim\n",
    "        22, #Temperatura\n",
    "        80  #Umidade\n",
    "       ]\n",
    "res = arv.predict([vals])\n",
    "```"
   ]
  },
  {
   "cell_type": "code",
   "execution_count": null,
   "metadata": {},
   "outputs": [],
   "source": []
  },
  {
   "cell_type": "markdown",
   "metadata": {},
   "source": [
    "**Atividade**  \n",
    "- Execute o exemplo"
   ]
  },
  {
   "cell_type": "code",
   "execution_count": null,
   "metadata": {},
   "outputs": [],
   "source": []
  },
  {
   "cell_type": "markdown",
   "metadata": {},
   "source": [
    "## Resumo"
   ]
  },
  {
   "cell_type": "markdown",
   "metadata": {},
   "source": [
    "Para criar e utilizar uma árvore de decisão:\n",
    "\n",
    "1. Defina qual será a variável alvo\n",
    "    1. Salve a variável alvo separadamente da base\n",
    "1. Observe quais são as variáveis qualitativas\n",
    "    1. Converta as variáveis qualitativas em variáveis *dummy*\n",
    "1. Observe quais são as variáveis quantitativas\n",
    "1. Coloque as variáveis *dummy* e as quantitativas em uma base de trabalho\n",
    "1. Observe a variável alvo e gere a árvore\n",
    "    - Caso seja qualitativa, será uma árvore de **decisão**\n",
    "    - Caso seja quantitativa, será uma árvore de **regressão**\n",
    "1. Gere a árvore\n",
    "1. Observe os resultados, fazendo buscas na árvore"
   ]
  },
  {
   "cell_type": "markdown",
   "metadata": {},
   "source": [
    "**Exemplo**  \n",
    "\n",
    "```python\n",
    "alvo = 'Jogo' #variável alvo\n",
    "quali = ['Tempo', 'Vento'] #Variáveis qualitativas\n",
    "quant = ['Temperatura', 'Umidade'] #Variáveis quantitativas\n",
    "\n",
    "\n",
    "\n",
    "target = dfTenis[alvo] #Separa a variável alvo\n",
    "dfQualiDummies = pd.get_dummies(dfTenis[quali]) #Dataframe com qualitativas dummy\n",
    "dfQuant = dfTenis[quant] #Dataframe com quantitativas\n",
    "dfWork = pd.concat([dfQualiDummies, dfQuant], axis=1) #Dataframe com todas variáveis\n",
    "\n",
    "arv = tree.DecisionTreeClassifier() #árvore de decisão\n",
    "# arv = tree.DecisionTreeRegressor()  #árvore de regressão\n",
    "\n",
    "#Gere a árvore\n",
    "arv.fit(dfWork, target) #cria a árvore\n",
    "\n",
    "#Visualize a árvore (passo não obrigatório)\n",
    "# import graphviz\n",
    "# dot_data = tree.export_graphviz(arv, \n",
    "#                       feature_names=dfWork.columns,  #variáveis\n",
    "#                       class_names=arv.classes_,      #valores dos resultados\n",
    "#                       out_file=None,                 #Arquivo de saída\n",
    "#                       #configurações dos nós\n",
    "#                       filled=True, rounded=True,     \n",
    "#                       special_characters=True)  \n",
    "# graph = graphviz.Source(dot_data)  \n",
    "# graph \n",
    "```"
   ]
  },
  {
   "cell_type": "code",
   "execution_count": null,
   "metadata": {},
   "outputs": [],
   "source": []
  },
  {
   "cell_type": "markdown",
   "metadata": {},
   "source": [
    "De maneira concisa:\n",
    "\n",
    "```python\n",
    "#Variáveis\n",
    "alvo = 'Jogo' #variável alvo\n",
    "quali = ['Tempo', 'Vento'] #Variáveis qualitativas\n",
    "quant = ['Temperatura', 'Umidade'] #Variáveis quantitativas\n",
    "base = dfTenis\n",
    "\n",
    "#Árvore\n",
    "arv = tree.DecisionTreeClassifier() #árvore de decisão\n",
    "# arv = tree.DecisionTreeRegressor()  #árvore de regressão\n",
    "arv.fit(pd.concat([pd.get_dummies(base[quali]), base[quant]], axis=1), base[alvo]) #cria a árvore\n",
    "\n",
    "#Teste\n",
    "```"
   ]
  },
  {
   "cell_type": "code",
   "execution_count": null,
   "metadata": {},
   "outputs": [],
   "source": []
  },
  {
   "cell_type": "markdown",
   "metadata": {},
   "source": [
    "## Referências\n",
    "FACELI, K.; LORENA, A.C.; GAMA, J.; CARVALHO, A.C.P.L.F.  Inteligência Artificial: Uma abordagem de aprendizado de máquina. Grupo Gen-LTC, 2011.  \n",
    "\n",
    "[CHIAVEGATTO, A.F. Algoritmos de machine learning: support vector machines, random forests e gradient boosted trees. Notas de aula do curso  Inteligência Artificial em saúde: o uso de machine learning. Universidade de São Paulo.](https://www.youtube.com/watch?v=xSna88sBWHU&t=23s)  \n",
    "\n",
    "[LOPES, H.F.; MARQUES, P.C. Árvores de Classificação e Regressão. Insper, 2017.](http://hedibert.org/wp-content/uploads/2018/06/CART.pdf)  \n",
    "\n",
    "**Outros materiais**  \n",
    "\n",
    "[ANALYTICS VIDHYA. Tree Based Algorithms: A Complete Tutorial from Scratch](https://www.analyticsvidhya.com/blog/2016/04/tree-based-algorithms-complete-tutorial-scratch-in-python/)  \n",
    "[LANGFORD, R. The Dummy’s Guide to Creating Dummy Variables. Towards Data Science, 2017.](https://towardsdatascience.com/the-dummys-guide-to-creating-dummy-variables-f21faddb1d40)  \n",
    "[HIRO. Introduction to Graphviz in Jupyter Notebook.](https://h1ros.github.io/posts/introduction-to-graphviz-in-jupyter-notebook/)  \n",
    "[Terrence, P.; Grover, P. How to visualize decision trees. Explained.ai.](https://explained.ai/decision-tree-viz/)  "
   ]
  },
  {
   "cell_type": "markdown",
   "metadata": {},
   "source": [
    " "
   ]
  }
 ],
 "metadata": {
  "kernelspec": {
   "display_name": "Python 3",
   "language": "python",
   "name": "python3"
  },
  "language_info": {
   "codemirror_mode": {
    "name": "ipython",
    "version": 3
   },
   "file_extension": ".py",
   "mimetype": "text/x-python",
   "name": "python",
   "nbconvert_exporter": "python",
   "pygments_lexer": "ipython3",
   "version": "3.6.8"
  }
 },
 "nbformat": 4,
 "nbformat_minor": 4
}
