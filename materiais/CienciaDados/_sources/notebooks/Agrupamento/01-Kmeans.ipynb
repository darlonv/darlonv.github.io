{
 "cells": [
  {
   "cell_type": "markdown",
   "metadata": {},
   "source": [
    "# Kmeans\n",
    "\n",
    "O Kmeans (K-Médias) é um algoritmo de agrupamento, que consiste em alocar elementos semelhantes em um mesmo conjunto, cuja semelhança é calculada com algum critério definido."
   ]
  },
  {
   "cell_type": "markdown",
   "metadata": {},
   "source": [
    "Utilizaremos o método KMeans disponível na biblioteca Scikit-learn. Para importa-lo:\n",
    "```python\n",
    "from sklearn.cluster import KMeans\n",
    "```\n",
    "\n",
    "adicionalmente, precisaremos de outras bibliotecas também\n",
    "```python\n",
    "import numpy as np\n",
    "import pandas as pd\n",
    "import seaborn as sns\n",
    "import random\n",
    "import matplotlib.pyplot as plt\n",
    "%matplotlib inline\n",
    "```\n",
    "\n",
    "**Atividade**\n",
    "- Importe as bibliotecas necessárias."
   ]
  },
  {
   "cell_type": "code",
   "execution_count": null,
   "metadata": {},
   "outputs": [],
   "source": []
  },
  {
   "cell_type": "markdown",
   "metadata": {},
   "source": [
    "Para trabalhar com o KMeans é necessário criar um objeto, para acessar os métodos e atributos para aplicar e obter o resultado do algoritmo de agrupamento.\n",
    "\n",
    "```python\n",
    "kmeans = KMeans(n_clusters=4)\n",
    "```\n",
    "> O parâmetro `n_clusters` indica o número de grupos que deseja formar."
   ]
  },
  {
   "cell_type": "code",
   "execution_count": null,
   "metadata": {},
   "outputs": [],
   "source": []
  },
  {
   "cell_type": "code",
   "execution_count": null,
   "metadata": {},
   "outputs": [],
   "source": []
  },
  {
   "cell_type": "markdown",
   "metadata": {},
   "source": [
    "**Exemplo**  \n",
    "\n",
    "Gerando um conjunto aleatório de dados:\n",
    "```python\n",
    "n = 100\n",
    "x=[]\n",
    "for i in range(n):\n",
    "    x.append([random.randrange(0,n), random.randrange(0,n)] )\n",
    "x = np.array(x)\n",
    "```"
   ]
  },
  {
   "cell_type": "code",
   "execution_count": null,
   "metadata": {},
   "outputs": [],
   "source": []
  },
  {
   "cell_type": "markdown",
   "metadata": {},
   "source": [
    "Observando o conjunto de dados:\n",
    "```bash\n",
    "print(x)\n",
    "```"
   ]
  },
  {
   "cell_type": "code",
   "execution_count": null,
   "metadata": {},
   "outputs": [],
   "source": []
  },
  {
   "cell_type": "markdown",
   "metadata": {},
   "source": [
    "Para calcular, utiliza-se o método `.fit()`.  \n",
    "\n",
    ">**Exemplo**  \n",
    ">```python\n",
    "kmeans.fit(x)\n",
    "```"
   ]
  },
  {
   "cell_type": "code",
   "execution_count": null,
   "metadata": {},
   "outputs": [],
   "source": []
  },
  {
   "cell_type": "markdown",
   "metadata": {},
   "source": [
    "Pode-ser ver os centróides, observando o atributo `.cluster_centers_`.  \n",
    ">**Exemplo**  \n",
    ">```bash\n",
    "kmeans.cluster_centers_\n",
    "```"
   ]
  },
  {
   "cell_type": "code",
   "execution_count": null,
   "metadata": {},
   "outputs": [],
   "source": []
  },
  {
   "cell_type": "markdown",
   "metadata": {},
   "source": [
    "Para observar a qual grupo pertence cada ponto, com o atributo `.labels_`.  \n",
    ">**Exemplo**\n",
    ">```bash\n",
    "kmeans.labels_\n",
    "```"
   ]
  },
  {
   "cell_type": "code",
   "execution_count": null,
   "metadata": {},
   "outputs": [],
   "source": []
  },
  {
   "cell_type": "markdown",
   "metadata": {},
   "source": [
    "O conjunto de dados e os grupos podem ser observados de maneira gráfica, utilizando gráficos de *scatter*.\n",
    "\n",
    ">**Exemplo**  \n",
    ">```python\n",
    "># plota os pontos\n",
    ">plt.scatter(\n",
    "    x[:, 0], x[:, 1], #x e y\n",
    "    c = kmeans.labels_, #cores de acordo com o grupo\n",
    "    marker='o', # pontos com 'o'\n",
    "    edgecolor='black', #cor da borda\n",
    "    cmap='rainbow', #esquema de cores\n",
    "    s=100 #tamanho\n",
    ")\n",
    "># plota os centróides\n",
    "plt.scatter(\n",
    "    kmeans.cluster_centers_[:,0], kmeans.cluster_centers_[:, 1],#x e y\n",
    "    c='white',  #cor fixa\n",
    "    marker='*', #pontos marcados com estrela\n",
    "    edgecolor='black', #cor da borda\n",
    "    s=100 #tamanho\n",
    ")\n",
    "plt.show()\n",
    "```"
   ]
  },
  {
   "cell_type": "code",
   "execution_count": null,
   "metadata": {},
   "outputs": [],
   "source": []
  },
  {
   "cell_type": "markdown",
   "metadata": {},
   "source": [
    "**Exercícios**  \n",
    "- Crie 3 grupos, colocando como entrada a idade e altura de um grupo de pessoas"
   ]
  },
  {
   "cell_type": "markdown",
   "metadata": {},
   "source": [
    "**Dataframes Pandas**\n",
    "\n",
    "Para aplicar o K-means a partir de Dataframes Pandas, basta converter as colunas necessárias em Arrays Numpy."
   ]
  },
  {
   "cell_type": "markdown",
   "metadata": {},
   "source": [
    ">**Exemplo**  \n",
    ">- Crie 3 grupos a partir das variáveis `preco` e `area`, da base `rioAptos`.\n",
    ">```python\n",
    "data = pd.read_csv('../../../book/notebooks/Regressao/rioAptos.csv')\n",
    "kmeans = KMeans(n_clusters=3)\n",
    "x = data[['preco','area']].values\n",
    "kmeans.fit(x)\n",
    "```\n",
    "\n",
    "**Atividade**  \n",
    "\n",
    "- Execute o exemplo\n",
    "- Observe o resultado utilizando gráfico *scatter*. Qual o significado de cada grupo?"
   ]
  },
  {
   "cell_type": "code",
   "execution_count": null,
   "metadata": {},
   "outputs": [],
   "source": []
  },
  {
   "cell_type": "code",
   "execution_count": null,
   "metadata": {},
   "outputs": [],
   "source": []
  },
  {
   "cell_type": "markdown",
   "metadata": {},
   "source": [
    "## Referências\n",
    "\n",
    "CARVALHO, A. et al. Inteligência Artificial - Uma Abordagem de Aprendizado de Máquina. LTC, 2011.\n",
    "\n",
    "[MENOTTI, D. Boas maneiras, aprendizado não supervisionado e regressão. Notas de aula da Especialização em Engenharia Industrial. Universidade Federal do Paraná.](http://www.inf.ufpr.br/menotti/am-17/slides/ML-08cluster-regression.pdf)  \n",
    "\n",
    "\n",
    "**Outros materiais**  \n",
    "[Towards data science. K-Means Clustering with scikit-learn. Medium. 2019](https://towardsdatascience.com/k-means-clustering-with-scikit-learn-6b47a369a83c)  \n",
    "[GURU99. K-means Clustering in R with Example](https://www.guru99.com/r-k-means-clustering.html)  \n",
    "[SCIKIT-LEARN. Scikit-learn: machine learning in Python](https://scikit-learn.org/stable/)  \n",
    "\n",
    "\n"
   ]
  },
  {
   "cell_type": "markdown",
   "metadata": {},
   "source": [
    " "
   ]
  }
 ],
 "metadata": {
  "kernelspec": {
   "display_name": "Python 3",
   "language": "python",
   "name": "python3"
  },
  "language_info": {
   "codemirror_mode": {
    "name": "ipython",
    "version": 3
   },
   "file_extension": ".py",
   "mimetype": "text/x-python",
   "name": "python",
   "nbconvert_exporter": "python",
   "pygments_lexer": "ipython3",
   "version": "3.6.8"
  }
 },
 "nbformat": 4,
 "nbformat_minor": 2
}
