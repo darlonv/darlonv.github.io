{
 "cells": [
  {
   "cell_type": "markdown",
   "metadata": {},
   "source": [
    "# Numpy\n",
    "\n",
    "Numpy é uma biblioteca Python voltada para computação científica."
   ]
  },
  {
   "cell_type": "markdown",
   "metadata": {},
   "source": [
    "## Importação\n",
    "\n",
    "Para importar a biblioteca, utilize\n",
    "```py\n",
    "import numpy as np\n",
    "```\n",
    "`np` é o nome dado que utilizaremos para acessar a biblioteca."
   ]
  },
  {
   "cell_type": "code",
   "execution_count": 2,
   "metadata": {},
   "outputs": [],
   "source": [
    "import numpy as np"
   ]
  },
  {
   "cell_type": "markdown",
   "metadata": {},
   "source": [
    "## *Arrays*\n",
    "O *array* numpy é uma lista de valores, indexada por uma tupla de inteiros não negativos. O número de dimensões do array é o *rank* do array. O *shape* de um *array* é uma tupla de inteiros, dado o tamanho do *array* em cada dimensão definida.\n",
    "\n",
    "**Exemplo**\n",
    "\n",
    "Crie um vetor de uma dimensão\n",
    "```py\n",
    "a = np.array([1, 2, 3])\n",
    "```\n",
    "\n",
    "Observe o tipo do dado armazenado em cada posição\n",
    "```py\n",
    "print(type(a))\n",
    "```\n",
    "\n",
    "Observe o formato do vetor\n",
    "```py\n",
    "print (a.shape)\n",
    "```\n",
    "\n",
    "Mostra os elementos em cada posição\n",
    "```py\n",
    "print(a[0], a[1], a[2])\n",
    "```\n",
    "\n",
    "Mostra todo o vetor\n",
    "```py\n",
    "print(a)\n",
    "```\n",
    "\n",
    "Altera valor em uma posição\n",
    "```py\n",
    "a[0]=100\n",
    "```\n",
    "\n",
    "Mostra todo o vetor\n",
    "```py\n",
    "print(a)\n",
    "```"
   ]
  },
  {
   "cell_type": "code",
   "execution_count": null,
   "metadata": {},
   "outputs": [],
   "source": []
  },
  {
   "cell_type": "code",
   "execution_count": null,
   "metadata": {},
   "outputs": [],
   "source": []
  },
  {
   "cell_type": "code",
   "execution_count": null,
   "metadata": {},
   "outputs": [],
   "source": []
  },
  {
   "cell_type": "code",
   "execution_count": null,
   "metadata": {},
   "outputs": [],
   "source": []
  },
  {
   "cell_type": "code",
   "execution_count": null,
   "metadata": {},
   "outputs": [],
   "source": []
  },
  {
   "cell_type": "code",
   "execution_count": null,
   "metadata": {},
   "outputs": [],
   "source": []
  },
  {
   "cell_type": "code",
   "execution_count": null,
   "metadata": {},
   "outputs": [],
   "source": []
  },
  {
   "cell_type": "markdown",
   "metadata": {},
   "source": [
    "**Atividade**\n",
    "\n",
    "Crie um outro vetor, com o seguinte formato  \n",
    "```py\n",
    "b = np.array([[1,2,3], [4,5,6]])\n",
    "```\n",
    "\n",
    "Compare os vetores `a` e `b`. Qual é a diferença?"
   ]
  },
  {
   "cell_type": "code",
   "execution_count": null,
   "metadata": {},
   "outputs": [],
   "source": []
  },
  {
   "cell_type": "markdown",
   "metadata": {},
   "source": [
    "**Atividade**\n",
    "\n",
    "Faça:  \n",
    "```py\n",
    "print(b[1])\n",
    "print(b[1][1])\n",
    "```\n",
    "\n",
    "Explique o quê é mostrado"
   ]
  },
  {
   "cell_type": "code",
   "execution_count": null,
   "metadata": {},
   "outputs": [],
   "source": []
  },
  {
   "cell_type": "markdown",
   "metadata": {},
   "source": [
    "## *Reshape*\n",
    "É possível alterar o formato do *array*. Execute os código abaixo passo a passo, observando o resultado:\n",
    "```\n",
    "arr = np.arange(10)\n",
    "print(arr)\n",
    "print(arr.shape)\n",
    "arr.reshape(5,2)\n",
    "arr.reshape(2,5)\n",
    "```\n",
    "**Sintaxe**\n",
    "\n",
    "`.reshape(l,c)`  \n",
    "onde:\n",
    "- `l`: número de linhas\n",
    "- `c`: número de colunas\n",
    "\n",
    "O valor `l*c` deve corresponder à quantidade total de elementos no *array*."
   ]
  },
  {
   "cell_type": "code",
   "execution_count": 3,
   "metadata": {},
   "outputs": [],
   "source": [
    "arr = np.arange(10)"
   ]
  },
  {
   "cell_type": "code",
   "execution_count": 8,
   "metadata": {},
   "outputs": [
    {
     "name": "stdout",
     "output_type": "stream",
     "text": [
      "[0 1 2 3 4 5 6 7 8 9]\n"
     ]
    }
   ],
   "source": [
    "print(arr)"
   ]
  },
  {
   "cell_type": "code",
   "execution_count": 9,
   "metadata": {},
   "outputs": [
    {
     "name": "stdout",
     "output_type": "stream",
     "text": [
      "(10,)\n"
     ]
    }
   ],
   "source": [
    "print(arr.shape)"
   ]
  },
  {
   "cell_type": "code",
   "execution_count": 10,
   "metadata": {},
   "outputs": [
    {
     "data": {
      "text/plain": [
       "array([[0, 1],\n",
       "       [2, 3],\n",
       "       [4, 5],\n",
       "       [6, 7],\n",
       "       [8, 9]])"
      ]
     },
     "execution_count": 10,
     "metadata": {},
     "output_type": "execute_result"
    }
   ],
   "source": [
    "arr.reshape(5,2)"
   ]
  },
  {
   "cell_type": "code",
   "execution_count": 15,
   "metadata": {},
   "outputs": [
    {
     "data": {
      "text/plain": [
       "array([[0, 1, 2, 3, 4],\n",
       "       [5, 6, 7, 8, 9]])"
      ]
     },
     "execution_count": 15,
     "metadata": {},
     "output_type": "execute_result"
    }
   ],
   "source": [
    "arr.reshape(2,5)"
   ]
  },
  {
   "cell_type": "code",
   "execution_count": null,
   "metadata": {},
   "outputs": [],
   "source": []
  },
  {
   "cell_type": "code",
   "execution_count": null,
   "metadata": {},
   "outputs": [],
   "source": []
  },
  {
   "cell_type": "code",
   "execution_count": null,
   "metadata": {},
   "outputs": [],
   "source": []
  },
  {
   "cell_type": "markdown",
   "metadata": {},
   "source": [
    "É possível definir a ordem do *array* sem conhecer uma de suas dimensões. Para isto, para substituir o número de linhas ou colunas por `-1`.\n",
    "**Exemplo**\n",
    "\n",
    "```py\n",
    "arr = np.arange(10)\n",
    "arr.reshape(5,-1)\n",
    "arr.reshape(-1,5)\n",
    "arr.reshape(2,-1)\n",
    "arr.reshape(-1,2)\n",
    "```"
   ]
  },
  {
   "cell_type": "code",
   "execution_count": 17,
   "metadata": {},
   "outputs": [],
   "source": [
    "arr = np.arange(10)"
   ]
  },
  {
   "cell_type": "code",
   "execution_count": 22,
   "metadata": {},
   "outputs": [
    {
     "data": {
      "text/plain": [
       "array([[0, 1],\n",
       "       [2, 3],\n",
       "       [4, 5],\n",
       "       [6, 7],\n",
       "       [8, 9]])"
      ]
     },
     "execution_count": 22,
     "metadata": {},
     "output_type": "execute_result"
    }
   ],
   "source": [
    "arr.reshape(-1,2)"
   ]
  },
  {
   "cell_type": "code",
   "execution_count": null,
   "metadata": {},
   "outputs": [],
   "source": []
  },
  {
   "cell_type": "markdown",
   "metadata": {},
   "source": [
    "**Atividade**\n",
    "\n",
    "Crie um *array* com 100 elementos contendo inteiros em sequência. Em seguida, organize esses valores em 10 colunas."
   ]
  },
  {
   "cell_type": "code",
   "execution_count": 23,
   "metadata": {},
   "outputs": [],
   "source": []
  },
  {
   "cell_type": "code",
   "execution_count": 24,
   "metadata": {},
   "outputs": [
    {
     "data": {
      "text/plain": [
       "array([ 0,  1,  2,  3,  4,  5,  6,  7,  8,  9, 10, 11, 12, 13, 14, 15, 16,\n",
       "       17, 18, 19, 20, 21, 22, 23, 24, 25, 26, 27, 28, 29, 30, 31, 32, 33,\n",
       "       34, 35, 36, 37, 38, 39, 40, 41, 42, 43, 44, 45, 46, 47, 48, 49, 50,\n",
       "       51, 52, 53, 54, 55, 56, 57, 58, 59, 60, 61, 62, 63, 64, 65, 66, 67,\n",
       "       68, 69, 70, 71, 72, 73, 74, 75, 76, 77, 78, 79, 80, 81, 82, 83, 84,\n",
       "       85, 86, 87, 88, 89, 90, 91, 92, 93, 94, 95, 96, 97, 98, 99])"
      ]
     },
     "execution_count": 24,
     "metadata": {},
     "output_type": "execute_result"
    }
   ],
   "source": []
  },
  {
   "cell_type": "code",
   "execution_count": 26,
   "metadata": {},
   "outputs": [
    {
     "data": {
      "text/plain": [
       "array([[ 0,  1,  2,  3,  4,  5,  6,  7,  8,  9],\n",
       "       [10, 11, 12, 13, 14, 15, 16, 17, 18, 19],\n",
       "       [20, 21, 22, 23, 24, 25, 26, 27, 28, 29],\n",
       "       [30, 31, 32, 33, 34, 35, 36, 37, 38, 39],\n",
       "       [40, 41, 42, 43, 44, 45, 46, 47, 48, 49],\n",
       "       [50, 51, 52, 53, 54, 55, 56, 57, 58, 59],\n",
       "       [60, 61, 62, 63, 64, 65, 66, 67, 68, 69],\n",
       "       [70, 71, 72, 73, 74, 75, 76, 77, 78, 79],\n",
       "       [80, 81, 82, 83, 84, 85, 86, 87, 88, 89],\n",
       "       [90, 91, 92, 93, 94, 95, 96, 97, 98, 99]])"
      ]
     },
     "execution_count": 26,
     "metadata": {},
     "output_type": "execute_result"
    }
   ],
   "source": []
  },
  {
   "cell_type": "markdown",
   "metadata": {},
   "source": [
    "## Tipos de dados\n",
    "\n",
    "*Observe os tipos de dados armazenados*  \n",
    "```py\n",
    "print(a.dtype)\n",
    "```"
   ]
  },
  {
   "cell_type": "code",
   "execution_count": null,
   "metadata": {},
   "outputs": [],
   "source": []
  },
  {
   "cell_type": "markdown",
   "metadata": {},
   "source": [
    "Compare com os tipos de dados destes outros vetores, e observe o que ocorre\n",
    "```py\n",
    "x=np.array([1, 2])\n",
    "y=np.array([1.0, 2.0])\n",
    "z=np.array([1, 2], dtype=np.int64)\n",
    "```"
   ]
  },
  {
   "cell_type": "code",
   "execution_count": null,
   "metadata": {},
   "outputs": [],
   "source": []
  },
  {
   "cell_type": "code",
   "execution_count": null,
   "metadata": {},
   "outputs": [],
   "source": []
  },
  {
   "cell_type": "code",
   "execution_count": null,
   "metadata": {},
   "outputs": [],
   "source": []
  },
  {
   "cell_type": "code",
   "execution_count": null,
   "metadata": {},
   "outputs": [],
   "source": []
  },
  {
   "cell_type": "code",
   "execution_count": null,
   "metadata": {},
   "outputs": [],
   "source": []
  },
  {
   "cell_type": "code",
   "execution_count": null,
   "metadata": {},
   "outputs": [],
   "source": []
  },
  {
   "cell_type": "markdown",
   "metadata": {},
   "source": [
    "## Funções para criação de arrays\n",
    "\n",
    "Teste as funções abaixo, e observe o vetor retornado por cada função.\n",
    "```py\n",
    "np.zeros((2,2))\n",
    "np.ones((3,3))\n",
    "np.full((4,4),9)\n",
    "np.eye(5)\n",
    "np.random.random((6,6))\n",
    "```"
   ]
  },
  {
   "cell_type": "code",
   "execution_count": null,
   "metadata": {},
   "outputs": [],
   "source": []
  },
  {
   "cell_type": "markdown",
   "metadata": {},
   "source": [
    "Outras funções podem ser utilizadas para obter valores igualmente espaçados entre si.\n",
    "```py\n",
    "np.linspace(0,10,5)\n",
    "np.linspace(0,10,3)\n",
    "np.linspace(0,10,11)\n",
    "```\n",
    "**Sintaxe**\n",
    "\n",
    "```py\n",
    ".linspace(i,f,n)\n",
    "```\n",
    "Onde:\n",
    "- `i`: valor inicial\n",
    "- `f`: valor final\n",
    "- `n`: quantidade de valores\n",
    "No método `linspace`, os valores de saída são do tipo `float` (`numpy.float64`)."
   ]
  },
  {
   "cell_type": "code",
   "execution_count": 36,
   "metadata": {},
   "outputs": [
    {
     "data": {
      "text/plain": [
       "numpy.float64"
      ]
     },
     "execution_count": 36,
     "metadata": {},
     "output_type": "execute_result"
    }
   ],
   "source": [
    "type(np.linspace(0,10,11)[0])"
   ]
  },
  {
   "cell_type": "code",
   "execution_count": null,
   "metadata": {},
   "outputs": [],
   "source": []
  },
  {
   "cell_type": "markdown",
   "metadata": {},
   "source": [
    "## *Slicing*\n",
    "\n",
    "Semelhantes às listas em Python, os arrays numpy possibilitam o *slicing*. Como os arrays podem possuir diversas dimensões, é necessário identificar o *slice* para cada dimensão.  \n",
    "```py\n",
    "a = np.array([[1,2,3,4], [5,6,7,8], [9,10,11,12]])\n",
    "b = a[:2, 1:3]\n",
    "```\n",
    "\n",
    "Significado:\n",
    "```py\n",
    ":2: linhas 0 a 1  \n",
    "1:3: colunas 1 a 2\n",
    "```\n",
    "\n",
    "Observe o conteúdo dos vetores `a` e `b`.\n",
    "\n"
   ]
  },
  {
   "cell_type": "code",
   "execution_count": null,
   "metadata": {},
   "outputs": [],
   "source": []
  },
  {
   "cell_type": "markdown",
   "metadata": {},
   "source": [
    "Como seria para mostrar apenas determinadas colunas utilizando *slices*?"
   ]
  },
  {
   "cell_type": "code",
   "execution_count": null,
   "metadata": {},
   "outputs": [],
   "source": []
  },
  {
   "cell_type": "markdown",
   "metadata": {},
   "source": [
    "Execute os comandos abaixo, e discorra sobre os resultados\n",
    "```py\n",
    "b = a[[0,2], 2]  \n",
    "c = a[[0,2,2], [0,2,3]]\n",
    "```\n",
    "\n",
    "O que ocorreu em `b` e `c`?"
   ]
  },
  {
   "cell_type": "code",
   "execution_count": null,
   "metadata": {},
   "outputs": [],
   "source": []
  },
  {
   "cell_type": "markdown",
   "metadata": {},
   "source": [
    "## Alterações em *slices*\n",
    "\n",
    "**Atividade**\n",
    "\n",
    "- Observe o array `a`\n",
    "- Execute:\n",
    "```py\n",
    "c = a[:2, 1:3]\n",
    "```\n",
    "- Observe o array `c`\n",
    "- Execute:\n",
    "```py\n",
    "c[0][0]=20\n",
    "```\n",
    "- Observe o array a\n",
    "\n",
    "O que ocorreu?  "
   ]
  },
  {
   "cell_type": "code",
   "execution_count": null,
   "metadata": {},
   "outputs": [],
   "source": []
  },
  {
   "cell_type": "markdown",
   "metadata": {},
   "source": [
    "**Atividade**\n",
    "\n",
    "O que ocorre com as operações abaixo?\n",
    "```py\n",
    "a = np.array([[1,2,3], [4,5,6], [7,8,9], [10, 11, 12]])\n",
    "b = np.array(0, 2, 0, 1)\n",
    "```\n",
    "Explique o resultado ocorrido.\n"
   ]
  },
  {
   "cell_type": "code",
   "execution_count": null,
   "metadata": {},
   "outputs": [],
   "source": []
  }
 ],
 "metadata": {
  "kernelspec": {
   "display_name": "Python 3",
   "language": "python",
   "name": "python3"
  },
  "language_info": {
   "codemirror_mode": {
    "name": "ipython",
    "version": 3
   },
   "file_extension": ".py",
   "mimetype": "text/x-python",
   "name": "python",
   "nbconvert_exporter": "python",
   "pygments_lexer": "ipython3",
   "version": "3.6.8"
  }
 },
 "nbformat": 4,
 "nbformat_minor": 2
}
