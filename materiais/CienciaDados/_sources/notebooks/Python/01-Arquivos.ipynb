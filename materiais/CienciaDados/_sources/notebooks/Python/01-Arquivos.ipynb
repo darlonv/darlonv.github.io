{
 "cells": [
  {
   "cell_type": "markdown",
   "metadata": {
    "slideshow": {
     "slide_type": "slide"
    }
   },
   "source": [
    "# Arquivos"
   ]
  },
  {
   "cell_type": "markdown",
   "metadata": {
    "slideshow": {
     "slide_type": "subslide"
    }
   },
   "source": [
    "Os arquivos são uma maneira de trasferir informações para uma memória permanente, comumente discos rígidos ou discos *flash*. As informações gravadas em arquivos podem ser recuperadas posteriormente. As operações sobre arquivos consistem basicamente em leitura e escrita.  \n",
    "\n"
   ]
  },
  {
   "cell_type": "markdown",
   "metadata": {
    "slideshow": {
     "slide_type": "slide"
    }
   },
   "source": [
    "## Arquivos texto e binário"
   ]
  },
  {
   "cell_type": "markdown",
   "metadata": {
    "slideshow": {
     "slide_type": "subslide"
    }
   },
   "source": [
    "Os arquivos podem ser de duas formas: **texto** ou **binário**. Um arquivo texto armazena a informação utilizando algum tipo de codificação, como a ASCII. Já os arquivos binários armazenam as informações diretamente em modo binário."
   ]
  },
  {
   "cell_type": "markdown",
   "metadata": {
    "slideshow": {
     "slide_type": "subslide"
    }
   },
   "source": [
    "Ambos os modos possuem vantagens e desvantagens.\n",
    "\n",
    "- Texto\n",
    "    - Vantagens\n",
    "        - Facilidade de leitura\n",
    "        - É possível abrir o arquivo em diversas outras aplicações\n",
    "    - Desvantagens\n",
    "        - Maior necessidade de armazenamento\n",
    "- Binário\n",
    "    - Vantagens\n",
    "        - Menor armazenamento\n",
    "    - Desvantagens\n",
    "        - Dificuldade para a leitura de dados, é necessário conhecer toda a estrutura do arquivo previamente"
   ]
  },
  {
   "cell_type": "markdown",
   "metadata": {
    "slideshow": {
     "slide_type": "slide"
    }
   },
   "source": [
    "## Referências\n",
    "\n",
    "[Stackoverflow. Quais as principais diferenças entre UTF, ASCII, ANSI?. 2016. Acesso em: 23 set 2019](https://pt.stackoverflow.com/questions/156951/quais-as-principais-diferen%C3%A7as-entre-unicode-utf-ascii-ansi)  \n",
    "[SPOLSKI, J. The Absolute Minimum Every Software Developer Absolutely, Positively Must Know About Unicode and Character Sets (No Excuses!). 2003. Acesso em: 23 set 2019.](https://www.joelonsoftware.com/2003/10/08/the-absolute-minimum-every-software-developer-absolutely-positively-must-know-about-unicode-and-character-sets-no-excuses/)  \n"
   ]
  }
 ],
 "metadata": {
  "kernelspec": {
   "display_name": "Python 3",
   "language": "python",
   "name": "python3"
  },
  "language_info": {
   "codemirror_mode": {
    "name": "ipython",
    "version": 3
   },
   "file_extension": ".py",
   "mimetype": "text/x-python",
   "name": "python",
   "nbconvert_exporter": "python",
   "pygments_lexer": "ipython3",
   "version": "3.6.8"
  }
 },
 "nbformat": 4,
 "nbformat_minor": 2
}
