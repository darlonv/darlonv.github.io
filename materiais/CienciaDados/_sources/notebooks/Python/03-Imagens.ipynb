{
 "cells": [
  {
   "cell_type": "markdown",
   "metadata": {},
   "source": [
    "# Imagens\n",
    "\n",
    "Existem diversas bibliotecas em Python que possibilitam a manipulação de imagens. Aqui, utilizaremos a bibliotca **PIL** (*Python Image Library*), disponível com a instalação do pacote **pillow**.\n",
    "\n",
    "Para mostrar as imagens, utilizaremos a biblioteca **imshow**, disponível no pacote **matplotlib**.\n",
    "\n",
    "Para importar as bibliotecas:\n",
    "\n",
    "```py\n",
    "#Importa as bibliotecas\n",
    "from PIL import Image\n",
    "from matplotlib.pyplot import imshow\n",
    "#Permite visualizar as imagens no próprio Jupyter Notebook\n",
    "%matplotlib inline\n",
    "```"
   ]
  },
  {
   "cell_type": "code",
   "execution_count": null,
   "metadata": {},
   "outputs": [],
   "source": []
  },
  {
   "cell_type": "markdown",
   "metadata": {},
   "source": [
    "## Criando uma imagem\n",
    "\n",
    "```py\n",
    "imagem = Image.new('RGB',(100,200))\n",
    "```"
   ]
  },
  {
   "cell_type": "code",
   "execution_count": null,
   "metadata": {},
   "outputs": [],
   "source": []
  },
  {
   "cell_type": "markdown",
   "metadata": {},
   "source": [
    "imagemPx = imagemR.load()"
   ]
  },
  {
   "cell_type": "markdown",
   "metadata": {},
   "source": [
    "Para mostrar uma imagem, pode-se utilizar a função `imshow()`.  \n",
    "**Exemplo**  \n",
    "```py\n",
    "imshow(imagem)\n",
    "```\n"
   ]
  },
  {
   "cell_type": "code",
   "execution_count": null,
   "metadata": {},
   "outputs": [],
   "source": []
  },
  {
   "cell_type": "markdown",
   "metadata": {},
   "source": [
    "**Observe**\n",
    "- Qual é o sentido dos eixos x e y?\n",
    "- Onde estão as posições (0,0) da imagem?"
   ]
  },
  {
   "cell_type": "code",
   "execution_count": null,
   "metadata": {},
   "outputs": [],
   "source": []
  },
  {
   "cell_type": "markdown",
   "metadata": {},
   "source": [
    "Para observar as dimensões da imagem, pode-ser observar o atributo `.size`. O primeiro valor corresponde à largura da imagem, e o segundo à altura.\n",
    "```py\n",
    "print(imagem.size)\n",
    "```"
   ]
  },
  {
   "cell_type": "code",
   "execution_count": null,
   "metadata": {},
   "outputs": [],
   "source": []
  },
  {
   "cell_type": "markdown",
   "metadata": {},
   "source": [
    "De maneira separada, os atributos `width()` e `height()` mostram essas mesmas informações, largura e altura.\n",
    "\n",
    "**Exemplo**  \n",
    "```py\n",
    "print('Largura:', imagem.width)\n",
    "print('Altura :', imagem.height)\n",
    "```"
   ]
  },
  {
   "cell_type": "code",
   "execution_count": null,
   "metadata": {},
   "outputs": [],
   "source": []
  },
  {
   "cell_type": "markdown",
   "metadata": {},
   "source": [
    "## Manipulando imagens\n",
    "\n",
    "Uma maneira de acessar cada pixel da imagem é convertendo-a para uma matriz de *pixels*. Para tal, pode-ser utilizar o método `load()`:\n",
    "```py\n",
    "imagemPx = imagem.load()\n",
    "```"
   ]
  },
  {
   "cell_type": "code",
   "execution_count": null,
   "metadata": {},
   "outputs": [],
   "source": []
  },
  {
   "cell_type": "markdown",
   "metadata": {},
   "source": [
    "Com isto, é possível acessar os valores para vermelho, verde e azul (**rgb**, de *red, green* e *blue*) para cada ponto da imagem, como uma matriz.\n",
    "\n",
    "**Exemplo**  \n",
    "Para observar os valores do ponto (50,50)\n",
    "```py\n",
    "print(imagemPx[50,50])\n",
    "```"
   ]
  },
  {
   "cell_type": "code",
   "execution_count": null,
   "metadata": {},
   "outputs": [],
   "source": []
  },
  {
   "cell_type": "markdown",
   "metadata": {},
   "source": [
    "Também é possível modificar os *pixels* de qualquer ponto da imagem.  \n",
    "**Exemplo**  \n",
    "Modificando o pixel (50,75) para branco:\n",
    "```py\n",
    "imagemPx[50,75] = (255,255,255)\n",
    "imshow(imagem)\n",
    "```\n"
   ]
  },
  {
   "cell_type": "code",
   "execution_count": null,
   "metadata": {},
   "outputs": [],
   "source": []
  },
  {
   "cell_type": "markdown",
   "metadata": {},
   "source": [
    "**Observe**  \n",
    "Os valores foram setados em `imagemPx`, e foi utilizado `imagemR` para mostrar a imagem. Com isto, perceba que modificar a matriz de *pixels* altera indiretamente a imagem, sem a necessidade atualizações adicionais."
   ]
  },
  {
   "cell_type": "markdown",
   "metadata": {},
   "source": [
    "**Exemplo**  \n",
    "Criando uma linha horizontal vermelha, onde y=100:\n",
    "```py\n",
    "for i in range(imagem.width):\n",
    "    imagem[i,100] = (255,0,0)\n",
    "imshow(imagem)\n",
    "```"
   ]
  },
  {
   "cell_type": "code",
   "execution_count": null,
   "metadata": {},
   "outputs": [],
   "source": []
  },
  {
   "cell_type": "markdown",
   "metadata": {},
   "source": [
    "**Atividade**  \n",
    "- Crie uma borda azul em toda a imagem"
   ]
  },
  {
   "cell_type": "code",
   "execution_count": null,
   "metadata": {},
   "outputs": [],
   "source": []
  },
  {
   "cell_type": "markdown",
   "metadata": {},
   "source": [
    "## Carregando imagens\n",
    "\n",
    "É possível abrir imagens utilizando o método `Image.open()`. \n",
    "\n",
    "**Exemplo**  \n",
    "Exemplos de imagens:\n",
    "```py\n",
    "imagem = Image.open('imagens/summer.jpg')\n",
    "imshow(imagem)\n",
    "```"
   ]
  },
  {
   "cell_type": "code",
   "execution_count": null,
   "metadata": {},
   "outputs": [],
   "source": []
  },
  {
   "cell_type": "markdown",
   "metadata": {},
   "source": [
    "Também é possível modificar os valores para cada pixel, setando com os valores RGB desejados.\n",
    "\n",
    "**Exemplo**  \n",
    "Mantendo apenas os valores dos pixels em vermelho na imagem\n",
    "```py\n",
    "imagemPx = imagem.load()\n",
    "imagemR = Image.new('RGB',(imagem.size))\n",
    "imagemRPx = imagemR.load()\n",
    "for i in range(imagem.width):\n",
    "    for j in range(imagem.height):\n",
    "        r = imagemPx[i,j][0] #Obtém o valor vermelho da imagem original\n",
    "        imagemRPx[i,j] = (r,0,0) #Seta apenas o valor vermelho na nova imagem\n",
    "```"
   ]
  },
  {
   "cell_type": "code",
   "execution_count": null,
   "metadata": {},
   "outputs": [],
   "source": []
  },
  {
   "cell_type": "code",
   "execution_count": null,
   "metadata": {},
   "outputs": [],
   "source": []
  },
  {
   "cell_type": "markdown",
   "metadata": {},
   "source": [
    "**Exemplo**  \n",
    "Mantendo apenas os valores dos pixels em verde na imagem\n",
    "```py\n",
    "imagemG = Image.new('RGB',(imagem.size))\n",
    "imagemGPx = imagemG.load()\n",
    "for i in range(imagem.width):\n",
    "    for j in range(imagem.height):\n",
    "        g = imagemPx[i,j][1] #Obtém o valor verde da imagem original\n",
    "        imagemGPx[i,j] = (0,g,0) #Seta apenas o valor verde na nova imagem\n",
    "```"
   ]
  },
  {
   "cell_type": "code",
   "execution_count": null,
   "metadata": {},
   "outputs": [],
   "source": []
  },
  {
   "cell_type": "code",
   "execution_count": null,
   "metadata": {},
   "outputs": [],
   "source": []
  },
  {
   "cell_type": "markdown",
   "metadata": {},
   "source": [
    "**Atividade**  \n",
    "- Crie e mostre a imagem, mantendo apenas os valores dos *pixels* em azul."
   ]
  },
  {
   "cell_type": "code",
   "execution_count": null,
   "metadata": {},
   "outputs": [],
   "source": []
  },
  {
   "cell_type": "markdown",
   "metadata": {},
   "source": [
    "**Atividade**  \n",
    "- [ ] Calcule a média dos valores RGB, e em uma nova imagem, coloque esta média para os três valores RBG. Qual foi o resultado obtido?"
   ]
  },
  {
   "cell_type": "code",
   "execution_count": null,
   "metadata": {},
   "outputs": [],
   "source": []
  },
  {
   "cell_type": "markdown",
   "metadata": {},
   "source": [
    "- [ ] Na imagem com a média dos valores, diminua 10, 20, 30, 40 e 50 aos valores de cada pixel (sempre mantendo 0 como valor mínimo). Qual foi o resultado?"
   ]
  },
  {
   "cell_type": "code",
   "execution_count": null,
   "metadata": {},
   "outputs": [],
   "source": []
  },
  {
   "cell_type": "code",
   "execution_count": null,
   "metadata": {},
   "outputs": [],
   "source": []
  },
  {
   "cell_type": "code",
   "execution_count": null,
   "metadata": {},
   "outputs": [],
   "source": []
  },
  {
   "cell_type": "code",
   "execution_count": null,
   "metadata": {},
   "outputs": [],
   "source": []
  },
  {
   "cell_type": "code",
   "execution_count": null,
   "metadata": {},
   "outputs": [],
   "source": []
  },
  {
   "cell_type": "markdown",
   "metadata": {},
   "source": [
    "- [ ] Na imagem com a média dos valores, aumente 10, 20, 30, 40 e 50 aos valores de cada pixel (sempre mantendo 255 como valor máximo). Qual foi o resultado?"
   ]
  },
  {
   "cell_type": "code",
   "execution_count": null,
   "metadata": {},
   "outputs": [],
   "source": []
  },
  {
   "cell_type": "code",
   "execution_count": null,
   "metadata": {},
   "outputs": [],
   "source": []
  },
  {
   "cell_type": "code",
   "execution_count": null,
   "metadata": {},
   "outputs": [],
   "source": []
  },
  {
   "cell_type": "code",
   "execution_count": null,
   "metadata": {},
   "outputs": [],
   "source": []
  },
  {
   "cell_type": "code",
   "execution_count": null,
   "metadata": {},
   "outputs": [],
   "source": []
  },
  {
   "cell_type": "markdown",
   "metadata": {},
   "source": [
    "## Salvando imagens\n",
    "\n",
    "Para salvar imagens, utilize o método `.save()`. O parâmetro para o método é uma *string* com o nome do arquivo de saída, de maneira que a extensão apresentada para o arquivo de saída definirá o formato de arquivo. A biblioteca já se encarrega de salvar os dados de acordo o padrão definido.\n",
    "\n",
    "**Exemplo**  \n",
    "Para salvar no formato JPEG:\n",
    "```py\n",
    "imagemG.save('imagens/summerR.jpg')\n",
    "```\n",
    "\n",
    "Para salvar no formato PNG (*Portable Network Graphics*):\n",
    "```py\n",
    "imagemG.save('imagens/summerR.png')\n",
    "```\n",
    "\n"
   ]
  },
  {
   "cell_type": "code",
   "execution_count": null,
   "metadata": {},
   "outputs": [],
   "source": []
  },
  {
   "cell_type": "code",
   "execution_count": null,
   "metadata": {},
   "outputs": [],
   "source": []
  },
  {
   "cell_type": "markdown",
   "metadata": {},
   "source": [
    "## Histogramas\n",
    "\n",
    "Um histograma é um gráfico que apresenta a quantidade de vezes que determinado valor aparece. No caso de imagens, o histograma apresenta a quantidade de vezes que cada valor de cor aparece.\n",
    "\n",
    "```py\n",
    "import matplotlib.pyplot as plt\n",
    "h = imagem.histogram()\n",
    "plt.plot(h)\n",
    "```\n",
    "\n"
   ]
  },
  {
   "cell_type": "code",
   "execution_count": null,
   "metadata": {
    "scrolled": false
   },
   "outputs": [],
   "source": []
  },
  {
   "cell_type": "markdown",
   "metadata": {},
   "source": [
    "É possível separar cada cor, e mostrar o histograma separado"
   ]
  },
  {
   "cell_type": "markdown",
   "metadata": {},
   "source": [
    "```py\n",
    "x=list(range(255))\n",
    "hR=h[0:255]\n",
    "plt.bar(x,hR,color='r')\n",
    "```"
   ]
  },
  {
   "cell_type": "code",
   "execution_count": null,
   "metadata": {},
   "outputs": [],
   "source": []
  },
  {
   "cell_type": "markdown",
   "metadata": {},
   "source": [
    "```py\n",
    "hG=h[255:(255*2)]\n",
    "plt.bar(x,hG,color='g')\n",
    "```"
   ]
  },
  {
   "cell_type": "code",
   "execution_count": null,
   "metadata": {},
   "outputs": [],
   "source": []
  },
  {
   "cell_type": "markdown",
   "metadata": {},
   "source": [
    "```py\n",
    "hB=h[(255*2):(255*3)]\n",
    "plt.bar(x,hB)\n",
    "```"
   ]
  },
  {
   "cell_type": "code",
   "execution_count": null,
   "metadata": {},
   "outputs": [],
   "source": []
  },
  {
   "cell_type": "markdown",
   "metadata": {},
   "source": [
    "Também é possível mostrar todos em um mesmo gráfico, utilizando linhas.\n",
    "```py\n",
    "x=list(range(255))\n",
    "h = imagem.histogram()\n",
    "hR=h[0:255]\n",
    "plt.plot(x,hR,color='r')\n",
    "hG=h[255:(255*2)]\n",
    "plt.plot(x,hG,color='g')\n",
    "hB=h[(255*2):(255*3)]\n",
    "plt.plot(x,hB,'b')\n",
    "plt.show()\n",
    "```"
   ]
  },
  {
   "cell_type": "code",
   "execution_count": null,
   "metadata": {},
   "outputs": [],
   "source": []
  },
  {
   "cell_type": "code",
   "execution_count": null,
   "metadata": {},
   "outputs": [],
   "source": []
  },
  {
   "cell_type": "markdown",
   "metadata": {},
   "source": [
    "## Exercícios\n",
    "1. Observe o histograma das imagens 'arvore.jpg'. Compare com o histograma da imagem 'summer.jpg'\n",
    "1. Observe o histograma da imagem 'ifprpb.png'. Em que ele difere dos demais observados?\n",
    "1. Abra e observe o arquivo 'ifprpb.png'. Aplique o procedimento necessário para convertê-lo em uma imagem igual a do arquivo 'ifprpb_a.png'\n",
    "1. Abra e observe o arquivo 'ifprpb.png'. Aplique o procedimento necessário para convertê-lo em uma imagem igual a do arquivo 'ifprpb_b.png'"
   ]
  },
  {
   "cell_type": "code",
   "execution_count": null,
   "metadata": {},
   "outputs": [],
   "source": []
  }
 ],
 "metadata": {
  "kernelspec": {
   "display_name": "Python 3",
   "language": "python",
   "name": "python3"
  },
  "language_info": {
   "codemirror_mode": {
    "name": "ipython",
    "version": 3
   },
   "file_extension": ".py",
   "mimetype": "text/x-python",
   "name": "python",
   "nbconvert_exporter": "python",
   "pygments_lexer": "ipython3",
   "version": "3.6.8"
  }
 },
 "nbformat": 4,
 "nbformat_minor": 2
}
