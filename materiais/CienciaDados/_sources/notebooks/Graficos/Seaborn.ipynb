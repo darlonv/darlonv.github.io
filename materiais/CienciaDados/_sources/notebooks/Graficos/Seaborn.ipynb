{
 "cells": [
  {
   "cell_type": "markdown",
   "metadata": {},
   "source": [
    "# Seaborn\n",
    "\n",
    "Seaborn é uma biblioteca para geração de gráficos, construída utilizando a biblioteca Matplotlib."
   ]
  },
  {
   "cell_type": "markdown",
   "metadata": {},
   "source": [
    "Para importar a biblioteca:\n",
    "\n",
    "```python\n",
    "import seaborn as sns\n",
    "```\n",
    "\n",
    "Para ver os gráficos na interface:\n",
    "\n",
    "```python\n",
    "%matplotlib inline\n",
    "```\n",
    "\n",
    "**Atividade**\n",
    "- Importe a biblioca Seaborn e permita que os gráficos possam ser apresentados direto na interface."
   ]
  },
  {
   "cell_type": "code",
   "execution_count": null,
   "metadata": {},
   "outputs": [],
   "source": []
  },
  {
   "cell_type": "markdown",
   "metadata": {},
   "source": [
    "## Tipos de dados\n",
    "\n",
    "- Quantitativos\n",
    "- Qualitativos\n",
    "\n",
    "Plots categóricos são utilizados com variáveis qualitativas."
   ]
  },
  {
   "cell_type": "markdown",
   "metadata": {},
   "source": [
    "A biblioteca seaborn possui algumas bases de dados internas, para testes e exercícios. Utilizaremos a base 'tips'.  \n",
    "```python\n",
    "tips = sns.load_dataset('tips')\n",
    "```"
   ]
  },
  {
   "cell_type": "code",
   "execution_count": null,
   "metadata": {},
   "outputs": [],
   "source": []
  },
  {
   "cell_type": "markdown",
   "metadata": {},
   "source": [
    "Observe as informações da base de dados\n",
    "\n",
    "```python\n",
    "print('Shape:', tips.shape)\n",
    "print(tips.info())\n",
    "```\n",
    "\n",
    "**Atividade**\n",
    "- Observe as informações da base de dados\n",
    "- Quantas linhas existem na base?\n",
    "- Quantas colunas existem?\n"
   ]
  },
  {
   "cell_type": "code",
   "execution_count": null,
   "metadata": {},
   "outputs": [],
   "source": []
  },
  {
   "cell_type": "markdown",
   "metadata": {},
   "source": [
    "Observe as primeiras linhas da base de dados\n",
    "\n",
    "```python\n",
    "tips.head()\n",
    "```\n",
    "\n",
    "**Atividade**\n",
    "- Qual é o tipo da base de dados?\n",
    "- Observe as primeiras linhas da base de dados\n",
    "- Qual é o conteúdo de cada coluna?"
   ]
  },
  {
   "cell_type": "code",
   "execution_count": null,
   "metadata": {},
   "outputs": [],
   "source": []
  },
  {
   "cell_type": "markdown",
   "metadata": {},
   "source": [
    "## Countplot\n",
    "\n",
    "Countplots são gráficos de barras, realizados a partir da quantidade de valores.  \n",
    "\n",
    "```python\n",
    "sns.countplot(x='sex', data=tips)\n",
    "```"
   ]
  },
  {
   "cell_type": "code",
   "execution_count": null,
   "metadata": {},
   "outputs": [],
   "source": []
  },
  {
   "cell_type": "markdown",
   "metadata": {},
   "source": [
    "### hue\n",
    "\n",
    "O parâmetro **hue** aparece em vários gráficos da Seaborn. Ele é utilizado para subdividir os valores, observando uma sub-categoria.\n",
    "\n",
    "**Atividade** \n",
    "\n",
    "Execute os comandos abaixo, e explique o significado de cada gráfico.\n",
    "\n",
    "```python\n",
    "sns.countplot(x='sex', hue='smoker', data=tips)  \n",
    "```\n",
    "\n",
    "```python\n",
    "sns.countplot(x='sex', hue='day', data=tips)  \n",
    "```\n",
    "\n",
    "```python\n",
    "sns.countplot(x='sex', hue='time', data=tips)\n",
    "```"
   ]
  },
  {
   "cell_type": "code",
   "execution_count": null,
   "metadata": {},
   "outputs": [],
   "source": []
  },
  {
   "cell_type": "code",
   "execution_count": null,
   "metadata": {},
   "outputs": [],
   "source": []
  },
  {
   "cell_type": "code",
   "execution_count": null,
   "metadata": {},
   "outputs": [],
   "source": []
  },
  {
   "cell_type": "markdown",
   "metadata": {},
   "source": [
    "## Barplot\n",
    "\n",
    "Barplots são gráficos de barras, com base na média de valores especificados.  \n",
    "\n",
    "```python\n",
    "sns.barplot(x='sex', y='total_bill', data=tips)\n",
    "```"
   ]
  },
  {
   "cell_type": "code",
   "execution_count": null,
   "metadata": {},
   "outputs": [],
   "source": []
  },
  {
   "cell_type": "markdown",
   "metadata": {},
   "source": [
    "## Boxplot\n",
    "\n",
    "Gráficos bloxplot, ou *diagramas de caixa*, apresentam em um mesmo gráfico diversas informações estatísticas sobre os dados.\n",
    "\n",
    "```python\n",
    "sns.boxplot(x='day', y='total_bill', data=tips)\n",
    "```"
   ]
  },
  {
   "cell_type": "code",
   "execution_count": null,
   "metadata": {},
   "outputs": [],
   "source": []
  },
  {
   "cell_type": "markdown",
   "metadata": {},
   "source": [
    "**Atividade**\n",
    "- Execute e explique o que é mostrado:\n",
    "\n",
    "```python\n",
    "sns.boxplot(x='day', y='total_bill', hue='sex', data=tips)\n",
    "```"
   ]
  },
  {
   "cell_type": "code",
   "execution_count": null,
   "metadata": {
    "scrolled": false
   },
   "outputs": [],
   "source": []
  },
  {
   "cell_type": "markdown",
   "metadata": {},
   "source": [
    "## Plots para dados quantitativos"
   ]
  },
  {
   "cell_type": "markdown",
   "metadata": {},
   "source": [
    "### Distplot\n",
    "\n",
    "**Exemplo**\n",
    "\n",
    "```python\n",
    "sns.distplot(tips['total_bill'])\n",
    "```"
   ]
  },
  {
   "cell_type": "code",
   "execution_count": null,
   "metadata": {},
   "outputs": [],
   "source": []
  },
  {
   "cell_type": "markdown",
   "metadata": {},
   "source": [
    "**Atividade**\n",
    "- Qual a diferença da execução do exemplo com a execução abaixo?\n",
    "\n",
    "```python\n",
    "sns.distplot(tips['total_bill'], bins=1)  \n",
    "sns.distplot(tips['total_bill'], bins=10)  \n",
    "sns.distplot(tips['total_bill'], bins=50)  \n",
    "sns.distplot(tips['total_bill'], bins=100)\n",
    "```"
   ]
  },
  {
   "cell_type": "code",
   "execution_count": null,
   "metadata": {},
   "outputs": [],
   "source": []
  },
  {
   "cell_type": "code",
   "execution_count": null,
   "metadata": {},
   "outputs": [],
   "source": []
  },
  {
   "cell_type": "markdown",
   "metadata": {},
   "source": [
    "### Jointplot\n",
    "\n",
    "Análogo ao distplot, porém utiliza duas variáveis.\n",
    "\n",
    "**Exemplo**  \n",
    "\n",
    "```python\n",
    "sns.jointplot(x='total_bill', y='tip', data=tips)\n",
    "```"
   ]
  },
  {
   "cell_type": "code",
   "execution_count": null,
   "metadata": {},
   "outputs": [],
   "source": []
  },
  {
   "cell_type": "markdown",
   "metadata": {},
   "source": [
    "Pode-se montar um mapa de calor, utilizando hexágonos.\n",
    "\n",
    "```python\n",
    "sns.jointplot(x='total_bill', y='tip', data=tips, kind='hex')\n",
    "```"
   ]
  },
  {
   "cell_type": "code",
   "execution_count": null,
   "metadata": {},
   "outputs": [],
   "source": []
  },
  {
   "cell_type": "markdown",
   "metadata": {},
   "source": [
    "### Pairplot\n",
    "\n",
    "Gera displots e jointplots de todas as variáveis numéricas.\n",
    "\n",
    "**Exemplo**\n",
    "\n",
    "```python\n",
    "sns.pairplot(data=tips)\n",
    "```"
   ]
  },
  {
   "cell_type": "code",
   "execution_count": null,
   "metadata": {},
   "outputs": [],
   "source": []
  },
  {
   "cell_type": "markdown",
   "metadata": {},
   "source": [
    "## Referências\n",
    "\n",
    "[SEABORN. API reference.](https://seaborn.pydata.org/api.html)  \n",
    "[SEABORN. Example gallery.](https://seaborn.pydata.org/examples/index.html)  \n",
    "\n",
    "**Outros materiais**  \n"
   ]
  },
  {
   "cell_type": "markdown",
   "metadata": {},
   "source": [
    " "
   ]
  }
 ],
 "metadata": {
  "kernelspec": {
   "display_name": "Python 3",
   "language": "python",
   "name": "python3"
  },
  "language_info": {
   "codemirror_mode": {
    "name": "ipython",
    "version": 3
   },
   "file_extension": ".py",
   "mimetype": "text/x-python",
   "name": "python",
   "nbconvert_exporter": "python",
   "pygments_lexer": "ipython3",
   "version": "3.6.8"
  }
 },
 "nbformat": 4,
 "nbformat_minor": 2
}
