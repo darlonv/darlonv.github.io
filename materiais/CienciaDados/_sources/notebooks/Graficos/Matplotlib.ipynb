{
 "cells": [
  {
   "cell_type": "markdown",
   "metadata": {},
   "source": [
    "# Matplotlib\n",
    "\n",
    "O Matplotlib é uma biblioteca para visualização de dados, amplamente popular. Com ela é possível plotar gráficos e  controlar diversos aspectos das figuras nela criadas.  \n",
    "\n",
    "**Importação**\n",
    "\n",
    "```python\n",
    "import matplotlib.pyplot as plt\n",
    "```\n",
    "\n",
    "Para que os gráficos gerados possam ser vistos diretos no Jupyter ou Colaboratory, é necessário passar um comando de configuração da interface, conhecidos como *magic commands*. Para visualizar as imagens:  \n",
    "\n",
    "```python\n",
    "%matplotlib inline\n",
    "```\n",
    "\n",
    "Também utilizaremos outras bibliotecas, para manipulação de dados, imagens e carregamento de arquivos.  \n",
    "\n",
    "```python\n",
    "import numpy as np \n",
    "import pandas as pd\n",
    "from PIL import Image #imagens\n",
    "import urllib.request as urllib2 #download de arquivos\n",
    "```"
   ]
  },
  {
   "cell_type": "markdown",
   "metadata": {},
   "source": [
    "**Atividade**\n",
    "- Importe a biblioteca `matplotlib` e as demais bibliotecas necessárias.\n",
    "- execute o *magic command* que permite visualizar as imagens na própria interface de desenvolvimento."
   ]
  },
  {
   "cell_type": "code",
   "execution_count": null,
   "metadata": {},
   "outputs": [],
   "source": []
  },
  {
   "cell_type": "markdown",
   "metadata": {},
   "source": [
    "**Exemplo**\n",
    "\n",
    "- Iniciaremos com dois *arrays* numpy, `x` e `y`.  \n",
    "\n",
    "```python\n",
    "x = np.linspace(0,10,20)//1\n",
    "y = x*x\n",
    "```\n",
    "\n",
    "**Atividade**\n",
    "- Crie os *arrays* `x` e `y` e observe o conteúdo deles."
   ]
  },
  {
   "cell_type": "code",
   "execution_count": null,
   "metadata": {},
   "outputs": [],
   "source": []
  },
  {
   "cell_type": "markdown",
   "metadata": {},
   "source": [
    "Para plotar o gráfico, utiliza-se o método `plot()`, com os parâmetros dos pontos `x` e `y`.  \n",
    "\n",
    "```python\n",
    "plt.plot(x,y)\n",
    "```\n",
    "\n",
    "**Atividade**\n",
    "- Plote um gráfico de linhas, com os valores de `x` e `y`."
   ]
  },
  {
   "cell_type": "code",
   "execution_count": null,
   "metadata": {},
   "outputs": [],
   "source": []
  },
  {
   "cell_type": "markdown",
   "metadata": {},
   "source": [
    "Uma das possibilidades é colocar rótulos nos eixos `x`, `y` e título no gráfico.   \n",
    "\n",
    "**Exemplo**\n",
    "- Rótulos nos eixos e título no gráfico:\n",
    "\n",
    "```python\n",
    "plt.plot(x,y)\n",
    "plt.xlabel('Eixo x')\n",
    "plt.ylabel('Eixo y')\n",
    "plt.title('x ao quadrado')\n",
    "```\n",
    "\n",
    "**Atividade**\n",
    "- Mostre o gráfico de x e y, colocando rótulos nos eixos e título na figura."
   ]
  },
  {
   "cell_type": "code",
   "execution_count": null,
   "metadata": {},
   "outputs": [],
   "source": []
  },
  {
   "cell_type": "markdown",
   "metadata": {},
   "source": [
    "É possível trocar as cores.\n",
    "\n",
    "```python\n",
    "plt.plot(x,y, 'r')  \n",
    "plt.xlabel('Eixo x')  \n",
    "plt.ylabel('Eixo y')  \n",
    "plt.title('x ao quadrado, em vermelho')\n",
    "```"
   ]
  },
  {
   "cell_type": "code",
   "execution_count": null,
   "metadata": {},
   "outputs": [],
   "source": []
  },
  {
   "cell_type": "markdown",
   "metadata": {},
   "source": [
    "Outra possibilidade é apresentar as linhas de diferentes formas.  \n",
    "\n",
    "**Exemplo**\n",
    "\n",
    "```python\n",
    "plt.plot(x,y, 'r--')  \n",
    "plt.xlabel('Eixo x')  \n",
    "plt.ylabel('Eixo y')  \n",
    "plt.title('x ao quadra, com linha vermelha e tracejada')\n",
    "```"
   ]
  },
  {
   "cell_type": "code",
   "execution_count": null,
   "metadata": {},
   "outputs": [],
   "source": []
  },
  {
   "cell_type": "markdown",
   "metadata": {},
   "source": [
    "Outra possibilidade é gerar diversos gráficos, organizados como uma matriz.  \n",
    "\n",
    "**Exemplo**\n",
    "```python\n",
    "plt.subplot(1,2,1)  # 1 linha e 2 colunas. Plotando na posicao 1\n",
    "plt.plot(x,y,'g--') # linha verde (green) tracejada\n",
    "plt.subplot(1,2,2)  # 1 linha e 2 colunas. Plotando na posicao 2\n",
    "plt.plot(y,x,'y*')  # linha amarela (yellow) com estrelas\n",
    "```\n",
    "**Atividade**\n",
    "- Inclua dois gráficos em uma única figura."
   ]
  },
  {
   "cell_type": "code",
   "execution_count": null,
   "metadata": {},
   "outputs": [],
   "source": []
  },
  {
   "cell_type": "markdown",
   "metadata": {},
   "source": [
    "**Tamanho**\n",
    "\n",
    "Com o método `.figure()`, é possível gerenciar a criação de figuras, com diferentes parâmetros. Um parâmetro é o tamanho da figura com `figsize`, passando uma tupla com os tamanhos de `x` e `y` como parâmetro.\n",
    "\n",
    "**Exemplo**  \n",
    "```python\n",
    "fig = plt.figure(figsize=(2,4))\n",
    "plt.plot(x,y)  \n",
    "fig = plt.figure(figsize=(4,2))\n",
    "plt.plot(x,y)  \n",
    "fig = plt.figure(figsize=(1,1))\n",
    "plt.plot(x,y)  \n",
    "```\n",
    "**Atividade**\n",
    "- Crie figuras com diferentes tamanhos.\n",
    "\n",
    "Observe que os eixos do gráfico não são alterados, apenas as proporções da figura."
   ]
  },
  {
   "cell_type": "code",
   "execution_count": null,
   "metadata": {},
   "outputs": [],
   "source": []
  },
  {
   "cell_type": "markdown",
   "metadata": {},
   "source": [
    "**Múltiplos gráficos na mesma figura**\n",
    "\n",
    "É possível incluir vários gráficos na mesma figura.  \n",
    "\n",
    "**Exemplo**\n",
    "```python\n",
    "fig = plt.figure()  \n",
    "plt.plot(x,y)  \n",
    "plt.plot(y,x)\n",
    "```\n",
    "**Atividade**\n",
    "- Crie uma figura que possua mais de um gráfico."
   ]
  },
  {
   "cell_type": "code",
   "execution_count": null,
   "metadata": {},
   "outputs": [],
   "source": []
  },
  {
   "cell_type": "markdown",
   "metadata": {},
   "source": [
    "Outra forma também é especificar qual o ponto de origem de cada gráfico.  \n",
    "**Exemplo**\n",
    "```python\n",
    "fig=plt.figure()  \n",
    "axes1 = fig.add_axes([0,0,1,1])  \n",
    "axes1.plot(x,y)  \n",
    "axes1.plot(y,x)\n",
    "```\n"
   ]
  },
  {
   "cell_type": "code",
   "execution_count": null,
   "metadata": {},
   "outputs": [],
   "source": []
  },
  {
   "cell_type": "markdown",
   "metadata": {},
   "source": [
    "## Subgraficos\n",
    "\n",
    "Diversos gráficos podem ser criados. Para tal, é necessário informar o ponto inicial do gráfico em relação à imagem original e o tamanho do novo gráfico.\n",
    "\n",
    "O método `add_axes()` informa a posição e tamanho do novo gráfico.\n",
    "\n",
    "**Exemplo**\n",
    "```python\n",
    "fig=plt.figure()  \n",
    "# começa em x=0 e y=0. O tamanho do subgráfico é igual à imagem original\n",
    "sg1 = fig.add_axes([0,0,1,1]) # O subgrafico 1 é criado\n",
    "sg1.plot(x,y)  #gráfico no subgrafico1\n",
    "sg1.plot(y,x)\n",
    "#começa em x=30% e y=70% da imagem original. O tamanho do subgráfico é de 40% da imagem original.\n",
    "sg2 = fig.add_axes([0.3,0.7,0.4,0.4]) # subgrafico 1 é criado\n",
    "sg2.plot(y,x) #gráfico no subgrafico2\n",
    "```\n",
    "\n",
    "**Atividade**\n",
    "- Crie um gráfico com um subgráfico."
   ]
  },
  {
   "cell_type": "code",
   "execution_count": null,
   "metadata": {},
   "outputs": [],
   "source": []
  },
  {
   "cell_type": "markdown",
   "metadata": {},
   "source": [
    "**Exercício**\n",
    "\n",
    "- Modifique o código anterior até que todo o subgráfico esteja posicionado em uma parte do gráfico maior que não possua nada. Modifique o tamanho do sub-gráfico para ocupar um espaço maior."
   ]
  },
  {
   "cell_type": "code",
   "execution_count": null,
   "metadata": {},
   "outputs": [],
   "source": []
  },
  {
   "cell_type": "markdown",
   "metadata": {},
   "source": [
    "## Utilizando orientação a objetos\n",
    "\n",
    "Outra forma de utilizar o gráfico é utilizando o método `subplots()`, que retorna uma figura e os eixos, bastando setar os valores nos objetos retornados.  \n",
    "\n",
    "**Exemplo**  \n",
    "```python\n",
    "figura, eixos = plt.subplots()  \n",
    "eixos.plot(x, 2 * x, 'g*' )  \n",
    "eixos.plot(x, 3 * x, 'b.' )  \n",
    "eixos.set_xlabel('eixo x')  \n",
    "eixos.set_ylabel('eixo y')  \n",
    "eixos.set_title('Título do grafico')\n",
    "```\n",
    "\n"
   ]
  },
  {
   "cell_type": "code",
   "execution_count": null,
   "metadata": {},
   "outputs": [],
   "source": []
  },
  {
   "cell_type": "markdown",
   "metadata": {},
   "source": [
    "**Múltiplos gráficos**\n",
    "\n",
    "Outra maneira de plotar diversos gráficos é utilizar a notação de orientação a objetos, identificado o número de linhas e colunas das imagens.\n",
    "\n",
    "**Exemplo**\n",
    "- Criando uma imagem com 4 gráficos, em 2 linhas e 2 colunas\n",
    "```python\n",
    "figura, e = plt.subplots(nrows=2, ncols=2)  \n",
    "e[0][0].plot(x,y,'g') #Gráfico na posição 0,0\n",
    "e[0][1].plot(x,y,'y') #Gráfico na posição 0,1\n",
    "e[1][0].plot(x,y,'r') #Gráfico na posição 1,0\n",
    "e[1][1].plot(x,y,'b') #Gráfico na posição 1,1\n",
    "```\n",
    "\n",
    "Execute e explique o resultado.\n",
    "\n"
   ]
  },
  {
   "cell_type": "code",
   "execution_count": null,
   "metadata": {},
   "outputs": [],
   "source": []
  },
  {
   "cell_type": "markdown",
   "metadata": {},
   "source": [
    "## Legendas\n",
    "\n",
    "O método `.legend()` possibilita mostrar a legenda na figura que possua múltiplos gráficos, indicando o conteúdo de cada gráfico. O conteúdo mostrado é informado pelo parâmetro `label`.  \n",
    "\n",
    "**Exemplo**\n",
    "- Figuras com legenda\n",
    "```python\n",
    "figura, eixos = plt.subplots()  \n",
    "eixos.plot(x, 2 * x, 'g*' , label='2 * x') #informa o conteúdo da legenda\n",
    "eixos.plot(x, 3 * x, 'b.' , label='3 * x') #informa o conteúdo da legenda \n",
    "eixos.set_xlabel('eixo x')  \n",
    "eixos.set_ylabel('eixo y')  \n",
    "eixos.set_title('Título do grafico')  \n",
    "eixos.legend()\n",
    "```"
   ]
  },
  {
   "cell_type": "code",
   "execution_count": null,
   "metadata": {},
   "outputs": [],
   "source": []
  },
  {
   "cell_type": "markdown",
   "metadata": {},
   "source": [
    "**Exercício**\n",
    "\n",
    "Faça uma figura com gráficos de duas equações de segundo grau, do tipo $ax^2 + bx + c$ .\n",
    "- Na eq. A: \n",
    "    - $a=10$ \n",
    "    - $b=20$ \n",
    "    - $c=30$\n",
    "- Na eq. B:  \n",
    "    - $a=5$ \n",
    "    - $b=20$ \n",
    "    - $c=10$\n",
    "- Utilize $x$ de $-100$ a $100$, com $1000$ pontos.\n",
    "- Inclua legenda de cada função plotada no gráfico."
   ]
  },
  {
   "cell_type": "code",
   "execution_count": null,
   "metadata": {},
   "outputs": [],
   "source": []
  },
  {
   "cell_type": "markdown",
   "metadata": {},
   "source": [
    "No método `.legend()`, o parâmetro `loc` pode ser utilizado para posicionar a legenda no gráfico\n",
    "\n",
    "**Exercício**\n",
    "\n",
    "- Inclua no método `legend` o parâmetro `loc=i`, variando os valores de `i` e observe o resultado. Inicie com `i=0` ."
   ]
  },
  {
   "cell_type": "markdown",
   "metadata": {},
   "source": [
    "## Salvando figuras\n",
    "\n",
    "O método savefig salva a figura, utilizando o formato de imagem passado como parametro no nome do arquivo\n",
    "\n",
    "```python\n",
    "fig.savefig('grafico.png')\n",
    "```"
   ]
  },
  {
   "cell_type": "code",
   "execution_count": null,
   "metadata": {},
   "outputs": [],
   "source": []
  },
  {
   "cell_type": "markdown",
   "metadata": {},
   "source": [
    "## Outros gráficos"
   ]
  },
  {
   "cell_type": "markdown",
   "metadata": {},
   "source": [
    "### Barras\n",
    "\n",
    "**Exemplo**  \n",
    "\n",
    "```python\n",
    "fig = plt.figure()\n",
    "linguagens = ['Python', 'Javascript', 'Java', 'C#', 'C/C++', 'R', 'PHP']\n",
    "usuarios   = [31.02,     8.41,        16.38,  6.52,  5.56,   4.26, 5.83 ]\n",
    "plt.bar(linguagens, usuarios)\n",
    "plt.show()\n",
    "```"
   ]
  },
  {
   "cell_type": "code",
   "execution_count": null,
   "metadata": {},
   "outputs": [],
   "source": []
  },
  {
   "cell_type": "markdown",
   "metadata": {},
   "source": [
    "Outras variações dos gráficos de barras também são bastante utilizadas, utilizando barras empilhadas e diferentes barras para expressar características de conjunto.\n",
    "\n",
    "**Exemplo**\n",
    "- Barras empilhadas\n",
    "\n",
    "```python\n",
    "fig = plt.figure()\n",
    "turmas   = ['T1', 'T2', 'T3', 'T4', 'T5'] #Turmas\n",
    "homens   = [25, 29, 11, 19, 26] #número de homens nas turmas\n",
    "mulheres = [16, 11, 20, 25, 4 ] #número de mulheres\n",
    "\n",
    "#plota as barras referente ao número de homens\n",
    "plt.bar(turmas, homens, label='Homens')  \n",
    "#plotas a parte das barras referente o número de mulheres\n",
    "#bottom indica acima de qual posição a barra deve ser plotada\n",
    "plt.bar(turmas, mulheres, bottom= homens, label='Mulheres')\n",
    "\n",
    "plt.legend() #mostra legenda\n",
    "plt.show() #mostra o gráfico\n",
    "```"
   ]
  },
  {
   "cell_type": "code",
   "execution_count": null,
   "metadata": {},
   "outputs": [],
   "source": []
  },
  {
   "cell_type": "markdown",
   "metadata": {},
   "source": [
    "### Histogramas\n",
    "\n",
    "Os histogramas são gráficos utilizados para representação de frequências de elementos em determinados conjuntos.\n",
    "\n",
    "**Exemplo**\n",
    "- Idades de alunos em uma turma  \n",
    "\n",
    "```python\n",
    "idades = [18, 17, 18, 19, 20, 16, 17, 21, 19, 23, 18, 24, 20, 20,  18, 17, 16, 20, 23, 22, 23, 16, 17, 18, 19, 18, 19, 18, 25, 19, 19, 18, 17, 16]\n",
    "ax = plt.hist(idades, bins=10)\n",
    "plt.show()\n",
    "```\n",
    "\n",
    "O parâmetro `bins` indica o tamanho do faixa das amostras de contagem que deve ser considerada. Valores maiores indicam mais precisão, e valores menores mais valores são considerados em uma mesma faixa.\n",
    "\n",
    "**Atividade**\n",
    "- teste o parâmetro `bins` com os valores apresentados a seguir, e explique o ocorrido.\n",
    "    - 2\n",
    "    - 5\n",
    "    - 30"
   ]
  },
  {
   "cell_type": "code",
   "execution_count": null,
   "metadata": {},
   "outputs": [],
   "source": []
  },
  {
   "cell_type": "markdown",
   "metadata": {},
   "source": [
    "Os histogramas também podem ser bidimensionais, onde as frequências são representadas por cores.\n",
    "\n",
    "**Exemplo**  \n",
    "\n",
    "```python\n",
    "idades  = [18, 17, 18, 19, 20, 16, 17, 21, 19, 23, 18, 24, 20, 20,  18, 17, 16, 20, 23, 22, 23, 16, 17, 18, 19, 18, 19, 18, 25, 19, 19, 18, 17, 16]\n",
    "alturas = [170, 162, 171, 172, 165, 174, 164, 164, 171, 166, 173, 159, 175, 158, 165, 155, 162, 158, 176, 179, 179, 179, 156, 156, 161, 178, 161, 173, 178, 174, 165, 175, 175, 162]\n",
    "ax = plt.hist2d(idades, alturas)\n",
    "ax = plt.colorbar() #barra de cores, para comparação de valores\n",
    "plt.show()\n",
    "```\n",
    "\n",
    "**Atividade**\n",
    "- Execute o exemplo.\n",
    "- Observando o gráfico, as pessoas com 23 e 24 anos do conjunto apresentado no exemplo, são mais altas ou mais baixas?"
   ]
  },
  {
   "cell_type": "code",
   "execution_count": null,
   "metadata": {},
   "outputs": [],
   "source": []
  },
  {
   "cell_type": "markdown",
   "metadata": {},
   "source": [
    "#### Imagens\n",
    "Histogramas de imagens são bastante conhecidos, visto que pela sua interpretação é possível obter informações das imagens como contraste e brilho, entre outros.\n",
    "\n",
    "Outra maneira de realizar um histograma é utilizar métodos da biblioteca PIL para contagem das frequências, e então utilizar gráficos de linhas para apresentar os valores do histograma.\n",
    "\n",
    "**Exemplo**  \n",
    "\n",
    "```python\n",
    "img = plt.figure()\n",
    "#carrega a imagem de uma URL como arquivo\n",
    "url='https://upload.wikimedia.org/wikipedia/commons/thumb/c/c3/Snowy_%C3%85reskutan_Ski_lift.jpg/640px-Snowy_%C3%85reskutan_Ski_lift.jpg' #link para a imagem\n",
    "f = urllib2.urlopen(url) #abre a imagem\n",
    "#abre a imagem\n",
    "imagem = Image.open(f)\n",
    "#mostra a imagem\n",
    "plt.imshow(imagem)\n",
    "img = plt.figure()\n",
    "#observa as frequências utilizando PIL\n",
    "hist = imagem.histogram() #retorna uma lista unidimensional. Biblioteca PIL já calcula valores de histograma\n",
    "#como são 3 canais, convém colocar cada canal em uma linha de um array numpy\n",
    "hist = np.array(hist).reshape((3,-1))\n",
    "#apresenta o histograma utilizando gráfico de linhas\n",
    "plt.plot(hist[0],'r') #red\n",
    "plt.plot(hist[1],'g') #green\n",
    "plt.plot(hist[2],'b') #blue\n",
    "plt.show()\n",
    "```"
   ]
  },
  {
   "cell_type": "code",
   "execution_count": null,
   "metadata": {},
   "outputs": [],
   "source": []
  },
  {
   "cell_type": "markdown",
   "metadata": {},
   "source": [
    "**Atividade** \n",
    "- Execute o exemplo acima.\n",
    "- As cores são predominantes em qual faixa de valores?\n",
    "    - Alta ou baixa?\n",
    "        - A imagem é clara ou escura?\n",
    "- Observe os dados retornados pelo método `.histogram()`. \n",
    "    - Qual é o *shape* dos dados?\n",
    "    - Plote um gráfico de linhas com este resultado (sem *reshape*), e compare com o resultado do exemplo."
   ]
  },
  {
   "cell_type": "code",
   "execution_count": null,
   "metadata": {},
   "outputs": [],
   "source": []
  },
  {
   "cell_type": "markdown",
   "metadata": {},
   "source": [
    "**Atividade**  \n",
    "\n",
    "- Execute o explique o código abaixo\n",
    "```python\n",
    "img = plt.figure()\n",
    "url='https://upload.wikimedia.org/wikipedia/commons/thumb/c/c3/Snowy_%C3%85reskutan_Ski_lift.jpg/640px-Snowy_%C3%85reskutan_Ski_lift.jpg'\n",
    "f = urllib2.urlopen(url)\n",
    "imagem = Image.open(f).convert('L')\n",
    "plt.imshow(imagem, cmap='gray')\n",
    "img = plt.figure()\n",
    "hist = imagem.histogram() \n",
    "plt.plot(hist,'k')\n",
    "plt.show()\n",
    "```\n",
    "    - Responda também:\n",
    "        - Qual é o *shape* dos dados?\n",
    "        - O que é o `.convert('L')`.\n",
    "        - Por que há uma única linha no histograma?"
   ]
  },
  {
   "cell_type": "code",
   "execution_count": null,
   "metadata": {},
   "outputs": [],
   "source": []
  },
  {
   "cell_type": "markdown",
   "metadata": {},
   "source": [
    "**Atividade**\n",
    "- No exemplo, modifique a URL da imagem e obverve o histograma.\n",
    "    - `https://upload.wikimedia.org/wikipedia/commons/thumb/2/22/New_York_City_at_night_HDR.jpg/640px-New_York_City_at_night_HDR.jpg`\n",
    "    - `https://upload.wikimedia.org/wikipedia/commons/thumb/5/58/Vultures_in_the_nest%2C_Orchha%2C_MP%2C_India.jpg/640px-Vultures_in_the_nest%2C_Orchha%2C_MP%2C_India.jpg`\n",
    "    - `https://upload.wikimedia.org/wikipedia/commons/thumb/3/33/Dead_Sea_sunrise.jpg/640px-Dead_Sea_sunrise.jpg`\n",
    "    - `https://upload.wikimedia.org/wikipedia/commons/thumb/f/f5/Lanz_Bulldog_gets_started.JPG/480px-Lanz_Bulldog_gets_started.JPG`  \n",
    "    \n",
    "- Obtenha três imagens, o observe seu histograma."
   ]
  },
  {
   "cell_type": "code",
   "execution_count": null,
   "metadata": {},
   "outputs": [],
   "source": []
  },
  {
   "cell_type": "markdown",
   "metadata": {},
   "source": [
    "### Dispersão (*scatter*)\n",
    "\n",
    "Os gráficos de dispersão consistem em apresentar pontos em um plano. Os pontos podem ser configurados de acordo com a necessidade.\n",
    "\n",
    "**Exemplo**\n",
    "\n",
    "```python\n",
    "fig = plt.figure()\n",
    "xa = np.random.randint(0,100, size=(100))\n",
    "ya = np.random.randint(0,100, size=(100))\n",
    "xb = np.random.randint(10,30, size=(20))\n",
    "yb = np.random.randint(10,30, size=(20))\n",
    "xc = np.random.randint(40,90, size=(40))\n",
    "yc = np.random.randint(40,90, size=(40))\n",
    "\n",
    "plt.scatter(xa,ya, c='c', label='A')\n",
    "plt.scatter(xb,yb, c='k', label='B')\n",
    "plt.scatter(xc,yc, c='r', label='C')\n",
    "plt.legend()\n",
    "plt.show()\n",
    "```"
   ]
  },
  {
   "cell_type": "code",
   "execution_count": null,
   "metadata": {},
   "outputs": [],
   "source": []
  },
  {
   "cell_type": "markdown",
   "metadata": {},
   "source": [
    "### Pizza\n",
    "\n",
    "O gráfico de pizza é utilizado para expressar o quanto determinadas quantidades fazem parte de um todo.\n",
    "\n",
    "\n",
    "**Exemplo**  \n",
    "\n",
    "```python\n",
    "fig = plt.figure()\n",
    "linguagens = ['Python', 'Javascript', 'Java', 'C#', 'C/C++', 'R', 'PHP' ]\n",
    "porcent =    [31.02,      8.41,         16.38,   6.52, 5.56,    4.26, 5.83 ]\n",
    "linguagens.append('Outras')\n",
    "porcent.append(100 - sum(porcent))\n",
    "ax = plt.pie(porcent, labels=linguagens)\n",
    "plt.show()\n",
    "```\n",
    "\n"
   ]
  },
  {
   "cell_type": "code",
   "execution_count": null,
   "metadata": {},
   "outputs": [],
   "source": []
  },
  {
   "cell_type": "markdown",
   "metadata": {},
   "source": [
    "### Boxplot\n",
    "\n",
    "O gráfico de boxplot, ou diagrama de caixa consiste permite observar como os dados estão distribuídos. Em sua base. Os dados do conjunto são dividos em 4 partes, onde cada parte (*quartil*) corresponde a 25% dos dados do conjunto. No gráfico são mostrados onde estão os valores correspondentes a cada quartil, e sua distribuição pelo conjunto. As marcações superiores e inferiores são valores considerados discrepantes do conjunto, chamados de *outliers*.\n",
    "\n",
    "\n",
    "**Exemplo**  \n",
    "\n",
    "```python\n",
    "data  = np.random.randint(10, 30, 200) \n",
    "data1 = np.append(data, 45)\n",
    "data2 = np.append(data, 0)\n",
    "data3 = np.append(data, [45, -5])\n",
    "fig = plt.figure() \n",
    "plt.boxplot([data, data1, data2, data3]) \n",
    "plt.show() \n",
    "```\n"
   ]
  },
  {
   "cell_type": "code",
   "execution_count": null,
   "metadata": {},
   "outputs": [],
   "source": []
  },
  {
   "cell_type": "markdown",
   "metadata": {},
   "source": [
    "## Referências\n",
    "\n",
    "\n",
    "[MATPLOTLIB. Matploplib: Python plotting.](https://matplotlib.org/)\n",
    "\n",
    "**Outros materiais**\n",
    "\n",
    "[MATPLOTLIB. Sample plots in Matplotlib](https://matplotlib.org/tutorials/introductory/sample_plots.html).  \n",
    "[MATPLOTLIB.  matplotlib.pyplot.hist](https://matplotlib.org/api/_as_gen/matplotlib.pyplot.hist.html).  \n",
    "[MATPLOTLIB. matplotlib.pyplot.pie](https://matplotlib.org/api/_as_gen/matplotlib.pyplot.pie.html#matplotlib.pyplot.pie)  \n",
    "\n",
    "**Fontes das imagens**  \n",
    "\n",
    "[New York City at night HDR](https://commons.wikimedia.org/wiki/File:New_York_City_at_night_HDR.jpg)  \n",
    "[Snowy Åreskutan Ski lift](https://commons.wikimedia.org/wiki/File:Snowy_Åreskutan_Ski_lift.jpg#file)  \n",
    "[Vultures in the nest, Orchha, MP, India](https://commons.wikimedia.org/wiki/File:Vultures_in_the_nest,_Orchha,_MP,_India.jpg)  \n",
    "[Dead Sea sunrise](https://upload.wikimedia.org/wikipedia/commons/thumb/3/33/Dead_Sea_sunrise.jpg/640px-Dead_Sea_sunrise.jpg)  \n",
    "[Lanz Bulldog gets started](https://upload.wikimedia.org/wikipedia/commons/thumb/f/f5/Lanz_Bulldog_gets_started.JPG/480px-Lanz_Bulldog_gets_started.JPG)  \n",
    "\n"
   ]
  },
  {
   "cell_type": "markdown",
   "metadata": {},
   "source": [
    " "
   ]
  },
  {
   "cell_type": "markdown",
   "metadata": {},
   "source": [
    " "
   ]
  }
 ],
 "metadata": {
  "kernelspec": {
   "display_name": "Python 3",
   "language": "python",
   "name": "python3"
  },
  "language_info": {
   "codemirror_mode": {
    "name": "ipython",
    "version": 3
   },
   "file_extension": ".py",
   "mimetype": "text/x-python",
   "name": "python",
   "nbconvert_exporter": "python",
   "pygments_lexer": "ipython3",
   "version": "3.6.8"
  }
 },
 "nbformat": 4,
 "nbformat_minor": 2
}
