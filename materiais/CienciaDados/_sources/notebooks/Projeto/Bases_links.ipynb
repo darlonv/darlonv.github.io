{
 "cells": [
  {
   "cell_type": "markdown",
   "metadata": {},
   "source": [
    "# Bases de dados\n",
    "\n",
    "## Portais públicos\n",
    "[Portal Brasileiro de dados abertos](https://dados.gov.br)  \n",
    "[Polícia Rodoviária Federal](https://portal.prf.gov.br/dados-abertos)  \n",
    "[Dados Abertos do Ministério da Justiça](https://www.justica.gov.br/dados-abertos/dados)  \n",
    "\n",
    "##  Sistemas de busca\n",
    "\n",
    "[Google Dataset Search](https://datasetsearch.research.google.com)  \n",
    "[Conjuntos de dados públicos do Google Cloud](https://cloud.google.com/public-datasets/)  \n",
    "[Microsoft Research Open Data](https://msropendata.com/)  \n",
    "\n",
    "## Outras fontes\n",
    "\n",
    "[Academic Torrents](http://academictorrents.com/)  \n",
    "[Github - Awesome Public Datasets](https://github.com/awesomedata/awesome-public-datasets)  \n",
    "[Kaggle - Public Datasets](https://www.kaggle.com/datasets)  "
   ]
  }
 ],
 "metadata": {
  "kernelspec": {
   "display_name": "Python 3",
   "language": "python",
   "name": "python3"
  },
  "language_info": {
   "codemirror_mode": {
    "name": "ipython",
    "version": 3
   },
   "file_extension": ".py",
   "mimetype": "text/x-python",
   "name": "python",
   "nbconvert_exporter": "python",
   "pygments_lexer": "ipython3",
   "version": "3.6.8"
  }
 },
 "nbformat": 4,
 "nbformat_minor": 4
}
