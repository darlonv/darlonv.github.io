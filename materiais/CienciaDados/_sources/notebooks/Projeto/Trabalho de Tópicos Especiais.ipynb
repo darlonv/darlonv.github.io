{
 "cells": [
  {
   "cell_type": "markdown",
   "metadata": {},
   "source": [
    "# Trabalho de Tópicos Especiais (TEI e TEP)"
   ]
  },
  {
   "cell_type": "markdown",
   "metadata": {},
   "source": [
    "## Informações\n",
    "- O trabalho é individual;\n",
    "- Consiste na análise e predição, utilizando conceitos aprendidos na disciplina;\n",
    "- O aluno deverá escolher uma base de dados, de maneira que não seja escolhida por outro aluno;\n",
    "- A base escolhida deve ser registrada na planilha compartilhada, divulgada no Google Classroom (Link [aqui](https://docs.google.com/spreadsheets/d/1q_-w9qa_F0oIWoT6JBI9ZUxCuywgg9OP3I8YGWFKUpo/edit?usp=sharing) também);\n",
    "- O material entregue deverá ser desenvolvido no Google Colaboratory ou Jupyter, seguindo o modelo disponibilizado;\n",
    "- As atividades a serem desenvolvidas consistem em duas fases:\n",
    "    - Fase 1: \n",
    "        - Corresponde ao terceiro bimestre;\n",
    "        - Deverá ser feita a análise da base de dados escolhida, utilizando conceitos aprendidos na disciplina;\n",
    "    - Fase 2: \n",
    "        - Corresponde ao quarto bimestre;\n",
    "        - Deverá ser feita uma predição de dados utilizando a base escolhida. Podem ser utilizados outros métodos de predição diferentes dos utilizados em sala. Neste caso,  o trabalho deve conter a explicação do funcionamento do método escolhido;\n",
    "\n",
    "- A Fase 2 consiste na entrega do mesmo trabalho da Fase 1, adicionando as predições.\n",
    "\n",
    "## Datas e prazos\n",
    "- Fase 1:\n",
    "    - Análise da base da de dados;\n",
    "    - Data de entrega: 12/01/2021;\n",
    "    - Data da apresentação para TEI (3º ano): 19/01/2021;\n",
    "    - Data da apresentação para TEP (4º ano): 20/01/2021.\n",
    "- Fase 2:\n",
    "    - Predições de informações utilizando a base de dados;\n",
    "    - Data de entrega: 31/01/2021;\n",
    "    - Data da apresentação para TEI (3º ano): 02/02/2021;\n",
    "    - Data da apresentação para TEP (4º ano): 03/02/2021.\n",
    "    \n",
    "## Apresentação    \n",
    "- As apresentações consistem em explicar o trabalho desenvolvido. Cada aluno terá 5 minutos para comentar sobre o trabalho, em horário pré-estabelecido. Aqueles que não puderem apresentar devem enviar um vídeo de até 5 minutos;\n",
    "- Não há necessidade de preparar slides. O próprio trabalho desenvolvido deve ser utilizado na apresentação.\n",
    "\n",
    "## Critérios de avaliação\n",
    "\n",
    "Os critérios abaixo descritos valem para ambas as fases do trabalho.\n",
    "\n",
    "### Trabalho\n",
    "- Conformidade com a norma culta da língua portuguesa;\n",
    "- Uso correto dos conceitos aprendidos em sala (análises, estatísticas, descrições, leituras, gráficos...);\n",
    "- Descrições das atividades desenvolvidas no código e texto(explicações de código, funções...);\n",
    "- Uso de referências aos materiais utilizados;\n",
    "- Conformidade com a estrutura do trabalho (introdução, desenvolvimento, conclusão...);\n",
    "- Discussão dos resultados obtidos;\n",
    "- Correta especificação e descrição da base. Definir corretamente cada campo na planilha de registro da base escolhida e explicar no trabalho o que está contido na base, seus campos, sua fonte e outras características;\n",
    "- Referência e citação das bases utilizadas, de acordo com a ABNT;\n",
    "- Cópias e plágios não serão tolerados. Para este caso, conceito D.\n",
    "\n",
    "### Apresentação\n",
    "- Adequação ao tempo;\n",
    "- Domínio do assunto;\n",
    "- Explicação e discussão do trabalho.\n"
   ]
  },
  {
   "cell_type": "markdown",
   "metadata": {},
   "source": [
    " "
   ]
  }
 ],
 "metadata": {
  "kernelspec": {
   "display_name": "Python 3",
   "language": "python",
   "name": "python3"
  },
  "language_info": {
   "codemirror_mode": {
    "name": "ipython",
    "version": 3
   },
   "file_extension": ".py",
   "mimetype": "text/x-python",
   "name": "python",
   "nbconvert_exporter": "python",
   "pygments_lexer": "ipython3",
   "version": "3.6.8"
  }
 },
 "nbformat": 4,
 "nbformat_minor": 4
}
