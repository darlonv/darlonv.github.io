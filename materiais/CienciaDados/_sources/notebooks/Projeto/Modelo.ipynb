{
 "cells": [
  {
   "cell_type": "markdown",
   "metadata": {},
   "source": [
    "# Relatório\n",
    "\n",
    "*Este é um modelo de relatório a ser utilizado em trabalhos desenvolvidos, utilizando ferramentas como Jupyter o Google Colaboratory.*\n",
    "\n",
    "*O texto segue a linguagem de marcação Markdown. Para mais informações, os links abaixo podem ser consultados.*  \n",
    "*- [Markdown Tutorial](https://github.com/luong-komorebi/Markdown-Tutorial/blob/master/README_pt-BR.md)*  \n",
    "*- [Markdown – Um guia para iniciantes](https://produtive.me/guia/markdown-um-guia-para-iniciantes/)*  \n",
    "*- [Markdown Cheat Sheet](https://www.markdownguide.org/cheat-sheet/#downloads)*  \n",
    "\n",
    "\n",
    "*Após a produção do trabalho, remova as instruções e exemplos, apresentados em itálico.*\n",
    "\n",
    "Título: **Título do trabalho aqui**\n",
    "\n",
    "## Dados do curso\n",
    "- Curso: \n",
    "- Disciplina:\n",
    "- Ano:\n",
    "- Professor: Darlon Vasata\n",
    "\n",
    "## Dados do aluno\n",
    "- Nome: "
   ]
  },
  {
   "cell_type": "markdown",
   "metadata": {},
   "source": [
    "# Introdução"
   ]
  },
  {
   "cell_type": "markdown",
   "metadata": {},
   "source": [
    "*Aqui deve constar o contexto do trabalho, sua importância e o problema a ser\n",
    "resolvido. Também deve ser incluído um resumo sobre o conteúdo trabalhado.\n",
    "Podem ser incluídos gráficos, figuras, descrições, tabelas.*"
   ]
  },
  {
   "cell_type": "markdown",
   "metadata": {},
   "source": []
  },
  {
   "cell_type": "markdown",
   "metadata": {},
   "source": [
    "# Objetivos"
   ]
  },
  {
   "cell_type": "markdown",
   "metadata": {},
   "source": [
    "*Aqui deve ser colocado o objetivo da atividade desenvolvida.*"
   ]
  },
  {
   "cell_type": "markdown",
   "metadata": {},
   "source": []
  },
  {
   "cell_type": "markdown",
   "metadata": {},
   "source": [
    "# Materiais e métodos"
   ]
  },
  {
   "cell_type": "markdown",
   "metadata": {},
   "source": [
    "*Aqui devem ser especificados os materiais e equipamento que foram utilizados, como\n",
    "computador, softwares, protoboards, roteadores, switches, cabos, osciloscópios,\n",
    "impressoras, etc.\n",
    "Também deve ser descrito o procedimento que foi realizado o experimento, como ele\n",
    "foi conduzido, e, se for caso, o que é esperado e porquê.\n",
    "Podem ser incluídos gráficos, figuras, descrições, tabelas.*"
   ]
  },
  {
   "cell_type": "markdown",
   "metadata": {},
   "source": []
  },
  {
   "cell_type": "markdown",
   "metadata": {},
   "source": [
    "# Desenvolvimento"
   ]
  },
  {
   "cell_type": "markdown",
   "metadata": {},
   "source": [
    "*Aqui deverá ser colocado o código referente ao trabalho, sempre descrevendo o código e cada passo realizado. Utize quantas células forem necessárias, com código ou Markdown.*"
   ]
  },
  {
   "cell_type": "code",
   "execution_count": 1,
   "metadata": {},
   "outputs": [],
   "source": [
    "#Bibliotecas"
   ]
  },
  {
   "cell_type": "code",
   "execution_count": 2,
   "metadata": {},
   "outputs": [],
   "source": [
    "#Variáveis"
   ]
  },
  {
   "cell_type": "code",
   "execution_count": 5,
   "metadata": {},
   "outputs": [],
   "source": [
    "#Códigos"
   ]
  },
  {
   "cell_type": "code",
   "execution_count": 4,
   "metadata": {},
   "outputs": [],
   "source": [
    "#Resultados"
   ]
  },
  {
   "cell_type": "markdown",
   "metadata": {},
   "source": [
    "# Resultados e discussões"
   ]
  },
  {
   "cell_type": "markdown",
   "metadata": {},
   "source": [
    "*Incluir aqui os resultados obtidos, e suas explicações. Gráficos sobre os resultados obtidos podem ser colocados aqui. Também podem ser incluídas células com códigos que geram gráficos, p.ex.*"
   ]
  },
  {
   "cell_type": "markdown",
   "metadata": {},
   "source": []
  },
  {
   "cell_type": "markdown",
   "metadata": {},
   "source": [
    "# Conclusão"
   ]
  },
  {
   "cell_type": "markdown",
   "metadata": {},
   "source": [
    "*Aqui deve ser descrito o que foi concluído com o trabalho.*"
   ]
  },
  {
   "cell_type": "markdown",
   "metadata": {},
   "source": []
  },
  {
   "cell_type": "markdown",
   "metadata": {},
   "source": [
    "# Referências"
   ]
  },
  {
   "cell_type": "markdown",
   "metadata": {},
   "source": [
    "*Incluir aqui as referências bibliográficas. Utilizar links para os materiais e utilizar as normas para referências da ABNT.*\n",
    "\n",
    "[*CONE, M. Markdown Cheat Sheet: A quick reference to the Markdown syntax. Markdownguide.org, 2020.*](https://www.markdownguide.org/cheat-sheet/#downloads)  \n",
    "[*FREELA, D. Markdown – Um guia para iniciantes. Produtive.me, 2019.*](https://produtive.me/guia/markdown-um-guia-para-iniciantes/)  \n"
   ]
  },
  {
   "cell_type": "markdown",
   "metadata": {},
   "source": [
    " "
   ]
  }
 ],
 "metadata": {
  "kernelspec": {
   "display_name": "Python 3",
   "language": "python",
   "name": "python3"
  },
  "language_info": {
   "codemirror_mode": {
    "name": "ipython",
    "version": 3
   },
   "file_extension": ".py",
   "mimetype": "text/x-python",
   "name": "python",
   "nbconvert_exporter": "python",
   "pygments_lexer": "ipython3",
   "version": "3.6.8"
  }
 },
 "nbformat": 4,
 "nbformat_minor": 4
}
