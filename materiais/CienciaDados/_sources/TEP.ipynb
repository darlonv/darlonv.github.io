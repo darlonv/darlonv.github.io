{
 "cells": [
  {
   "cell_type": "markdown",
   "metadata": {},
   "source": [
    "# Tópicos Especiais em Programação"
   ]
  },
  {
   "cell_type": "markdown",
   "metadata": {},
   "source": [
    "## Dados\n",
    "- Curso: Técnico em Informática\n",
    "- Período: quarto ano\n",
    "- Carga horária: (67 h/r)\n",
    "- Aulas semanais: 2"
   ]
  },
  {
   "cell_type": "markdown",
   "metadata": {},
   "source": [
    "## Organização de conteúdos\n",
    "- Conteúdo aplicado: Ciência de dados"
   ]
  },
  {
   "cell_type": "markdown",
   "metadata": {},
   "source": [
    "### 1º Bimestre\n",
    "- Python\n",
    "    - Arquivos CSV\n",
    "    - Manipulação de imagens\n",
    "- Numpy\n",
    "- Pandas\n",
    "- Gráficos\n",
    "    - Matplotlib\n",
    "    - Seaborn"
   ]
  },
  {
   "cell_type": "markdown",
   "metadata": {},
   "source": [
    "### 2º bimestre\n",
    "- Estatística básica\n",
    "    - Média\n",
    "    - Mediana\n",
    "    - Variância\n",
    "    - Desvio padrão\n",
    "- Regressão linear\n",
    "- Regressão logística\n",
    "- Agrupamento\n",
    "    - KMeans"
   ]
  },
  {
   "cell_type": "markdown",
   "metadata": {},
   "source": [
    "### 3º bimestre\n",
    "- Redes Neurais Artificiais\n"
   ]
  },
  {
   "cell_type": "markdown",
   "metadata": {},
   "source": [
    "### 4º bimestre\n",
    "- Projeto final da disciplina\n",
    "    - Apresentação\n"
   ]
  },
  {
   "cell_type": "markdown",
   "metadata": {},
   "source": [
    "## Bibliografia"
   ]
  },
  {
   "cell_type": "markdown",
   "metadata": {},
   "source": []
  }
 ],
 "metadata": {
  "kernelspec": {
   "display_name": "Python 3",
   "language": "python",
   "name": "python3"
  },
  "language_info": {
   "codemirror_mode": {
    "name": "ipython",
    "version": 3
   },
   "file_extension": ".py",
   "mimetype": "text/x-python",
   "name": "python",
   "nbconvert_exporter": "python",
   "pygments_lexer": "ipython3",
   "version": "3.6.8"
  }
 },
 "nbformat": 4,
 "nbformat_minor": 2
}
